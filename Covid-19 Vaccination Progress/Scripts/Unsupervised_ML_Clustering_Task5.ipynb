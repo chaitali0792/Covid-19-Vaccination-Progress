{
 "cells": [
  {
   "cell_type": "markdown",
   "id": "2b1c5298",
   "metadata": {},
   "source": [
    "# 6.5 Machine Learning Part 2"
   ]
  },
  {
   "cell_type": "markdown",
   "id": "a78679a4",
   "metadata": {},
   "source": [
    "# Contents\n",
    "\n",
    "1. Importing libraries\n",
    "2. Importing data and renaming columns\n",
    "3. The elbow technique\n",
    "4. k-means clustering"
   ]
  },
  {
   "cell_type": "markdown",
   "id": "ad8d8095",
   "metadata": {},
   "source": [
    "# 1. Importing Libraries"
   ]
  },
  {
   "cell_type": "code",
   "execution_count": 1,
   "id": "405a35f2",
   "metadata": {},
   "outputs": [],
   "source": [
    "# Importing libraries\n",
    "import pandas as pd\n",
    "import numpy as np\n",
    "import seaborn as sns\n",
    "sns.set()\n",
    "from sklearn.preprocessing import StandardScaler\n",
    "import matplotlib\n",
    "import matplotlib.pyplot as plt\n",
    "import os\n",
    "import sklearn\n",
    "from sklearn.cluster import KMeans # Here is where you import the k-means algorithm from scikit-learn.\n",
    "import pylab as pl # PyLab is a convenience module that bulk imports matplotlib."
   ]
  },
  {
   "cell_type": "code",
   "execution_count": 2,
   "id": "cf2b07f2",
   "metadata": {},
   "outputs": [],
   "source": [
    "# This option ensures the graphs you create are displayed in your notebook without the need to \"call\" them specifically.\n",
    "\n",
    "%matplotlib inline"
   ]
  },
  {
   "cell_type": "markdown",
   "id": "d6f3a213",
   "metadata": {},
   "source": [
    "# 2. Importing Data"
   ]
  },
  {
   "cell_type": "code",
   "execution_count": 3,
   "id": "8aa160d8",
   "metadata": {},
   "outputs": [],
   "source": [
    "#Creating common folder path\n",
    "path = r'C:\\Users\\Mukund\\Desktop\\Career Foundry\\Covid-19 Vaccination Progress' "
   ]
  },
  {
   "cell_type": "code",
   "execution_count": 4,
   "id": "5900e1c1",
   "metadata": {
    "scrolled": true
   },
   "outputs": [
    {
     "data": {
      "text/plain": [
       "'C:\\\\Users\\\\Mukund\\\\Desktop\\\\Career Foundry\\\\Covid-19 Vaccination Progress'"
      ]
     },
     "execution_count": 4,
     "metadata": {},
     "output_type": "execute_result"
    }
   ],
   "source": [
    "path"
   ]
  },
  {
   "cell_type": "code",
   "execution_count": 5,
   "id": "39f48b40",
   "metadata": {},
   "outputs": [],
   "source": [
    "# Importing Corona vaccination Data\n",
    "df_CVN = pd.read_csv(os.path.join(path, 'Data', 'Prepared_Data', 'Country_Vaccinations_Checked.csv'), index_col = False)"
   ]
  },
  {
   "cell_type": "code",
   "execution_count": 6,
   "id": "ea850e86",
   "metadata": {},
   "outputs": [
    {
     "data": {
      "text/plain": [
       "(36063, 15)"
      ]
     },
     "execution_count": 6,
     "metadata": {},
     "output_type": "execute_result"
    }
   ],
   "source": [
    "df_CVN.shape"
   ]
  },
  {
   "cell_type": "code",
   "execution_count": 7,
   "id": "7986927e",
   "metadata": {},
   "outputs": [
    {
     "data": {
      "text/html": [
       "<div>\n",
       "<style scoped>\n",
       "    .dataframe tbody tr th:only-of-type {\n",
       "        vertical-align: middle;\n",
       "    }\n",
       "\n",
       "    .dataframe tbody tr th {\n",
       "        vertical-align: top;\n",
       "    }\n",
       "\n",
       "    .dataframe thead th {\n",
       "        text-align: right;\n",
       "    }\n",
       "</style>\n",
       "<table border=\"1\" class=\"dataframe\">\n",
       "  <thead>\n",
       "    <tr style=\"text-align: right;\">\n",
       "      <th></th>\n",
       "      <th>Country</th>\n",
       "      <th>iso_code</th>\n",
       "      <th>Date</th>\n",
       "      <th>Total_No_Of_vaccinations</th>\n",
       "      <th>Total_No_People_Vaccinated</th>\n",
       "      <th>Total_No_Of_People_Fully_Vaccinated</th>\n",
       "      <th>daily_vaccinations_raw</th>\n",
       "      <th>daily_vaccinations</th>\n",
       "      <th>total_vaccinations_per_hundred</th>\n",
       "      <th>Total_No_People_Vaccinated_Per_Hundred</th>\n",
       "      <th>Total_No_OF_People_Fully_Vaccinated_Per_Hundred</th>\n",
       "      <th>daily_vaccinations_per_million</th>\n",
       "      <th>vaccines</th>\n",
       "      <th>source_name</th>\n",
       "      <th>source_website</th>\n",
       "    </tr>\n",
       "  </thead>\n",
       "  <tbody>\n",
       "    <tr>\n",
       "      <th>0</th>\n",
       "      <td>Afghanistan</td>\n",
       "      <td>AFG</td>\n",
       "      <td>22/02/2021</td>\n",
       "      <td>0.0</td>\n",
       "      <td>0.0</td>\n",
       "      <td>NaN</td>\n",
       "      <td>NaN</td>\n",
       "      <td>NaN</td>\n",
       "      <td>0.0</td>\n",
       "      <td>0.0</td>\n",
       "      <td>NaN</td>\n",
       "      <td>NaN</td>\n",
       "      <td>Johnson&amp;Johnson, Oxford/AstraZeneca, Pfizer/Bi...</td>\n",
       "      <td>World Health Organization</td>\n",
       "      <td>https://covid19.who.int/</td>\n",
       "    </tr>\n",
       "    <tr>\n",
       "      <th>1</th>\n",
       "      <td>Afghanistan</td>\n",
       "      <td>AFG</td>\n",
       "      <td>23/02/2021</td>\n",
       "      <td>NaN</td>\n",
       "      <td>NaN</td>\n",
       "      <td>NaN</td>\n",
       "      <td>NaN</td>\n",
       "      <td>1367.0</td>\n",
       "      <td>NaN</td>\n",
       "      <td>NaN</td>\n",
       "      <td>NaN</td>\n",
       "      <td>35.0</td>\n",
       "      <td>Johnson&amp;Johnson, Oxford/AstraZeneca, Pfizer/Bi...</td>\n",
       "      <td>World Health Organization</td>\n",
       "      <td>https://covid19.who.int/</td>\n",
       "    </tr>\n",
       "    <tr>\n",
       "      <th>2</th>\n",
       "      <td>Afghanistan</td>\n",
       "      <td>AFG</td>\n",
       "      <td>24/02/2021</td>\n",
       "      <td>NaN</td>\n",
       "      <td>NaN</td>\n",
       "      <td>NaN</td>\n",
       "      <td>NaN</td>\n",
       "      <td>1367.0</td>\n",
       "      <td>NaN</td>\n",
       "      <td>NaN</td>\n",
       "      <td>NaN</td>\n",
       "      <td>35.0</td>\n",
       "      <td>Johnson&amp;Johnson, Oxford/AstraZeneca, Pfizer/Bi...</td>\n",
       "      <td>World Health Organization</td>\n",
       "      <td>https://covid19.who.int/</td>\n",
       "    </tr>\n",
       "    <tr>\n",
       "      <th>3</th>\n",
       "      <td>Afghanistan</td>\n",
       "      <td>AFG</td>\n",
       "      <td>25/02/2021</td>\n",
       "      <td>NaN</td>\n",
       "      <td>NaN</td>\n",
       "      <td>NaN</td>\n",
       "      <td>NaN</td>\n",
       "      <td>1367.0</td>\n",
       "      <td>NaN</td>\n",
       "      <td>NaN</td>\n",
       "      <td>NaN</td>\n",
       "      <td>35.0</td>\n",
       "      <td>Johnson&amp;Johnson, Oxford/AstraZeneca, Pfizer/Bi...</td>\n",
       "      <td>World Health Organization</td>\n",
       "      <td>https://covid19.who.int/</td>\n",
       "    </tr>\n",
       "    <tr>\n",
       "      <th>4</th>\n",
       "      <td>Afghanistan</td>\n",
       "      <td>AFG</td>\n",
       "      <td>26/02/2021</td>\n",
       "      <td>NaN</td>\n",
       "      <td>NaN</td>\n",
       "      <td>NaN</td>\n",
       "      <td>NaN</td>\n",
       "      <td>1367.0</td>\n",
       "      <td>NaN</td>\n",
       "      <td>NaN</td>\n",
       "      <td>NaN</td>\n",
       "      <td>35.0</td>\n",
       "      <td>Johnson&amp;Johnson, Oxford/AstraZeneca, Pfizer/Bi...</td>\n",
       "      <td>World Health Organization</td>\n",
       "      <td>https://covid19.who.int/</td>\n",
       "    </tr>\n",
       "  </tbody>\n",
       "</table>\n",
       "</div>"
      ],
      "text/plain": [
       "       Country iso_code        Date  Total_No_Of_vaccinations  \\\n",
       "0  Afghanistan      AFG  22/02/2021                       0.0   \n",
       "1  Afghanistan      AFG  23/02/2021                       NaN   \n",
       "2  Afghanistan      AFG  24/02/2021                       NaN   \n",
       "3  Afghanistan      AFG  25/02/2021                       NaN   \n",
       "4  Afghanistan      AFG  26/02/2021                       NaN   \n",
       "\n",
       "   Total_No_People_Vaccinated  Total_No_Of_People_Fully_Vaccinated  \\\n",
       "0                         0.0                                  NaN   \n",
       "1                         NaN                                  NaN   \n",
       "2                         NaN                                  NaN   \n",
       "3                         NaN                                  NaN   \n",
       "4                         NaN                                  NaN   \n",
       "\n",
       "   daily_vaccinations_raw  daily_vaccinations  total_vaccinations_per_hundred  \\\n",
       "0                     NaN                 NaN                             0.0   \n",
       "1                     NaN              1367.0                             NaN   \n",
       "2                     NaN              1367.0                             NaN   \n",
       "3                     NaN              1367.0                             NaN   \n",
       "4                     NaN              1367.0                             NaN   \n",
       "\n",
       "   Total_No_People_Vaccinated_Per_Hundred  \\\n",
       "0                                     0.0   \n",
       "1                                     NaN   \n",
       "2                                     NaN   \n",
       "3                                     NaN   \n",
       "4                                     NaN   \n",
       "\n",
       "   Total_No_OF_People_Fully_Vaccinated_Per_Hundred  \\\n",
       "0                                              NaN   \n",
       "1                                              NaN   \n",
       "2                                              NaN   \n",
       "3                                              NaN   \n",
       "4                                              NaN   \n",
       "\n",
       "   daily_vaccinations_per_million  \\\n",
       "0                             NaN   \n",
       "1                            35.0   \n",
       "2                            35.0   \n",
       "3                            35.0   \n",
       "4                            35.0   \n",
       "\n",
       "                                            vaccines  \\\n",
       "0  Johnson&Johnson, Oxford/AstraZeneca, Pfizer/Bi...   \n",
       "1  Johnson&Johnson, Oxford/AstraZeneca, Pfizer/Bi...   \n",
       "2  Johnson&Johnson, Oxford/AstraZeneca, Pfizer/Bi...   \n",
       "3  Johnson&Johnson, Oxford/AstraZeneca, Pfizer/Bi...   \n",
       "4  Johnson&Johnson, Oxford/AstraZeneca, Pfizer/Bi...   \n",
       "\n",
       "                 source_name            source_website  \n",
       "0  World Health Organization  https://covid19.who.int/  \n",
       "1  World Health Organization  https://covid19.who.int/  \n",
       "2  World Health Organization  https://covid19.who.int/  \n",
       "3  World Health Organization  https://covid19.who.int/  \n",
       "4  World Health Organization  https://covid19.who.int/  "
      ]
     },
     "execution_count": 7,
     "metadata": {},
     "output_type": "execute_result"
    }
   ],
   "source": [
    "df_CVN.head()"
   ]
  },
  {
   "cell_type": "code",
   "execution_count": 8,
   "id": "a78c26ff",
   "metadata": {},
   "outputs": [],
   "source": [
    "# Renaming the column names\n",
    "df_CVN.rename(columns = {'Total_No_Of_vaccinations':'Total_Vaccinations',\n",
    "                        'Total_No_People_Vaccinated':'Total_Ppl_Vaccinated', 'Total_No_Of_People_Fully_Vaccinated':'Total_Ppl_Fully_Vaccinated',\n",
    "                         'Total_No_People_Vaccinated_Per_Hundred':'Total_ppl_Vaccinated_Per_Hundred',\n",
    "                         'Total_No_OF_People_Fully_Vaccinated_Per_Hundred':'Total_ppl_Fully_Vaccinated_Per_Hundred'\n",
    "                        }, inplace = True)"
   ]
  },
  {
   "cell_type": "code",
   "execution_count": 9,
   "id": "17dc92a8",
   "metadata": {},
   "outputs": [
    {
     "data": {
      "text/plain": [
       "Index(['Country', 'iso_code', 'Date', 'Total_Vaccinations',\n",
       "       'Total_Ppl_Vaccinated', 'Total_Ppl_Fully_Vaccinated',\n",
       "       'daily_vaccinations_raw', 'daily_vaccinations',\n",
       "       'total_vaccinations_per_hundred', 'Total_ppl_Vaccinated_Per_Hundred',\n",
       "       'Total_ppl_Fully_Vaccinated_Per_Hundred',\n",
       "       'daily_vaccinations_per_million', 'vaccines', 'source_name',\n",
       "       'source_website'],\n",
       "      dtype='object')"
      ]
     },
     "execution_count": 9,
     "metadata": {},
     "output_type": "execute_result"
    }
   ],
   "source": [
    "df_CVN.columns"
   ]
  },
  {
   "cell_type": "code",
   "execution_count": 10,
   "id": "60fc99d6",
   "metadata": {},
   "outputs": [],
   "source": [
    "# We need to create the subset of data which contains only numeric variables\n",
    "df_num = df_CVN[['Total_Vaccinations', 'Total_Ppl_Vaccinated','Total_Ppl_Fully_Vaccinated',\n",
    "       'daily_vaccinations_raw', 'daily_vaccinations',\n",
    "       'total_vaccinations_per_hundred', 'Total_ppl_Vaccinated_Per_Hundred',\n",
    "       'Total_ppl_Fully_Vaccinated_Per_Hundred',\n",
    "       'daily_vaccinations_per_million']]"
   ]
  },
  {
   "cell_type": "code",
   "execution_count": 11,
   "id": "1b314cb2",
   "metadata": {},
   "outputs": [
    {
     "data": {
      "text/html": [
       "<div>\n",
       "<style scoped>\n",
       "    .dataframe tbody tr th:only-of-type {\n",
       "        vertical-align: middle;\n",
       "    }\n",
       "\n",
       "    .dataframe tbody tr th {\n",
       "        vertical-align: top;\n",
       "    }\n",
       "\n",
       "    .dataframe thead th {\n",
       "        text-align: right;\n",
       "    }\n",
       "</style>\n",
       "<table border=\"1\" class=\"dataframe\">\n",
       "  <thead>\n",
       "    <tr style=\"text-align: right;\">\n",
       "      <th></th>\n",
       "      <th>Total_Vaccinations</th>\n",
       "      <th>Total_Ppl_Vaccinated</th>\n",
       "      <th>Total_Ppl_Fully_Vaccinated</th>\n",
       "      <th>daily_vaccinations_raw</th>\n",
       "      <th>daily_vaccinations</th>\n",
       "      <th>total_vaccinations_per_hundred</th>\n",
       "      <th>Total_ppl_Vaccinated_Per_Hundred</th>\n",
       "      <th>Total_ppl_Fully_Vaccinated_Per_Hundred</th>\n",
       "      <th>daily_vaccinations_per_million</th>\n",
       "    </tr>\n",
       "  </thead>\n",
       "  <tbody>\n",
       "    <tr>\n",
       "      <th>0</th>\n",
       "      <td>0.0</td>\n",
       "      <td>0.0</td>\n",
       "      <td>NaN</td>\n",
       "      <td>NaN</td>\n",
       "      <td>NaN</td>\n",
       "      <td>0.0</td>\n",
       "      <td>0.0</td>\n",
       "      <td>NaN</td>\n",
       "      <td>NaN</td>\n",
       "    </tr>\n",
       "    <tr>\n",
       "      <th>1</th>\n",
       "      <td>NaN</td>\n",
       "      <td>NaN</td>\n",
       "      <td>NaN</td>\n",
       "      <td>NaN</td>\n",
       "      <td>1367.0</td>\n",
       "      <td>NaN</td>\n",
       "      <td>NaN</td>\n",
       "      <td>NaN</td>\n",
       "      <td>35.0</td>\n",
       "    </tr>\n",
       "    <tr>\n",
       "      <th>2</th>\n",
       "      <td>NaN</td>\n",
       "      <td>NaN</td>\n",
       "      <td>NaN</td>\n",
       "      <td>NaN</td>\n",
       "      <td>1367.0</td>\n",
       "      <td>NaN</td>\n",
       "      <td>NaN</td>\n",
       "      <td>NaN</td>\n",
       "      <td>35.0</td>\n",
       "    </tr>\n",
       "    <tr>\n",
       "      <th>3</th>\n",
       "      <td>NaN</td>\n",
       "      <td>NaN</td>\n",
       "      <td>NaN</td>\n",
       "      <td>NaN</td>\n",
       "      <td>1367.0</td>\n",
       "      <td>NaN</td>\n",
       "      <td>NaN</td>\n",
       "      <td>NaN</td>\n",
       "      <td>35.0</td>\n",
       "    </tr>\n",
       "    <tr>\n",
       "      <th>4</th>\n",
       "      <td>NaN</td>\n",
       "      <td>NaN</td>\n",
       "      <td>NaN</td>\n",
       "      <td>NaN</td>\n",
       "      <td>1367.0</td>\n",
       "      <td>NaN</td>\n",
       "      <td>NaN</td>\n",
       "      <td>NaN</td>\n",
       "      <td>35.0</td>\n",
       "    </tr>\n",
       "  </tbody>\n",
       "</table>\n",
       "</div>"
      ],
      "text/plain": [
       "   Total_Vaccinations  Total_Ppl_Vaccinated  Total_Ppl_Fully_Vaccinated  \\\n",
       "0                 0.0                   0.0                         NaN   \n",
       "1                 NaN                   NaN                         NaN   \n",
       "2                 NaN                   NaN                         NaN   \n",
       "3                 NaN                   NaN                         NaN   \n",
       "4                 NaN                   NaN                         NaN   \n",
       "\n",
       "   daily_vaccinations_raw  daily_vaccinations  total_vaccinations_per_hundred  \\\n",
       "0                     NaN                 NaN                             0.0   \n",
       "1                     NaN              1367.0                             NaN   \n",
       "2                     NaN              1367.0                             NaN   \n",
       "3                     NaN              1367.0                             NaN   \n",
       "4                     NaN              1367.0                             NaN   \n",
       "\n",
       "   Total_ppl_Vaccinated_Per_Hundred  Total_ppl_Fully_Vaccinated_Per_Hundred  \\\n",
       "0                               0.0                                     NaN   \n",
       "1                               NaN                                     NaN   \n",
       "2                               NaN                                     NaN   \n",
       "3                               NaN                                     NaN   \n",
       "4                               NaN                                     NaN   \n",
       "\n",
       "   daily_vaccinations_per_million  \n",
       "0                             NaN  \n",
       "1                            35.0  \n",
       "2                            35.0  \n",
       "3                            35.0  \n",
       "4                            35.0  "
      ]
     },
     "execution_count": 11,
     "metadata": {},
     "output_type": "execute_result"
    }
   ],
   "source": [
    "df_num.head()"
   ]
  },
  {
   "cell_type": "code",
   "execution_count": 12,
   "id": "f3ca42ef",
   "metadata": {},
   "outputs": [
    {
     "data": {
      "text/plain": [
       "(36063, 9)"
      ]
     },
     "execution_count": 12,
     "metadata": {},
     "output_type": "execute_result"
    }
   ],
   "source": [
    "df_num.shape"
   ]
  },
  {
   "cell_type": "code",
   "execution_count": 13,
   "id": "d579fbfa",
   "metadata": {},
   "outputs": [
    {
     "data": {
      "text/plain": [
       "Total_Vaccinations                        15995\n",
       "Total_Ppl_Vaccinated                      16913\n",
       "Total_Ppl_Fully_Vaccinated                19761\n",
       "daily_vaccinations_raw                    19510\n",
       "daily_vaccinations                          238\n",
       "total_vaccinations_per_hundred            15995\n",
       "Total_ppl_Vaccinated_Per_Hundred          16913\n",
       "Total_ppl_Fully_Vaccinated_Per_Hundred    19761\n",
       "daily_vaccinations_per_million              238\n",
       "dtype: int64"
      ]
     },
     "execution_count": 13,
     "metadata": {},
     "output_type": "execute_result"
    }
   ],
   "source": [
    "df_num.isnull().sum()"
   ]
  },
  {
   "cell_type": "code",
   "execution_count": 14,
   "id": "1ffc931f",
   "metadata": {},
   "outputs": [],
   "source": [
    "# While setting the clusters the function is throwing error due to null values in data\n",
    "# so will create subset of data and remove the null values\n",
    "\n",
    "df_Clean = df_num[df_num['Total_Vaccinations'].notnull() & df_num['Total_Ppl_Vaccinated'].notnull()\n",
    "                & df_num['Total_Ppl_Fully_Vaccinated'].notnull() & df_num['daily_vaccinations_raw'].notnull()\n",
    "                & df_num['daily_vaccinations'].notnull() & df_num['total_vaccinations_per_hundred'].notnull()\n",
    "                  & df_num['Total_ppl_Vaccinated_Per_Hundred'].notnull()\n",
    "                & df_num['Total_ppl_Fully_Vaccinated_Per_Hundred'].notnull() & df_num['daily_vaccinations_per_million'].notnull()\n",
    "                 ]"
   ]
  },
  {
   "cell_type": "code",
   "execution_count": 15,
   "id": "817785ed",
   "metadata": {
    "scrolled": true
   },
   "outputs": [
    {
     "data": {
      "text/plain": [
       "Total_Vaccinations                        0\n",
       "Total_Ppl_Vaccinated                      0\n",
       "Total_Ppl_Fully_Vaccinated                0\n",
       "daily_vaccinations_raw                    0\n",
       "daily_vaccinations                        0\n",
       "total_vaccinations_per_hundred            0\n",
       "Total_ppl_Vaccinated_Per_Hundred          0\n",
       "Total_ppl_Fully_Vaccinated_Per_Hundred    0\n",
       "daily_vaccinations_per_million            0\n",
       "dtype: int64"
      ]
     },
     "execution_count": 15,
     "metadata": {},
     "output_type": "execute_result"
    }
   ],
   "source": [
    "df_Clean.isnull().sum()"
   ]
  },
  {
   "cell_type": "code",
   "execution_count": 16,
   "id": "2b6407d1",
   "metadata": {},
   "outputs": [
    {
     "data": {
      "text/plain": [
       "(13876, 9)"
      ]
     },
     "execution_count": 16,
     "metadata": {},
     "output_type": "execute_result"
    }
   ],
   "source": [
    "df_Clean.shape"
   ]
  },
  {
   "cell_type": "markdown",
   "id": "c8f546ae",
   "metadata": {},
   "source": [
    "Exporting cleaned data set for clusters"
   ]
  },
  {
   "cell_type": "code",
   "execution_count": 17,
   "id": "fdb8c541",
   "metadata": {},
   "outputs": [],
   "source": [
    "df_Clean.to_csv(os.path.join(path, 'Data', 'Prepared_Data', 'Cluster_Cleaned_data.csv'))"
   ]
  },
  {
   "cell_type": "code",
   "execution_count": 18,
   "id": "57643791",
   "metadata": {},
   "outputs": [
    {
     "data": {
      "text/html": [
       "<div>\n",
       "<style scoped>\n",
       "    .dataframe tbody tr th:only-of-type {\n",
       "        vertical-align: middle;\n",
       "    }\n",
       "\n",
       "    .dataframe tbody tr th {\n",
       "        vertical-align: top;\n",
       "    }\n",
       "\n",
       "    .dataframe thead th {\n",
       "        text-align: right;\n",
       "    }\n",
       "</style>\n",
       "<table border=\"1\" class=\"dataframe\">\n",
       "  <thead>\n",
       "    <tr style=\"text-align: right;\">\n",
       "      <th></th>\n",
       "      <th>Total_Vaccinations</th>\n",
       "      <th>Total_Ppl_Vaccinated</th>\n",
       "      <th>Total_Ppl_Fully_Vaccinated</th>\n",
       "      <th>daily_vaccinations_raw</th>\n",
       "      <th>daily_vaccinations</th>\n",
       "      <th>total_vaccinations_per_hundred</th>\n",
       "      <th>Total_ppl_Vaccinated_Per_Hundred</th>\n",
       "      <th>Total_ppl_Fully_Vaccinated_Per_Hundred</th>\n",
       "      <th>daily_vaccinations_per_million</th>\n",
       "    </tr>\n",
       "  </thead>\n",
       "  <tbody>\n",
       "    <tr>\n",
       "      <th>94</th>\n",
       "      <td>593313.0</td>\n",
       "      <td>479574.0</td>\n",
       "      <td>113739.0</td>\n",
       "      <td>2859.0</td>\n",
       "      <td>6487.0</td>\n",
       "      <td>1.52</td>\n",
       "      <td>1.23</td>\n",
       "      <td>0.29</td>\n",
       "      <td>167.0</td>\n",
       "    </tr>\n",
       "    <tr>\n",
       "      <th>101</th>\n",
       "      <td>630305.0</td>\n",
       "      <td>481800.0</td>\n",
       "      <td>148505.0</td>\n",
       "      <td>4015.0</td>\n",
       "      <td>5285.0</td>\n",
       "      <td>1.62</td>\n",
       "      <td>1.24</td>\n",
       "      <td>0.38</td>\n",
       "      <td>136.0</td>\n",
       "    </tr>\n",
       "    <tr>\n",
       "      <th>200</th>\n",
       "      <td>3049.0</td>\n",
       "      <td>2438.0</td>\n",
       "      <td>611.0</td>\n",
       "      <td>1348.0</td>\n",
       "      <td>254.0</td>\n",
       "      <td>0.11</td>\n",
       "      <td>0.08</td>\n",
       "      <td>0.02</td>\n",
       "      <td>88.0</td>\n",
       "    </tr>\n",
       "    <tr>\n",
       "      <th>282</th>\n",
       "      <td>622507.0</td>\n",
       "      <td>440921.0</td>\n",
       "      <td>181586.0</td>\n",
       "      <td>9548.0</td>\n",
       "      <td>12160.0</td>\n",
       "      <td>21.63</td>\n",
       "      <td>15.32</td>\n",
       "      <td>6.31</td>\n",
       "      <td>4225.0</td>\n",
       "    </tr>\n",
       "    <tr>\n",
       "      <th>283</th>\n",
       "      <td>632676.0</td>\n",
       "      <td>444755.0</td>\n",
       "      <td>187921.0</td>\n",
       "      <td>10169.0</td>\n",
       "      <td>10870.0</td>\n",
       "      <td>21.98</td>\n",
       "      <td>15.45</td>\n",
       "      <td>6.53</td>\n",
       "      <td>3777.0</td>\n",
       "    </tr>\n",
       "  </tbody>\n",
       "</table>\n",
       "</div>"
      ],
      "text/plain": [
       "     Total_Vaccinations  Total_Ppl_Vaccinated  Total_Ppl_Fully_Vaccinated  \\\n",
       "94             593313.0              479574.0                    113739.0   \n",
       "101            630305.0              481800.0                    148505.0   \n",
       "200              3049.0                2438.0                       611.0   \n",
       "282            622507.0              440921.0                    181586.0   \n",
       "283            632676.0              444755.0                    187921.0   \n",
       "\n",
       "     daily_vaccinations_raw  daily_vaccinations  \\\n",
       "94                   2859.0              6487.0   \n",
       "101                  4015.0              5285.0   \n",
       "200                  1348.0               254.0   \n",
       "282                  9548.0             12160.0   \n",
       "283                 10169.0             10870.0   \n",
       "\n",
       "     total_vaccinations_per_hundred  Total_ppl_Vaccinated_Per_Hundred  \\\n",
       "94                             1.52                              1.23   \n",
       "101                            1.62                              1.24   \n",
       "200                            0.11                              0.08   \n",
       "282                           21.63                             15.32   \n",
       "283                           21.98                             15.45   \n",
       "\n",
       "     Total_ppl_Fully_Vaccinated_Per_Hundred  daily_vaccinations_per_million  \n",
       "94                                     0.29                           167.0  \n",
       "101                                    0.38                           136.0  \n",
       "200                                    0.02                            88.0  \n",
       "282                                    6.31                          4225.0  \n",
       "283                                    6.53                          3777.0  "
      ]
     },
     "execution_count": 18,
     "metadata": {},
     "output_type": "execute_result"
    }
   ],
   "source": [
    "df_Clean.head()"
   ]
  },
  {
   "cell_type": "markdown",
   "id": "65a1e645",
   "metadata": {},
   "source": [
    "Since our data has difference in size of the variables, we need to do scaling for the same."
   ]
  },
  {
   "cell_type": "code",
   "execution_count": 19,
   "id": "47e6a09c",
   "metadata": {},
   "outputs": [],
   "source": [
    "# standardizing data set \n",
    "#scaler = StandardScaler()"
   ]
  },
  {
   "cell_type": "code",
   "execution_count": 20,
   "id": "3f12087f",
   "metadata": {},
   "outputs": [],
   "source": [
    "#df_clean_std = scaler.fit_transform(df_Clean)"
   ]
  },
  {
   "cell_type": "markdown",
   "id": "df044fc6",
   "metadata": {},
   "source": [
    "# 3. The elbow technique"
   ]
  },
  {
   "cell_type": "code",
   "execution_count": 21,
   "id": "9eb71a25",
   "metadata": {},
   "outputs": [],
   "source": [
    "num_cl = range(1, 10) # Defines the range of potential clusters in the data.\n",
    "kmeans = [KMeans(n_clusters=i) for i in num_cl] # Defines k-means clusters in the range assigned above."
   ]
  },
  {
   "cell_type": "code",
   "execution_count": 22,
   "id": "52f33fe6",
   "metadata": {},
   "outputs": [
    {
     "data": {
      "text/plain": [
       "[-3.615636428945666e+19,\n",
       " -9.904351772464738e+18,\n",
       " -4.892978227980515e+18,\n",
       " -3.3851279027569495e+18,\n",
       " -2.3939973380369997e+18,\n",
       " -1.7294410744014218e+18,\n",
       " -1.4253957742917627e+18,\n",
       " -1.1255285174752502e+18,\n",
       " -9.27803482208663e+17]"
      ]
     },
     "execution_count": 22,
     "metadata": {},
     "output_type": "execute_result"
    }
   ],
   "source": [
    "score = [kmeans[i].fit(df_Clean).score(df_Clean) for i in range(len(kmeans))] # Creates a score that represents \n",
    "# a rate of variation for the given cluster option.\n",
    "\n",
    "score"
   ]
  },
  {
   "cell_type": "code",
   "execution_count": 23,
   "id": "70e399fe",
   "metadata": {},
   "outputs": [
    {
     "data": {
      "image/png": "[encoded data removed]",
      "text/plain": [
       "<Figure size 432x288 with 1 Axes>"
      ]
     },
     "metadata": {
      "needs_background": "light"
     },
     "output_type": "display_data"
    }
   ],
   "source": [
    "# Plot the elbow curve using PyLab.\n",
    "\n",
    "pl.plot(num_cl,score)\n",
    "pl.xlabel('Number of Clusters')\n",
    "pl.ylabel('Score')\n",
    "pl.title('Elbow Curve')\n",
    "pl.show()"
   ]
  },
  {
   "cell_type": "markdown",
   "id": "92801513",
   "metadata": {},
   "source": [
    "In this example, there's a large jump from two to three on the x-axis, but after that, the curve straightens out. This means that the optimal count for your clusters is three."
   ]
  },
  {
   "cell_type": "markdown",
   "id": "10156a12",
   "metadata": {},
   "source": [
    "# 4. k-means clustering"
   ]
  },
  {
   "cell_type": "code",
   "execution_count": 24,
   "id": "b3f3c9be",
   "metadata": {},
   "outputs": [],
   "source": [
    "# Create the k-means object.\n",
    "\n",
    "kmeans = KMeans(n_clusters = 3, n_jobs = -1)"
   ]
  },
  {
   "cell_type": "code",
   "execution_count": 25,
   "id": "cc193259",
   "metadata": {
    "scrolled": false
   },
   "outputs": [
    {
     "name": "stderr",
     "output_type": "stream",
     "text": [
      "C:\\Users\\Mukund\\anaconda3\\lib\\site-packages\\sklearn\\cluster\\_kmeans.py:792: FutureWarning: 'n_jobs' was deprecated in version 0.23 and will be removed in 1.0 (renaming of 0.25).\n",
      "  warnings.warn(\"'n_jobs' was deprecated in version 0.23 and will be\"\n"
     ]
    },
    {
     "data": {
      "text/plain": [
       "KMeans(n_clusters=3, n_jobs=-1)"
      ]
     },
     "execution_count": 25,
     "metadata": {},
     "output_type": "execute_result"
    }
   ],
   "source": [
    "# Fit the k-means object to the data.\n",
    "\n",
    "kmeans.fit(df_Clean)"
   ]
  },
  {
   "cell_type": "code",
   "execution_count": 26,
   "id": "e6c1c8b1",
   "metadata": {},
   "outputs": [
    {
     "name": "stderr",
     "output_type": "stream",
     "text": [
      "C:\\Users\\Mukund\\anaconda3\\lib\\site-packages\\sklearn\\cluster\\_kmeans.py:792: FutureWarning: 'n_jobs' was deprecated in version 0.23 and will be removed in 1.0 (renaming of 0.25).\n",
      "  warnings.warn(\"'n_jobs' was deprecated in version 0.23 and will be\"\n",
      "<ipython-input-26-7004d20a6a02>:1: SettingWithCopyWarning: \n",
      "A value is trying to be set on a copy of a slice from a DataFrame.\n",
      "Try using .loc[row_indexer,col_indexer] = value instead\n",
      "\n",
      "See the caveats in the documentation: https://pandas.pydata.org/pandas-docs/stable/user_guide/indexing.html#returning-a-view-versus-a-copy\n",
      "  df_Clean['clusters'] = kmeans.fit_predict(df_Clean)\n"
     ]
    }
   ],
   "source": [
    "df_Clean['clusters'] = kmeans.fit_predict(df_Clean)"
   ]
  },
  {
   "cell_type": "code",
   "execution_count": 27,
   "id": "2f0c9e2b",
   "metadata": {},
   "outputs": [
    {
     "data": {
      "text/html": [
       "<div>\n",
       "<style scoped>\n",
       "    .dataframe tbody tr th:only-of-type {\n",
       "        vertical-align: middle;\n",
       "    }\n",
       "\n",
       "    .dataframe tbody tr th {\n",
       "        vertical-align: top;\n",
       "    }\n",
       "\n",
       "    .dataframe thead th {\n",
       "        text-align: right;\n",
       "    }\n",
       "</style>\n",
       "<table border=\"1\" class=\"dataframe\">\n",
       "  <thead>\n",
       "    <tr style=\"text-align: right;\">\n",
       "      <th></th>\n",
       "      <th>Total_Vaccinations</th>\n",
       "      <th>Total_Ppl_Vaccinated</th>\n",
       "      <th>Total_Ppl_Fully_Vaccinated</th>\n",
       "      <th>daily_vaccinations_raw</th>\n",
       "      <th>daily_vaccinations</th>\n",
       "      <th>total_vaccinations_per_hundred</th>\n",
       "      <th>Total_ppl_Vaccinated_Per_Hundred</th>\n",
       "      <th>Total_ppl_Fully_Vaccinated_Per_Hundred</th>\n",
       "      <th>daily_vaccinations_per_million</th>\n",
       "      <th>clusters</th>\n",
       "    </tr>\n",
       "  </thead>\n",
       "  <tbody>\n",
       "    <tr>\n",
       "      <th>94</th>\n",
       "      <td>593313.0</td>\n",
       "      <td>479574.0</td>\n",
       "      <td>113739.0</td>\n",
       "      <td>2859.0</td>\n",
       "      <td>6487.0</td>\n",
       "      <td>1.52</td>\n",
       "      <td>1.23</td>\n",
       "      <td>0.29</td>\n",
       "      <td>167.0</td>\n",
       "      <td>0</td>\n",
       "    </tr>\n",
       "    <tr>\n",
       "      <th>101</th>\n",
       "      <td>630305.0</td>\n",
       "      <td>481800.0</td>\n",
       "      <td>148505.0</td>\n",
       "      <td>4015.0</td>\n",
       "      <td>5285.0</td>\n",
       "      <td>1.62</td>\n",
       "      <td>1.24</td>\n",
       "      <td>0.38</td>\n",
       "      <td>136.0</td>\n",
       "      <td>0</td>\n",
       "    </tr>\n",
       "    <tr>\n",
       "      <th>200</th>\n",
       "      <td>3049.0</td>\n",
       "      <td>2438.0</td>\n",
       "      <td>611.0</td>\n",
       "      <td>1348.0</td>\n",
       "      <td>254.0</td>\n",
       "      <td>0.11</td>\n",
       "      <td>0.08</td>\n",
       "      <td>0.02</td>\n",
       "      <td>88.0</td>\n",
       "      <td>0</td>\n",
       "    </tr>\n",
       "    <tr>\n",
       "      <th>282</th>\n",
       "      <td>622507.0</td>\n",
       "      <td>440921.0</td>\n",
       "      <td>181586.0</td>\n",
       "      <td>9548.0</td>\n",
       "      <td>12160.0</td>\n",
       "      <td>21.63</td>\n",
       "      <td>15.32</td>\n",
       "      <td>6.31</td>\n",
       "      <td>4225.0</td>\n",
       "      <td>0</td>\n",
       "    </tr>\n",
       "    <tr>\n",
       "      <th>283</th>\n",
       "      <td>632676.0</td>\n",
       "      <td>444755.0</td>\n",
       "      <td>187921.0</td>\n",
       "      <td>10169.0</td>\n",
       "      <td>10870.0</td>\n",
       "      <td>21.98</td>\n",
       "      <td>15.45</td>\n",
       "      <td>6.53</td>\n",
       "      <td>3777.0</td>\n",
       "      <td>0</td>\n",
       "    </tr>\n",
       "  </tbody>\n",
       "</table>\n",
       "</div>"
      ],
      "text/plain": [
       "     Total_Vaccinations  Total_Ppl_Vaccinated  Total_Ppl_Fully_Vaccinated  \\\n",
       "94             593313.0              479574.0                    113739.0   \n",
       "101            630305.0              481800.0                    148505.0   \n",
       "200              3049.0                2438.0                       611.0   \n",
       "282            622507.0              440921.0                    181586.0   \n",
       "283            632676.0              444755.0                    187921.0   \n",
       "\n",
       "     daily_vaccinations_raw  daily_vaccinations  \\\n",
       "94                   2859.0              6487.0   \n",
       "101                  4015.0              5285.0   \n",
       "200                  1348.0               254.0   \n",
       "282                  9548.0             12160.0   \n",
       "283                 10169.0             10870.0   \n",
       "\n",
       "     total_vaccinations_per_hundred  Total_ppl_Vaccinated_Per_Hundred  \\\n",
       "94                             1.52                              1.23   \n",
       "101                            1.62                              1.24   \n",
       "200                            0.11                              0.08   \n",
       "282                           21.63                             15.32   \n",
       "283                           21.98                             15.45   \n",
       "\n",
       "     Total_ppl_Fully_Vaccinated_Per_Hundred  daily_vaccinations_per_million  \\\n",
       "94                                     0.29                           167.0   \n",
       "101                                    0.38                           136.0   \n",
       "200                                    0.02                            88.0   \n",
       "282                                    6.31                          4225.0   \n",
       "283                                    6.53                          3777.0   \n",
       "\n",
       "     clusters  \n",
       "94          0  \n",
       "101         0  \n",
       "200         0  \n",
       "282         0  \n",
       "283         0  "
      ]
     },
     "execution_count": 27,
     "metadata": {},
     "output_type": "execute_result"
    }
   ],
   "source": [
    "df_Clean.head()"
   ]
  },
  {
   "cell_type": "code",
   "execution_count": 28,
   "id": "5c14fec5",
   "metadata": {},
   "outputs": [],
   "source": [
    "# Exporting data with clusters\n",
    "df_Clean.to_csv(os.path.join(path, 'Data', 'Prepared_Data', 'Data_with_clusters.csv'))"
   ]
  },
  {
   "cell_type": "code",
   "execution_count": 29,
   "id": "aa35ec1e",
   "metadata": {},
   "outputs": [
    {
     "data": {
      "text/plain": [
       "0    12652\n",
       "2     1031\n",
       "1      193\n",
       "Name: clusters, dtype: int64"
      ]
     },
     "execution_count": 29,
     "metadata": {},
     "output_type": "execute_result"
    }
   ],
   "source": [
    "df_Clean['clusters'].value_counts()"
   ]
  },
  {
   "cell_type": "code",
   "execution_count": 30,
   "id": "c1e58493",
   "metadata": {},
   "outputs": [
    {
     "data": {
      "image/png": "[encoded data removed]",
      "text/plain": [
       "<Figure size 864x576 with 1 Axes>"
      ]
     },
     "metadata": {
      "needs_background": "light"
     },
     "output_type": "display_data"
    }
   ],
   "source": [
    "# Plot the clusters for the \"Total_Vaccinations\" and \"Total_Ppl_Vaccinated\" variables.\n",
    "\n",
    "plt.figure(figsize=(12,8))\n",
    "ax = sns.scatterplot(x=df_Clean['Total_Ppl_Vaccinated'], y=df_Clean['Total_Vaccinations'], hue=kmeans.labels_, s=100) \n",
    "\n",
    "ax.grid(False) \n",
    "plt.xlabel('Total number of people vaccinated')\n",
    "plt.ylabel('Total number of vaccinations')\n",
    "plt.show()"
   ]
  },
  {
   "cell_type": "markdown",
   "id": "8fd96ea8",
   "metadata": {},
   "source": [
    "From the above scatterplot with 3 clusters, we can see that the pink color(coded as 0) cluster looks more cloudy as it has higher number of data points 12652 in its group and they got overlapped on each other. This cluster is having maximumn data points near the bottom of the graph indicating that most of the total vaccinations and total number of vacciated people are in the low vaccination group which we have already explored in previous task.\n",
    "After that there is a dark purple color cluster data group(coded as 2) which indicates medium group of vaccinations.Then purple color cluster(coded as 1) which seems bigger visually but it has very low number of data points beacuase there are very high number of total vaccinations. From plot, its quite clear that as the number of total number of vaccinated people increases the total number of vaccinations also increases in linear proportion."
   ]
  },
  {
   "cell_type": "code",
   "execution_count": 31,
   "id": "ccd3d206",
   "metadata": {},
   "outputs": [
    {
     "data": {
      "image/png": "[encoded data removed]",
      "text/plain": [
       "<Figure size 864x576 with 1 Axes>"
      ]
     },
     "metadata": {
      "needs_background": "light"
     },
     "output_type": "display_data"
    }
   ],
   "source": [
    "# Plot the clusters for the \"Total_Vaccinations\" and \"Total_Ppl_Vaccinated\" variables.\n",
    "\n",
    "plt.figure(figsize=(12,8))\n",
    "ax = sns.scatterplot(x=df_Clean['Total_Ppl_Fully_Vaccinated'], y=df_Clean['Total_Vaccinations'], hue=kmeans.labels_, s=100) \n",
    "\n",
    "ax.grid(False) \n",
    "plt.xlabel('Total number of people Fully vaccinated')\n",
    "plt.ylabel('Total number of vaccinations')\n",
    "plt.show()"
   ]
  },
  {
   "cell_type": "markdown",
   "id": "6815d5b3",
   "metadata": {},
   "source": [
    "Similarly, we have created scatterplot to check the relation between total number of fully vaccinated people and total number of vaccinations.Here the clusters distribution is same like above the only difference is that total number of people vaccinated is almost twice the number of people fully vaccinated. It is quite obvious because everone is getting the first dose easily but they have to wait atleast for one month till they get the second dose. So in between that time the first vaccine dosen't have any condition or waiting. So the total number of vaccines is always greater than fully vaccinated people."
   ]
  },
  {
   "cell_type": "code",
   "execution_count": 32,
   "id": "95ac7ffc",
   "metadata": {
    "scrolled": false
   },
   "outputs": [
    {
     "data": {
      "image/png": "[encoded data removed]",
      "text/plain": [
       "<Figure size 864x576 with 1 Axes>"
      ]
     },
     "metadata": {
      "needs_background": "light"
     },
     "output_type": "display_data"
    }
   ],
   "source": [
    "# Plot the clusters for the \"daily_vaccinations\" and \"Total_Vaccinations\" variables.\n",
    "\n",
    "plt.figure(figsize=(12,8))\n",
    "ax = sns.scatterplot(x=df_Clean['daily_vaccinations'], y=df_Clean['Total_Vaccinations'], hue=kmeans.labels_, s=100)\n",
    "\n",
    "ax.grid(False) \n",
    "plt.xlabel('Daily Vaccinations') \n",
    "plt.ylabel('Total number of vaccinations') \n",
    "plt.show()"
   ]
  },
  {
   "cell_type": "markdown",
   "id": "c6ed8462",
   "metadata": {},
   "source": [
    "The above scatterplot doesn't show any trend in the relationship between total vaccinations and daily vaccinations and points are scattered more as compared to above plots."
   ]
  },
  {
   "cell_type": "code",
   "execution_count": 33,
   "id": "a5c3382c",
   "metadata": {},
   "outputs": [
    {
     "name": "stderr",
     "output_type": "stream",
     "text": [
      "C:\\Users\\Mukund\\anaconda3\\lib\\site-packages\\pandas\\core\\indexing.py:1599: SettingWithCopyWarning: \n",
      "A value is trying to be set on a copy of a slice from a DataFrame.\n",
      "Try using .loc[row_indexer,col_indexer] = value instead\n",
      "\n",
      "See the caveats in the documentation: https://pandas.pydata.org/pandas-docs/stable/user_guide/indexing.html#returning-a-view-versus-a-copy\n",
      "  self.obj[key] = infer_fill_value(value)\n",
      "C:\\Users\\Mukund\\anaconda3\\lib\\site-packages\\pandas\\core\\indexing.py:1720: SettingWithCopyWarning: \n",
      "A value is trying to be set on a copy of a slice from a DataFrame.\n",
      "Try using .loc[row_indexer,col_indexer] = value instead\n",
      "\n",
      "See the caveats in the documentation: https://pandas.pydata.org/pandas-docs/stable/user_guide/indexing.html#returning-a-view-versus-a-copy\n",
      "  self._setitem_single_column(loc, value, pi)\n",
      "C:\\Users\\Mukund\\anaconda3\\lib\\site-packages\\pandas\\core\\indexing.py:1720: SettingWithCopyWarning: \n",
      "A value is trying to be set on a copy of a slice from a DataFrame.\n",
      "Try using .loc[row_indexer,col_indexer] = value instead\n",
      "\n",
      "See the caveats in the documentation: https://pandas.pydata.org/pandas-docs/stable/user_guide/indexing.html#returning-a-view-versus-a-copy\n",
      "  self._setitem_single_column(loc, value, pi)\n",
      "C:\\Users\\Mukund\\anaconda3\\lib\\site-packages\\pandas\\core\\indexing.py:1720: SettingWithCopyWarning: \n",
      "A value is trying to be set on a copy of a slice from a DataFrame.\n",
      "Try using .loc[row_indexer,col_indexer] = value instead\n",
      "\n",
      "See the caveats in the documentation: https://pandas.pydata.org/pandas-docs/stable/user_guide/indexing.html#returning-a-view-versus-a-copy\n",
      "  self._setitem_single_column(loc, value, pi)\n"
     ]
    }
   ],
   "source": [
    "df_Clean.loc[df_Clean['clusters'] == 2, 'cluster'] = 'dark purple'\n",
    "df_Clean.loc[df_Clean['clusters'] == 1, 'cluster'] = 'purple'\n",
    "df_Clean.loc[df_Clean['clusters'] == 0, 'cluster'] = 'pink'"
   ]
  },
  {
   "cell_type": "code",
   "execution_count": 34,
   "id": "1d655a92",
   "metadata": {},
   "outputs": [
    {
     "data": {
      "text/html": [
       "<div>\n",
       "<style scoped>\n",
       "    .dataframe tbody tr th:only-of-type {\n",
       "        vertical-align: middle;\n",
       "    }\n",
       "\n",
       "    .dataframe tbody tr th {\n",
       "        vertical-align: top;\n",
       "    }\n",
       "\n",
       "    .dataframe thead tr th {\n",
       "        text-align: left;\n",
       "    }\n",
       "\n",
       "    .dataframe thead tr:last-of-type th {\n",
       "        text-align: right;\n",
       "    }\n",
       "</style>\n",
       "<table border=\"1\" class=\"dataframe\">\n",
       "  <thead>\n",
       "    <tr>\n",
       "      <th></th>\n",
       "      <th colspan=\"2\" halign=\"left\">Total_Vaccinations</th>\n",
       "      <th colspan=\"2\" halign=\"left\">Total_Ppl_Vaccinated</th>\n",
       "      <th colspan=\"2\" halign=\"left\">Total_Ppl_Fully_Vaccinated</th>\n",
       "      <th colspan=\"2\" halign=\"left\">daily_vaccinations</th>\n",
       "    </tr>\n",
       "    <tr>\n",
       "      <th></th>\n",
       "      <th>mean</th>\n",
       "      <th>median</th>\n",
       "      <th>mean</th>\n",
       "      <th>median</th>\n",
       "      <th>mean</th>\n",
       "      <th>median</th>\n",
       "      <th>mean</th>\n",
       "      <th>median</th>\n",
       "    </tr>\n",
       "    <tr>\n",
       "      <th>cluster</th>\n",
       "      <th></th>\n",
       "      <th></th>\n",
       "      <th></th>\n",
       "      <th></th>\n",
       "      <th></th>\n",
       "      <th></th>\n",
       "      <th></th>\n",
       "      <th></th>\n",
       "    </tr>\n",
       "  </thead>\n",
       "  <tbody>\n",
       "    <tr>\n",
       "      <th>dark purple</th>\n",
       "      <td>6.478476e+07</td>\n",
       "      <td>58372173.0</td>\n",
       "      <td>4.260490e+07</td>\n",
       "      <td>36946260.0</td>\n",
       "      <td>2.277569e+07</td>\n",
       "      <td>21555117.0</td>\n",
       "      <td>8.128190e+05</td>\n",
       "      <td>575899.0</td>\n",
       "    </tr>\n",
       "    <tr>\n",
       "      <th>pink</th>\n",
       "      <td>4.379986e+06</td>\n",
       "      <td>1524492.5</td>\n",
       "      <td>2.987984e+06</td>\n",
       "      <td>1029622.0</td>\n",
       "      <td>1.407750e+06</td>\n",
       "      <td>434248.0</td>\n",
       "      <td>7.134042e+04</td>\n",
       "      <td>22322.0</td>\n",
       "    </tr>\n",
       "    <tr>\n",
       "      <th>purple</th>\n",
       "      <td>3.034789e+08</td>\n",
       "      <td>304753476.0</td>\n",
       "      <td>2.018616e+08</td>\n",
       "      <td>179940202.0</td>\n",
       "      <td>1.064513e+08</td>\n",
       "      <td>108216020.0</td>\n",
       "      <td>2.427990e+06</td>\n",
       "      <td>2017931.0</td>\n",
       "    </tr>\n",
       "  </tbody>\n",
       "</table>\n",
       "</div>"
      ],
      "text/plain": [
       "            Total_Vaccinations              Total_Ppl_Vaccinated               \\\n",
       "                          mean       median                 mean       median   \n",
       "cluster                                                                         \n",
       "dark purple       6.478476e+07   58372173.0         4.260490e+07   36946260.0   \n",
       "pink              4.379986e+06    1524492.5         2.987984e+06    1029622.0   \n",
       "purple            3.034789e+08  304753476.0         2.018616e+08  179940202.0   \n",
       "\n",
       "            Total_Ppl_Fully_Vaccinated              daily_vaccinations  \\\n",
       "                                  mean       median               mean   \n",
       "cluster                                                                  \n",
       "dark purple               2.277569e+07   21555117.0       8.128190e+05   \n",
       "pink                      1.407750e+06     434248.0       7.134042e+04   \n",
       "purple                    1.064513e+08  108216020.0       2.427990e+06   \n",
       "\n",
       "                        \n",
       "                median  \n",
       "cluster                 \n",
       "dark purple   575899.0  \n",
       "pink           22322.0  \n",
       "purple       2017931.0  "
      ]
     },
     "execution_count": 34,
     "metadata": {},
     "output_type": "execute_result"
    }
   ],
   "source": [
    "df_Clean.groupby('cluster').agg({'Total_Vaccinations':['mean', 'median'],\n",
    "    'Total_Ppl_Vaccinated':['mean', 'median'], \n",
    "                         'Total_Ppl_Fully_Vaccinated':['mean', 'median'], \n",
    "                         'daily_vaccinations':['mean', 'median']\n",
    "                          })"
   ]
  },
  {
   "cell_type": "markdown",
   "id": "407aa5fa",
   "metadata": {},
   "source": [
    "With the above statistics for different clusters, I would say pink color cluster with the two variables (total vaccinations and total number of vaccinated people) will be useful to support our hypothesis.\n",
    "If you look at the medians, total vaccinated people has high value of median as compared to other variables (Total number of fully vaccinated people and daily vaccinations) in proportion with total vaccinations median. Means total number of vaccinated people has more impact on total vaccinations and if it increases the other (total vaccinations) also increase."
   ]
  }
 ],
 "metadata": {
  "kernelspec": {
   "display_name": "Python 3",
   "language": "python",
   "name": "python3"
  },
  "language_info": {
   "codemirror_mode": {
    "name": "ipython",
    "version": 3
   },
   "file_extension": ".py",
   "mimetype": "text/x-python",
   "name": "python",
   "nbconvert_exporter": "python",
   "pygments_lexer": "ipython3",
   "version": "3.8.8"
  }
 },
 "nbformat": 4,
 "nbformat_minor": 5
}
