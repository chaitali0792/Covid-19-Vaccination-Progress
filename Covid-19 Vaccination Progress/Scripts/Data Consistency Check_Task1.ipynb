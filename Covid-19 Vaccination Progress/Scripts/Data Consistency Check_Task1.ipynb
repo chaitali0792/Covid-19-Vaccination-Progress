{
 "cells": [
  {
   "cell_type": "markdown",
   "id": "cc6e73c4",
   "metadata": {},
   "source": [
    "# CONTENT LIST\n",
    "\n",
    "1.Importing Libraries\n",
    "2.Importing Data\n",
    "3.Data Consistency Checks\n",
    "4.Descriptive Analysis"
   ]
  },
  {
   "cell_type": "markdown",
   "id": "221ae228",
   "metadata": {},
   "source": [
    "# 1.Importing Libraries"
   ]
  },
  {
   "cell_type": "code",
   "execution_count": 9,
   "id": "72530a53",
   "metadata": {},
   "outputs": [],
   "source": [
    "# Importing Libraries\n",
    "import pandas as pd\n",
    "import numpy as np\n",
    "import os"
   ]
  },
  {
   "cell_type": "markdown",
   "id": "580748a4",
   "metadata": {},
   "source": [
    "# 2. Importing Data"
   ]
  },
  {
   "cell_type": "code",
   "execution_count": 10,
   "id": "873c4029",
   "metadata": {},
   "outputs": [],
   "source": [
    "# Creating common folder path\n",
    "path = r'C:\\Users\\Mukund\\Desktop\\Career Foundry\\Covid-19 Vaccination Progress' "
   ]
  },
  {
   "cell_type": "code",
   "execution_count": 11,
   "id": "c1b2e5a7",
   "metadata": {},
   "outputs": [
    {
     "data": {
      "text/plain": [
       "'C:\\\\Users\\\\Mukund\\\\Desktop\\\\Career Foundry\\\\Covid-19 Vaccination Progress'"
      ]
     },
     "execution_count": 11,
     "metadata": {},
     "output_type": "execute_result"
    }
   ],
   "source": [
    "path"
   ]
  },
  {
   "cell_type": "code",
   "execution_count": 12,
   "id": "bc618463",
   "metadata": {},
   "outputs": [],
   "source": [
    "# Importing Country Vaccination data\n",
    "df_CVN = pd.read_csv(os.path.join(path, 'Data', 'Original_Data', 'country_vaccinations.csv'), index_col = False)"
   ]
  },
  {
   "cell_type": "code",
   "execution_count": 13,
   "id": "a307284e",
   "metadata": {},
   "outputs": [
    {
     "data": {
      "text/html": [
       "<div>\n",
       "<style scoped>\n",
       "    .dataframe tbody tr th:only-of-type {\n",
       "        vertical-align: middle;\n",
       "    }\n",
       "\n",
       "    .dataframe tbody tr th {\n",
       "        vertical-align: top;\n",
       "    }\n",
       "\n",
       "    .dataframe thead th {\n",
       "        text-align: right;\n",
       "    }\n",
       "</style>\n",
       "<table border=\"1\" class=\"dataframe\">\n",
       "  <thead>\n",
       "    <tr style=\"text-align: right;\">\n",
       "      <th></th>\n",
       "      <th>country</th>\n",
       "      <th>iso_code</th>\n",
       "      <th>date</th>\n",
       "      <th>total_vaccinations</th>\n",
       "      <th>people_vaccinated</th>\n",
       "      <th>people_fully_vaccinated</th>\n",
       "      <th>daily_vaccinations_raw</th>\n",
       "      <th>daily_vaccinations</th>\n",
       "      <th>total_vaccinations_per_hundred</th>\n",
       "      <th>people_vaccinated_per_hundred</th>\n",
       "      <th>people_fully_vaccinated_per_hundred</th>\n",
       "      <th>daily_vaccinations_per_million</th>\n",
       "      <th>vaccines</th>\n",
       "      <th>source_name</th>\n",
       "      <th>source_website</th>\n",
       "    </tr>\n",
       "  </thead>\n",
       "  <tbody>\n",
       "    <tr>\n",
       "      <th>0</th>\n",
       "      <td>Afghanistan</td>\n",
       "      <td>AFG</td>\n",
       "      <td>22/02/2021</td>\n",
       "      <td>0.0</td>\n",
       "      <td>0.0</td>\n",
       "      <td>NaN</td>\n",
       "      <td>NaN</td>\n",
       "      <td>NaN</td>\n",
       "      <td>0.0</td>\n",
       "      <td>0.0</td>\n",
       "      <td>NaN</td>\n",
       "      <td>NaN</td>\n",
       "      <td>Johnson&amp;Johnson, Oxford/AstraZeneca, Pfizer/Bi...</td>\n",
       "      <td>World Health Organization</td>\n",
       "      <td>https://covid19.who.int/</td>\n",
       "    </tr>\n",
       "    <tr>\n",
       "      <th>1</th>\n",
       "      <td>Afghanistan</td>\n",
       "      <td>AFG</td>\n",
       "      <td>23/02/2021</td>\n",
       "      <td>NaN</td>\n",
       "      <td>NaN</td>\n",
       "      <td>NaN</td>\n",
       "      <td>NaN</td>\n",
       "      <td>1367.0</td>\n",
       "      <td>NaN</td>\n",
       "      <td>NaN</td>\n",
       "      <td>NaN</td>\n",
       "      <td>35.0</td>\n",
       "      <td>Johnson&amp;Johnson, Oxford/AstraZeneca, Pfizer/Bi...</td>\n",
       "      <td>World Health Organization</td>\n",
       "      <td>https://covid19.who.int/</td>\n",
       "    </tr>\n",
       "    <tr>\n",
       "      <th>2</th>\n",
       "      <td>Afghanistan</td>\n",
       "      <td>AFG</td>\n",
       "      <td>24/02/2021</td>\n",
       "      <td>NaN</td>\n",
       "      <td>NaN</td>\n",
       "      <td>NaN</td>\n",
       "      <td>NaN</td>\n",
       "      <td>1367.0</td>\n",
       "      <td>NaN</td>\n",
       "      <td>NaN</td>\n",
       "      <td>NaN</td>\n",
       "      <td>35.0</td>\n",
       "      <td>Johnson&amp;Johnson, Oxford/AstraZeneca, Pfizer/Bi...</td>\n",
       "      <td>World Health Organization</td>\n",
       "      <td>https://covid19.who.int/</td>\n",
       "    </tr>\n",
       "    <tr>\n",
       "      <th>3</th>\n",
       "      <td>Afghanistan</td>\n",
       "      <td>AFG</td>\n",
       "      <td>25/02/2021</td>\n",
       "      <td>NaN</td>\n",
       "      <td>NaN</td>\n",
       "      <td>NaN</td>\n",
       "      <td>NaN</td>\n",
       "      <td>1367.0</td>\n",
       "      <td>NaN</td>\n",
       "      <td>NaN</td>\n",
       "      <td>NaN</td>\n",
       "      <td>35.0</td>\n",
       "      <td>Johnson&amp;Johnson, Oxford/AstraZeneca, Pfizer/Bi...</td>\n",
       "      <td>World Health Organization</td>\n",
       "      <td>https://covid19.who.int/</td>\n",
       "    </tr>\n",
       "    <tr>\n",
       "      <th>4</th>\n",
       "      <td>Afghanistan</td>\n",
       "      <td>AFG</td>\n",
       "      <td>26/02/2021</td>\n",
       "      <td>NaN</td>\n",
       "      <td>NaN</td>\n",
       "      <td>NaN</td>\n",
       "      <td>NaN</td>\n",
       "      <td>1367.0</td>\n",
       "      <td>NaN</td>\n",
       "      <td>NaN</td>\n",
       "      <td>NaN</td>\n",
       "      <td>35.0</td>\n",
       "      <td>Johnson&amp;Johnson, Oxford/AstraZeneca, Pfizer/Bi...</td>\n",
       "      <td>World Health Organization</td>\n",
       "      <td>https://covid19.who.int/</td>\n",
       "    </tr>\n",
       "  </tbody>\n",
       "</table>\n",
       "</div>"
      ],
      "text/plain": [
       "       country iso_code        date  total_vaccinations  people_vaccinated  \\\n",
       "0  Afghanistan      AFG  22/02/2021                 0.0                0.0   \n",
       "1  Afghanistan      AFG  23/02/2021                 NaN                NaN   \n",
       "2  Afghanistan      AFG  24/02/2021                 NaN                NaN   \n",
       "3  Afghanistan      AFG  25/02/2021                 NaN                NaN   \n",
       "4  Afghanistan      AFG  26/02/2021                 NaN                NaN   \n",
       "\n",
       "   people_fully_vaccinated  daily_vaccinations_raw  daily_vaccinations  \\\n",
       "0                      NaN                     NaN                 NaN   \n",
       "1                      NaN                     NaN              1367.0   \n",
       "2                      NaN                     NaN              1367.0   \n",
       "3                      NaN                     NaN              1367.0   \n",
       "4                      NaN                     NaN              1367.0   \n",
       "\n",
       "   total_vaccinations_per_hundred  people_vaccinated_per_hundred  \\\n",
       "0                             0.0                            0.0   \n",
       "1                             NaN                            NaN   \n",
       "2                             NaN                            NaN   \n",
       "3                             NaN                            NaN   \n",
       "4                             NaN                            NaN   \n",
       "\n",
       "   people_fully_vaccinated_per_hundred  daily_vaccinations_per_million  \\\n",
       "0                                  NaN                             NaN   \n",
       "1                                  NaN                            35.0   \n",
       "2                                  NaN                            35.0   \n",
       "3                                  NaN                            35.0   \n",
       "4                                  NaN                            35.0   \n",
       "\n",
       "                                            vaccines  \\\n",
       "0  Johnson&Johnson, Oxford/AstraZeneca, Pfizer/Bi...   \n",
       "1  Johnson&Johnson, Oxford/AstraZeneca, Pfizer/Bi...   \n",
       "2  Johnson&Johnson, Oxford/AstraZeneca, Pfizer/Bi...   \n",
       "3  Johnson&Johnson, Oxford/AstraZeneca, Pfizer/Bi...   \n",
       "4  Johnson&Johnson, Oxford/AstraZeneca, Pfizer/Bi...   \n",
       "\n",
       "                 source_name            source_website  \n",
       "0  World Health Organization  https://covid19.who.int/  \n",
       "1  World Health Organization  https://covid19.who.int/  \n",
       "2  World Health Organization  https://covid19.who.int/  \n",
       "3  World Health Organization  https://covid19.who.int/  \n",
       "4  World Health Organization  https://covid19.who.int/  "
      ]
     },
     "execution_count": 13,
     "metadata": {},
     "output_type": "execute_result"
    }
   ],
   "source": [
    "df_CVN.head()"
   ]
  },
  {
   "cell_type": "code",
   "execution_count": 14,
   "id": "a00a4e42",
   "metadata": {
    "scrolled": true
   },
   "outputs": [
    {
     "data": {
      "text/plain": [
       "(36063, 15)"
      ]
     },
     "execution_count": 14,
     "metadata": {},
     "output_type": "execute_result"
    }
   ],
   "source": [
    "df_CVN.shape"
   ]
  },
  {
   "cell_type": "code",
   "execution_count": 15,
   "id": "26c70ec7",
   "metadata": {},
   "outputs": [
    {
     "name": "stdout",
     "output_type": "stream",
     "text": [
      "<class 'pandas.core.frame.DataFrame'>\n",
      "RangeIndex: 36063 entries, 0 to 36062\n",
      "Data columns (total 15 columns):\n",
      " #   Column                               Non-Null Count  Dtype  \n",
      "---  ------                               --------------  -----  \n",
      " 0   country                              36063 non-null  object \n",
      " 1   iso_code                             36063 non-null  object \n",
      " 2   date                                 36063 non-null  object \n",
      " 3   total_vaccinations                   20068 non-null  float64\n",
      " 4   people_vaccinated                    19150 non-null  float64\n",
      " 5   people_fully_vaccinated              16302 non-null  float64\n",
      " 6   daily_vaccinations_raw               16553 non-null  float64\n",
      " 7   daily_vaccinations                   35825 non-null  float64\n",
      " 8   total_vaccinations_per_hundred       20068 non-null  float64\n",
      " 9   people_vaccinated_per_hundred        19150 non-null  float64\n",
      " 10  people_fully_vaccinated_per_hundred  16302 non-null  float64\n",
      " 11  daily_vaccinations_per_million       35825 non-null  float64\n",
      " 12  vaccines                             36063 non-null  object \n",
      " 13  source_name                          36063 non-null  object \n",
      " 14  source_website                       36063 non-null  object \n",
      "dtypes: float64(9), object(6)\n",
      "memory usage: 4.1+ MB\n"
     ]
    }
   ],
   "source": [
    "df_CVN.info()"
   ]
  },
  {
   "cell_type": "code",
   "execution_count": 16,
   "id": "d6c417b1",
   "metadata": {},
   "outputs": [],
   "source": [
    "# Renaming the column names\n",
    "df_CVN.rename(columns = {'country' : 'Country', 'date':'Date', 'total_vaccinations':'Total_No_Of_vaccinations',\n",
    "                        'people_vaccinated':'Total_No_People_Vaccinated', 'people_fully_vaccinated':'Total_No_Of_People_Fully_Vaccinated',\n",
    "                         'people_vaccinated_per_hundred':'Total_No_People_Vaccinated_Per_Hundred',\n",
    "                         'people_fully_vaccinated_per_hundred':'Total_No_OF_People_Fully_Vaccinated_Per_Hundred'\n",
    "                        }, inplace = True)"
   ]
  },
  {
   "cell_type": "code",
   "execution_count": 17,
   "id": "f4ff755f",
   "metadata": {},
   "outputs": [
    {
     "data": {
      "text/plain": [
       "Index(['Country', 'iso_code', 'Date', 'Total_No_Of_vaccinations',\n",
       "       'Total_No_People_Vaccinated', 'Total_No_Of_People_Fully_Vaccinated',\n",
       "       'daily_vaccinations_raw', 'daily_vaccinations',\n",
       "       'total_vaccinations_per_hundred',\n",
       "       'Total_No_People_Vaccinated_Per_Hundred',\n",
       "       'Total_No_OF_People_Fully_Vaccinated_Per_Hundred',\n",
       "       'daily_vaccinations_per_million', 'vaccines', 'source_name',\n",
       "       'source_website'],\n",
       "      dtype='object')"
      ]
     },
     "execution_count": 17,
     "metadata": {},
     "output_type": "execute_result"
    }
   ],
   "source": [
    "df_CVN.columns"
   ]
  },
  {
   "cell_type": "markdown",
   "id": "813450ad",
   "metadata": {},
   "source": [
    "# 3. Data Consistency Check"
   ]
  },
  {
   "cell_type": "code",
   "execution_count": 18,
   "id": "b824247d",
   "metadata": {},
   "outputs": [
    {
     "data": {
      "text/plain": [
       "Country                                                0\n",
       "iso_code                                               0\n",
       "Date                                                   0\n",
       "Total_No_Of_vaccinations                           15995\n",
       "Total_No_People_Vaccinated                         16913\n",
       "Total_No_Of_People_Fully_Vaccinated                19761\n",
       "daily_vaccinations_raw                             19510\n",
       "daily_vaccinations                                   238\n",
       "total_vaccinations_per_hundred                     15995\n",
       "Total_No_People_Vaccinated_Per_Hundred             16913\n",
       "Total_No_OF_People_Fully_Vaccinated_Per_Hundred    19761\n",
       "daily_vaccinations_per_million                       238\n",
       "vaccines                                               0\n",
       "source_name                                            0\n",
       "source_website                                         0\n",
       "dtype: int64"
      ]
     },
     "execution_count": 18,
     "metadata": {},
     "output_type": "execute_result"
    }
   ],
   "source": [
    "# Checking for number of missing values in dataset\n",
    "df_CVN.isnull().sum()"
   ]
  },
  {
   "cell_type": "markdown",
   "id": "156fe57a",
   "metadata": {},
   "source": [
    "Since the null values from above columns do not affect our calculation and the values at the total_vaccionations columns are cumulative. Therefore, we dont need to clean this data."
   ]
  },
  {
   "cell_type": "code",
   "execution_count": 19,
   "id": "b0729b7b",
   "metadata": {},
   "outputs": [],
   "source": [
    "# Checking for duplicate records\n",
    "df_dups = df_CVN[df_CVN.duplicated()]"
   ]
  },
  {
   "cell_type": "code",
   "execution_count": 20,
   "id": "78a075fe",
   "metadata": {},
   "outputs": [
    {
     "data": {
      "text/html": [
       "<div>\n",
       "<style scoped>\n",
       "    .dataframe tbody tr th:only-of-type {\n",
       "        vertical-align: middle;\n",
       "    }\n",
       "\n",
       "    .dataframe tbody tr th {\n",
       "        vertical-align: top;\n",
       "    }\n",
       "\n",
       "    .dataframe thead th {\n",
       "        text-align: right;\n",
       "    }\n",
       "</style>\n",
       "<table border=\"1\" class=\"dataframe\">\n",
       "  <thead>\n",
       "    <tr style=\"text-align: right;\">\n",
       "      <th></th>\n",
       "      <th>Country</th>\n",
       "      <th>iso_code</th>\n",
       "      <th>Date</th>\n",
       "      <th>Total_No_Of_vaccinations</th>\n",
       "      <th>Total_No_People_Vaccinated</th>\n",
       "      <th>Total_No_Of_People_Fully_Vaccinated</th>\n",
       "      <th>daily_vaccinations_raw</th>\n",
       "      <th>daily_vaccinations</th>\n",
       "      <th>total_vaccinations_per_hundred</th>\n",
       "      <th>Total_No_People_Vaccinated_Per_Hundred</th>\n",
       "      <th>Total_No_OF_People_Fully_Vaccinated_Per_Hundred</th>\n",
       "      <th>daily_vaccinations_per_million</th>\n",
       "      <th>vaccines</th>\n",
       "      <th>source_name</th>\n",
       "      <th>source_website</th>\n",
       "    </tr>\n",
       "  </thead>\n",
       "  <tbody>\n",
       "  </tbody>\n",
       "</table>\n",
       "</div>"
      ],
      "text/plain": [
       "Empty DataFrame\n",
       "Columns: [Country, iso_code, Date, Total_No_Of_vaccinations, Total_No_People_Vaccinated, Total_No_Of_People_Fully_Vaccinated, daily_vaccinations_raw, daily_vaccinations, total_vaccinations_per_hundred, Total_No_People_Vaccinated_Per_Hundred, Total_No_OF_People_Fully_Vaccinated_Per_Hundred, daily_vaccinations_per_million, vaccines, source_name, source_website]\n",
       "Index: []"
      ]
     },
     "execution_count": 20,
     "metadata": {},
     "output_type": "execute_result"
    }
   ],
   "source": [
    "df_dups"
   ]
  },
  {
   "cell_type": "markdown",
   "id": "d52fafe7",
   "metadata": {},
   "source": [
    "No duplicates found"
   ]
  },
  {
   "cell_type": "code",
   "execution_count": 21,
   "id": "8dbdf504",
   "metadata": {},
   "outputs": [],
   "source": [
    "# Checking for mixed-type data\n",
    "for col in df_CVN.columns.tolist():\n",
    "  mixed_type = (df_CVN[[col]].applymap(type) != df_CVN[[col]].iloc[0].apply(type)).any(axis = 1)\n",
    "  if len (df_CVN[mixed_type]) > 0:\n",
    "    print (col)"
   ]
  },
  {
   "cell_type": "markdown",
   "id": "ad401330",
   "metadata": {},
   "source": [
    "No mixed-type data found"
   ]
  },
  {
   "cell_type": "markdown",
   "id": "cc571893",
   "metadata": {},
   "source": [
    "# 4. Descriptive Analysis"
   ]
  },
  {
   "cell_type": "code",
   "execution_count": 22,
   "id": "3ecdd933",
   "metadata": {},
   "outputs": [
    {
     "data": {
      "text/html": [
       "<div>\n",
       "<style scoped>\n",
       "    .dataframe tbody tr th:only-of-type {\n",
       "        vertical-align: middle;\n",
       "    }\n",
       "\n",
       "    .dataframe tbody tr th {\n",
       "        vertical-align: top;\n",
       "    }\n",
       "\n",
       "    .dataframe thead th {\n",
       "        text-align: right;\n",
       "    }\n",
       "</style>\n",
       "<table border=\"1\" class=\"dataframe\">\n",
       "  <thead>\n",
       "    <tr style=\"text-align: right;\">\n",
       "      <th></th>\n",
       "      <th>Total_No_Of_vaccinations</th>\n",
       "      <th>Total_No_People_Vaccinated</th>\n",
       "      <th>Total_No_Of_People_Fully_Vaccinated</th>\n",
       "      <th>daily_vaccinations_raw</th>\n",
       "      <th>daily_vaccinations</th>\n",
       "      <th>total_vaccinations_per_hundred</th>\n",
       "      <th>Total_No_People_Vaccinated_Per_Hundred</th>\n",
       "      <th>Total_No_OF_People_Fully_Vaccinated_Per_Hundred</th>\n",
       "      <th>daily_vaccinations_per_million</th>\n",
       "    </tr>\n",
       "  </thead>\n",
       "  <tbody>\n",
       "    <tr>\n",
       "      <th>count</th>\n",
       "      <td>2.006800e+04</td>\n",
       "      <td>1.915000e+04</td>\n",
       "      <td>1.630200e+04</td>\n",
       "      <td>1.655300e+04</td>\n",
       "      <td>3.582500e+04</td>\n",
       "      <td>20068.000000</td>\n",
       "      <td>19150.000000</td>\n",
       "      <td>16302.000000</td>\n",
       "      <td>35825.000000</td>\n",
       "    </tr>\n",
       "    <tr>\n",
       "      <th>mean</th>\n",
       "      <td>1.501878e+07</td>\n",
       "      <td>6.722639e+06</td>\n",
       "      <td>3.987322e+06</td>\n",
       "      <td>2.461499e+05</td>\n",
       "      <td>1.236407e+05</td>\n",
       "      <td>34.540485</td>\n",
       "      <td>21.884808</td>\n",
       "      <td>14.992973</td>\n",
       "      <td>3526.776776</td>\n",
       "    </tr>\n",
       "    <tr>\n",
       "      <th>std</th>\n",
       "      <td>8.515744e+07</td>\n",
       "      <td>2.436751e+07</td>\n",
       "      <td>1.388563e+07</td>\n",
       "      <td>1.319599e+06</td>\n",
       "      <td>8.830629e+05</td>\n",
       "      <td>38.942081</td>\n",
       "      <td>22.271319</td>\n",
       "      <td>18.100962</td>\n",
       "      <td>4620.617784</td>\n",
       "    </tr>\n",
       "    <tr>\n",
       "      <th>min</th>\n",
       "      <td>0.000000e+00</td>\n",
       "      <td>0.000000e+00</td>\n",
       "      <td>1.000000e+00</td>\n",
       "      <td>0.000000e+00</td>\n",
       "      <td>0.000000e+00</td>\n",
       "      <td>0.000000</td>\n",
       "      <td>0.000000</td>\n",
       "      <td>0.000000</td>\n",
       "      <td>0.000000</td>\n",
       "    </tr>\n",
       "    <tr>\n",
       "      <th>25%</th>\n",
       "      <td>1.534755e+05</td>\n",
       "      <td>1.261890e+05</td>\n",
       "      <td>5.773400e+04</td>\n",
       "      <td>4.695000e+03</td>\n",
       "      <td>8.540000e+02</td>\n",
       "      <td>3.737500</td>\n",
       "      <td>3.052500</td>\n",
       "      <td>1.630000</td>\n",
       "      <td>453.000000</td>\n",
       "    </tr>\n",
       "    <tr>\n",
       "      <th>50%</th>\n",
       "      <td>1.075853e+06</td>\n",
       "      <td>7.646700e+05</td>\n",
       "      <td>4.461465e+05</td>\n",
       "      <td>2.276100e+04</td>\n",
       "      <td>6.855000e+03</td>\n",
       "      <td>18.420000</td>\n",
       "      <td>13.085000</td>\n",
       "      <td>7.160000</td>\n",
       "      <td>2026.000000</td>\n",
       "    </tr>\n",
       "    <tr>\n",
       "      <th>75%</th>\n",
       "      <td>5.421286e+06</td>\n",
       "      <td>3.580238e+06</td>\n",
       "      <td>2.120094e+06</td>\n",
       "      <td>1.032330e+05</td>\n",
       "      <td>3.811000e+04</td>\n",
       "      <td>54.867500</td>\n",
       "      <td>37.147500</td>\n",
       "      <td>22.815000</td>\n",
       "      <td>5268.000000</td>\n",
       "    </tr>\n",
       "    <tr>\n",
       "      <th>max</th>\n",
       "      <td>1.782525e+09</td>\n",
       "      <td>6.220000e+08</td>\n",
       "      <td>2.232990e+08</td>\n",
       "      <td>2.474100e+07</td>\n",
       "      <td>2.242429e+07</td>\n",
       "      <td>232.880000</td>\n",
       "      <td>116.770000</td>\n",
       "      <td>116.110000</td>\n",
       "      <td>118759.000000</td>\n",
       "    </tr>\n",
       "  </tbody>\n",
       "</table>\n",
       "</div>"
      ],
      "text/plain": [
       "       Total_No_Of_vaccinations  Total_No_People_Vaccinated  \\\n",
       "count              2.006800e+04                1.915000e+04   \n",
       "mean               1.501878e+07                6.722639e+06   \n",
       "std                8.515744e+07                2.436751e+07   \n",
       "min                0.000000e+00                0.000000e+00   \n",
       "25%                1.534755e+05                1.261890e+05   \n",
       "50%                1.075853e+06                7.646700e+05   \n",
       "75%                5.421286e+06                3.580238e+06   \n",
       "max                1.782525e+09                6.220000e+08   \n",
       "\n",
       "       Total_No_Of_People_Fully_Vaccinated  daily_vaccinations_raw  \\\n",
       "count                         1.630200e+04            1.655300e+04   \n",
       "mean                          3.987322e+06            2.461499e+05   \n",
       "std                           1.388563e+07            1.319599e+06   \n",
       "min                           1.000000e+00            0.000000e+00   \n",
       "25%                           5.773400e+04            4.695000e+03   \n",
       "50%                           4.461465e+05            2.276100e+04   \n",
       "75%                           2.120094e+06            1.032330e+05   \n",
       "max                           2.232990e+08            2.474100e+07   \n",
       "\n",
       "       daily_vaccinations  total_vaccinations_per_hundred  \\\n",
       "count        3.582500e+04                    20068.000000   \n",
       "mean         1.236407e+05                       34.540485   \n",
       "std          8.830629e+05                       38.942081   \n",
       "min          0.000000e+00                        0.000000   \n",
       "25%          8.540000e+02                        3.737500   \n",
       "50%          6.855000e+03                       18.420000   \n",
       "75%          3.811000e+04                       54.867500   \n",
       "max          2.242429e+07                      232.880000   \n",
       "\n",
       "       Total_No_People_Vaccinated_Per_Hundred  \\\n",
       "count                            19150.000000   \n",
       "mean                                21.884808   \n",
       "std                                 22.271319   \n",
       "min                                  0.000000   \n",
       "25%                                  3.052500   \n",
       "50%                                 13.085000   \n",
       "75%                                 37.147500   \n",
       "max                                116.770000   \n",
       "\n",
       "       Total_No_OF_People_Fully_Vaccinated_Per_Hundred  \\\n",
       "count                                     16302.000000   \n",
       "mean                                         14.992973   \n",
       "std                                          18.100962   \n",
       "min                                           0.000000   \n",
       "25%                                           1.630000   \n",
       "50%                                           7.160000   \n",
       "75%                                          22.815000   \n",
       "max                                         116.110000   \n",
       "\n",
       "       daily_vaccinations_per_million  \n",
       "count                    35825.000000  \n",
       "mean                      3526.776776  \n",
       "std                       4620.617784  \n",
       "min                          0.000000  \n",
       "25%                        453.000000  \n",
       "50%                       2026.000000  \n",
       "75%                       5268.000000  \n",
       "max                     118759.000000  "
      ]
     },
     "execution_count": 22,
     "metadata": {},
     "output_type": "execute_result"
    }
   ],
   "source": [
    "# Checking for mean, max, min and other parameters of columns\n",
    "df_CVN.describe()"
   ]
  },
  {
   "cell_type": "code",
   "execution_count": 23,
   "id": "07d221ef",
   "metadata": {},
   "outputs": [
    {
     "data": {
      "text/plain": [
       "Country                                             object\n",
       "iso_code                                            object\n",
       "Date                                                object\n",
       "Total_No_Of_vaccinations                           float64\n",
       "Total_No_People_Vaccinated                         float64\n",
       "Total_No_Of_People_Fully_Vaccinated                float64\n",
       "daily_vaccinations_raw                             float64\n",
       "daily_vaccinations                                 float64\n",
       "total_vaccinations_per_hundred                     float64\n",
       "Total_No_People_Vaccinated_Per_Hundred             float64\n",
       "Total_No_OF_People_Fully_Vaccinated_Per_Hundred    float64\n",
       "daily_vaccinations_per_million                     float64\n",
       "vaccines                                            object\n",
       "source_name                                         object\n",
       "source_website                                      object\n",
       "dtype: object"
      ]
     },
     "execution_count": 23,
     "metadata": {},
     "output_type": "execute_result"
    }
   ],
   "source": [
    "# Get the column names\n",
    "df_CVN.dtypes"
   ]
  },
  {
   "cell_type": "code",
   "execution_count": 24,
   "id": "2e2e4cf3",
   "metadata": {},
   "outputs": [],
   "source": [
    "#Exporting df_CVN dataframe under Prepared Data folder\n",
    "df_CVN.to_csv(os.path.join(path, 'Data', 'Prepared_Data', 'Country_Vaccinations_Checked.csv'),index=False)"
   ]
  },
  {
   "cell_type": "code",
   "execution_count": null,
   "id": "4f2a6e6e",
   "metadata": {},
   "outputs": [],
   "source": []
  }
 ],
 "metadata": {
  "kernelspec": {
   "display_name": "Python 3",
   "language": "python",
   "name": "python3"
  },
  "language_info": {
   "codemirror_mode": {
    "name": "ipython",
    "version": 3
   },
   "file_extension": ".py",
   "mimetype": "text/x-python",
   "name": "python",
   "nbconvert_exporter": "python",
   "pygments_lexer": "ipython3",
   "version": "3.8.8"
  }
 },
 "nbformat": 4,
 "nbformat_minor": 5
}
