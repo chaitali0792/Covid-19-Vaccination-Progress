{
 "cells": [
  {
   "cell_type": "markdown",
   "id": "07f4bc0b",
   "metadata": {},
   "source": [
    "# 6.3 Geographic Visualization\n",
    "# Contents\n",
    "1. Importing libraries \n",
    "2. Importing data  \n",
    "3. Data wrangling and merging\n",
    "4. Data cleaning\n",
    "5. Plotting a choropleth"
   ]
  },
  {
   "cell_type": "markdown",
   "id": "ec5b6488",
   "metadata": {},
   "source": [
    "# 1. Importing Libraries"
   ]
  },
  {
   "cell_type": "code",
   "execution_count": 1,
   "id": "2119e1b2",
   "metadata": {},
   "outputs": [],
   "source": [
    "#Importing libraries\n",
    "import pandas as pd\n",
    "import numpy as np\n",
    "import seaborn as sns\n",
    "import matplotlib.pyplot as plt\n",
    "import matplotlib\n",
    "import os\n",
    "import geopandas as gpd\n",
    "import geoplot"
   ]
  },
  {
   "cell_type": "code",
   "execution_count": 2,
   "id": "03bb656b",
   "metadata": {},
   "outputs": [],
   "source": [
    "# This command prompts matplotlib visuals to appear in the notebook.\n",
    "\n",
    "%matplotlib inline"
   ]
  },
  {
   "cell_type": "markdown",
   "id": "bd971f93",
   "metadata": {},
   "source": [
    "# 2. Importing Data"
   ]
  },
  {
   "cell_type": "code",
   "execution_count": 3,
   "id": "6fa1bf8a",
   "metadata": {},
   "outputs": [],
   "source": [
    "# Creating common folder path\n",
    "path = r'C:\\Users\\Mukund\\Desktop\\Career Foundry\\Covid-19 Vaccination Progress' "
   ]
  },
  {
   "cell_type": "code",
   "execution_count": 4,
   "id": "cac16fc0",
   "metadata": {},
   "outputs": [
    {
     "data": {
      "text/plain": [
       "'C:\\\\Users\\\\Mukund\\\\Desktop\\\\Career Foundry\\\\Covid-19 Vaccination Progress'"
      ]
     },
     "execution_count": 4,
     "metadata": {},
     "output_type": "execute_result"
    }
   ],
   "source": [
    "path"
   ]
  },
  {
   "cell_type": "code",
   "execution_count": 5,
   "id": "a51fcda9",
   "metadata": {},
   "outputs": [],
   "source": [
    "# Import \".shp\" file for the countries shape outline using the Geopandas `read_csv` command.\n",
    "\n",
    "country = gpd.read_file(os.path.join(path, 'Data', 'Original_Data', 'World_Countries.shp'))"
   ]
  },
  {
   "cell_type": "code",
   "execution_count": 6,
   "id": "cb323946",
   "metadata": {},
   "outputs": [
    {
     "data": {
      "text/html": [
       "<div>\n",
       "<style scoped>\n",
       "    .dataframe tbody tr th:only-of-type {\n",
       "        vertical-align: middle;\n",
       "    }\n",
       "\n",
       "    .dataframe tbody tr th {\n",
       "        vertical-align: top;\n",
       "    }\n",
       "\n",
       "    .dataframe thead th {\n",
       "        text-align: right;\n",
       "    }\n",
       "</style>\n",
       "<table border=\"1\" class=\"dataframe\">\n",
       "  <thead>\n",
       "    <tr style=\"text-align: right;\">\n",
       "      <th></th>\n",
       "      <th>COUNTRY</th>\n",
       "      <th>geometry</th>\n",
       "    </tr>\n",
       "  </thead>\n",
       "  <tbody>\n",
       "    <tr>\n",
       "      <th>0</th>\n",
       "      <td>Aruba (Netherlands)</td>\n",
       "      <td>POLYGON ((-69.88223 12.41111, -69.94695 12.436...</td>\n",
       "    </tr>\n",
       "    <tr>\n",
       "      <th>1</th>\n",
       "      <td>Antigua and Barbuda</td>\n",
       "      <td>MULTIPOLYGON (((-61.73889 17.54055, -61.75195 ...</td>\n",
       "    </tr>\n",
       "    <tr>\n",
       "      <th>2</th>\n",
       "      <td>Afghanistan</td>\n",
       "      <td>POLYGON ((61.27656 35.60725, 61.29638 35.62853...</td>\n",
       "    </tr>\n",
       "    <tr>\n",
       "      <th>3</th>\n",
       "      <td>Algeria</td>\n",
       "      <td>POLYGON ((-5.15213 30.18047, -5.13917 30.19236...</td>\n",
       "    </tr>\n",
       "    <tr>\n",
       "      <th>4</th>\n",
       "      <td>Azerbaijan</td>\n",
       "      <td>MULTIPOLYGON (((46.54037 38.87559, 46.49554 38...</td>\n",
       "    </tr>\n",
       "  </tbody>\n",
       "</table>\n",
       "</div>"
      ],
      "text/plain": [
       "               COUNTRY                                           geometry\n",
       "0  Aruba (Netherlands)  POLYGON ((-69.88223 12.41111, -69.94695 12.436...\n",
       "1  Antigua and Barbuda  MULTIPOLYGON (((-61.73889 17.54055, -61.75195 ...\n",
       "2          Afghanistan  POLYGON ((61.27656 35.60725, 61.29638 35.62853...\n",
       "3              Algeria  POLYGON ((-5.15213 30.18047, -5.13917 30.19236...\n",
       "4           Azerbaijan  MULTIPOLYGON (((46.54037 38.87559, 46.49554 38..."
      ]
     },
     "execution_count": 6,
     "metadata": {},
     "output_type": "execute_result"
    }
   ],
   "source": [
    "# Checking head of data\n",
    "country.head()"
   ]
  },
  {
   "cell_type": "code",
   "execution_count": 7,
   "id": "165e986f",
   "metadata": {},
   "outputs": [
    {
     "data": {
      "text/plain": [
       "(252, 2)"
      ]
     },
     "execution_count": 7,
     "metadata": {},
     "output_type": "execute_result"
    }
   ],
   "source": [
    "country.shape"
   ]
  },
  {
   "cell_type": "code",
   "execution_count": 8,
   "id": "87f1fa6d",
   "metadata": {},
   "outputs": [],
   "source": [
    "# Importing Corona vaccination Data\n",
    "df_CVN = pd.read_csv(os.path.join(path, 'Data', 'Prepared_Data', 'Country_Vaccinations_Checked.csv'), index_col = False)"
   ]
  },
  {
   "cell_type": "code",
   "execution_count": 9,
   "id": "71c9a89a",
   "metadata": {},
   "outputs": [
    {
     "data": {
      "text/html": [
       "<div>\n",
       "<style scoped>\n",
       "    .dataframe tbody tr th:only-of-type {\n",
       "        vertical-align: middle;\n",
       "    }\n",
       "\n",
       "    .dataframe tbody tr th {\n",
       "        vertical-align: top;\n",
       "    }\n",
       "\n",
       "    .dataframe thead th {\n",
       "        text-align: right;\n",
       "    }\n",
       "</style>\n",
       "<table border=\"1\" class=\"dataframe\">\n",
       "  <thead>\n",
       "    <tr style=\"text-align: right;\">\n",
       "      <th></th>\n",
       "      <th>Country</th>\n",
       "      <th>iso_code</th>\n",
       "      <th>Date</th>\n",
       "      <th>Total_No_Of_vaccinations</th>\n",
       "      <th>Total_No_People_Vaccinated</th>\n",
       "      <th>Total_No_Of_People_Fully_Vaccinated</th>\n",
       "      <th>daily_vaccinations_raw</th>\n",
       "      <th>daily_vaccinations</th>\n",
       "      <th>total_vaccinations_per_hundred</th>\n",
       "      <th>Total_No_People_Vaccinated_Per_Hundred</th>\n",
       "      <th>Total_No_OF_People_Fully_Vaccinated_Per_Hundred</th>\n",
       "      <th>daily_vaccinations_per_million</th>\n",
       "      <th>vaccines</th>\n",
       "      <th>source_name</th>\n",
       "      <th>source_website</th>\n",
       "    </tr>\n",
       "  </thead>\n",
       "  <tbody>\n",
       "    <tr>\n",
       "      <th>0</th>\n",
       "      <td>Afghanistan</td>\n",
       "      <td>AFG</td>\n",
       "      <td>22/02/2021</td>\n",
       "      <td>0.0</td>\n",
       "      <td>0.0</td>\n",
       "      <td>NaN</td>\n",
       "      <td>NaN</td>\n",
       "      <td>NaN</td>\n",
       "      <td>0.0</td>\n",
       "      <td>0.0</td>\n",
       "      <td>NaN</td>\n",
       "      <td>NaN</td>\n",
       "      <td>Johnson&amp;Johnson, Oxford/AstraZeneca, Pfizer/Bi...</td>\n",
       "      <td>World Health Organization</td>\n",
       "      <td>https://covid19.who.int/</td>\n",
       "    </tr>\n",
       "    <tr>\n",
       "      <th>1</th>\n",
       "      <td>Afghanistan</td>\n",
       "      <td>AFG</td>\n",
       "      <td>23/02/2021</td>\n",
       "      <td>NaN</td>\n",
       "      <td>NaN</td>\n",
       "      <td>NaN</td>\n",
       "      <td>NaN</td>\n",
       "      <td>1367.0</td>\n",
       "      <td>NaN</td>\n",
       "      <td>NaN</td>\n",
       "      <td>NaN</td>\n",
       "      <td>35.0</td>\n",
       "      <td>Johnson&amp;Johnson, Oxford/AstraZeneca, Pfizer/Bi...</td>\n",
       "      <td>World Health Organization</td>\n",
       "      <td>https://covid19.who.int/</td>\n",
       "    </tr>\n",
       "    <tr>\n",
       "      <th>2</th>\n",
       "      <td>Afghanistan</td>\n",
       "      <td>AFG</td>\n",
       "      <td>24/02/2021</td>\n",
       "      <td>NaN</td>\n",
       "      <td>NaN</td>\n",
       "      <td>NaN</td>\n",
       "      <td>NaN</td>\n",
       "      <td>1367.0</td>\n",
       "      <td>NaN</td>\n",
       "      <td>NaN</td>\n",
       "      <td>NaN</td>\n",
       "      <td>35.0</td>\n",
       "      <td>Johnson&amp;Johnson, Oxford/AstraZeneca, Pfizer/Bi...</td>\n",
       "      <td>World Health Organization</td>\n",
       "      <td>https://covid19.who.int/</td>\n",
       "    </tr>\n",
       "    <tr>\n",
       "      <th>3</th>\n",
       "      <td>Afghanistan</td>\n",
       "      <td>AFG</td>\n",
       "      <td>25/02/2021</td>\n",
       "      <td>NaN</td>\n",
       "      <td>NaN</td>\n",
       "      <td>NaN</td>\n",
       "      <td>NaN</td>\n",
       "      <td>1367.0</td>\n",
       "      <td>NaN</td>\n",
       "      <td>NaN</td>\n",
       "      <td>NaN</td>\n",
       "      <td>35.0</td>\n",
       "      <td>Johnson&amp;Johnson, Oxford/AstraZeneca, Pfizer/Bi...</td>\n",
       "      <td>World Health Organization</td>\n",
       "      <td>https://covid19.who.int/</td>\n",
       "    </tr>\n",
       "    <tr>\n",
       "      <th>4</th>\n",
       "      <td>Afghanistan</td>\n",
       "      <td>AFG</td>\n",
       "      <td>26/02/2021</td>\n",
       "      <td>NaN</td>\n",
       "      <td>NaN</td>\n",
       "      <td>NaN</td>\n",
       "      <td>NaN</td>\n",
       "      <td>1367.0</td>\n",
       "      <td>NaN</td>\n",
       "      <td>NaN</td>\n",
       "      <td>NaN</td>\n",
       "      <td>35.0</td>\n",
       "      <td>Johnson&amp;Johnson, Oxford/AstraZeneca, Pfizer/Bi...</td>\n",
       "      <td>World Health Organization</td>\n",
       "      <td>https://covid19.who.int/</td>\n",
       "    </tr>\n",
       "  </tbody>\n",
       "</table>\n",
       "</div>"
      ],
      "text/plain": [
       "       Country iso_code        Date  Total_No_Of_vaccinations  \\\n",
       "0  Afghanistan      AFG  22/02/2021                       0.0   \n",
       "1  Afghanistan      AFG  23/02/2021                       NaN   \n",
       "2  Afghanistan      AFG  24/02/2021                       NaN   \n",
       "3  Afghanistan      AFG  25/02/2021                       NaN   \n",
       "4  Afghanistan      AFG  26/02/2021                       NaN   \n",
       "\n",
       "   Total_No_People_Vaccinated  Total_No_Of_People_Fully_Vaccinated  \\\n",
       "0                         0.0                                  NaN   \n",
       "1                         NaN                                  NaN   \n",
       "2                         NaN                                  NaN   \n",
       "3                         NaN                                  NaN   \n",
       "4                         NaN                                  NaN   \n",
       "\n",
       "   daily_vaccinations_raw  daily_vaccinations  total_vaccinations_per_hundred  \\\n",
       "0                     NaN                 NaN                             0.0   \n",
       "1                     NaN              1367.0                             NaN   \n",
       "2                     NaN              1367.0                             NaN   \n",
       "3                     NaN              1367.0                             NaN   \n",
       "4                     NaN              1367.0                             NaN   \n",
       "\n",
       "   Total_No_People_Vaccinated_Per_Hundred  \\\n",
       "0                                     0.0   \n",
       "1                                     NaN   \n",
       "2                                     NaN   \n",
       "3                                     NaN   \n",
       "4                                     NaN   \n",
       "\n",
       "   Total_No_OF_People_Fully_Vaccinated_Per_Hundred  \\\n",
       "0                                              NaN   \n",
       "1                                              NaN   \n",
       "2                                              NaN   \n",
       "3                                              NaN   \n",
       "4                                              NaN   \n",
       "\n",
       "   daily_vaccinations_per_million  \\\n",
       "0                             NaN   \n",
       "1                            35.0   \n",
       "2                            35.0   \n",
       "3                            35.0   \n",
       "4                            35.0   \n",
       "\n",
       "                                            vaccines  \\\n",
       "0  Johnson&Johnson, Oxford/AstraZeneca, Pfizer/Bi...   \n",
       "1  Johnson&Johnson, Oxford/AstraZeneca, Pfizer/Bi...   \n",
       "2  Johnson&Johnson, Oxford/AstraZeneca, Pfizer/Bi...   \n",
       "3  Johnson&Johnson, Oxford/AstraZeneca, Pfizer/Bi...   \n",
       "4  Johnson&Johnson, Oxford/AstraZeneca, Pfizer/Bi...   \n",
       "\n",
       "                 source_name            source_website  \n",
       "0  World Health Organization  https://covid19.who.int/  \n",
       "1  World Health Organization  https://covid19.who.int/  \n",
       "2  World Health Organization  https://covid19.who.int/  \n",
       "3  World Health Organization  https://covid19.who.int/  \n",
       "4  World Health Organization  https://covid19.who.int/  "
      ]
     },
     "execution_count": 9,
     "metadata": {},
     "output_type": "execute_result"
    }
   ],
   "source": [
    "# Checking the head data\n",
    "df_CVN.head()"
   ]
  },
  {
   "cell_type": "code",
   "execution_count": 10,
   "id": "ddd905b8",
   "metadata": {},
   "outputs": [
    {
     "data": {
      "text/plain": [
       "(36063, 15)"
      ]
     },
     "execution_count": 10,
     "metadata": {},
     "output_type": "execute_result"
    }
   ],
   "source": [
    "df_CVN.shape"
   ]
  },
  {
   "cell_type": "markdown",
   "id": "da6c608c",
   "metadata": {},
   "source": [
    "# 2. Data wrangling and merging"
   ]
  },
  {
   "cell_type": "markdown",
   "id": "948ba437",
   "metadata": {},
   "source": [
    "We did not need to do wrangling of datasets as the Country columns in both datasets having same values in same format and we just need to rename the country column from shape dataset to match with country column from vaccination dataset."
   ]
  },
  {
   "cell_type": "code",
   "execution_count": 11,
   "id": "94ac659c",
   "metadata": {},
   "outputs": [],
   "source": [
    "country.rename(columns = {'COUNTRY' : 'Country'}, inplace = True)"
   ]
  },
  {
   "cell_type": "code",
   "execution_count": 12,
   "id": "4509ea49",
   "metadata": {},
   "outputs": [
    {
     "data": {
      "text/html": [
       "<div>\n",
       "<style scoped>\n",
       "    .dataframe tbody tr th:only-of-type {\n",
       "        vertical-align: middle;\n",
       "    }\n",
       "\n",
       "    .dataframe tbody tr th {\n",
       "        vertical-align: top;\n",
       "    }\n",
       "\n",
       "    .dataframe thead th {\n",
       "        text-align: right;\n",
       "    }\n",
       "</style>\n",
       "<table border=\"1\" class=\"dataframe\">\n",
       "  <thead>\n",
       "    <tr style=\"text-align: right;\">\n",
       "      <th></th>\n",
       "      <th>Country</th>\n",
       "      <th>geometry</th>\n",
       "    </tr>\n",
       "  </thead>\n",
       "  <tbody>\n",
       "    <tr>\n",
       "      <th>0</th>\n",
       "      <td>Aruba (Netherlands)</td>\n",
       "      <td>POLYGON ((-69.88223 12.41111, -69.94695 12.436...</td>\n",
       "    </tr>\n",
       "    <tr>\n",
       "      <th>1</th>\n",
       "      <td>Antigua and Barbuda</td>\n",
       "      <td>MULTIPOLYGON (((-61.73889 17.54055, -61.75195 ...</td>\n",
       "    </tr>\n",
       "    <tr>\n",
       "      <th>2</th>\n",
       "      <td>Afghanistan</td>\n",
       "      <td>POLYGON ((61.27656 35.60725, 61.29638 35.62853...</td>\n",
       "    </tr>\n",
       "    <tr>\n",
       "      <th>3</th>\n",
       "      <td>Algeria</td>\n",
       "      <td>POLYGON ((-5.15213 30.18047, -5.13917 30.19236...</td>\n",
       "    </tr>\n",
       "    <tr>\n",
       "      <th>4</th>\n",
       "      <td>Azerbaijan</td>\n",
       "      <td>MULTIPOLYGON (((46.54037 38.87559, 46.49554 38...</td>\n",
       "    </tr>\n",
       "  </tbody>\n",
       "</table>\n",
       "</div>"
      ],
      "text/plain": [
       "               Country                                           geometry\n",
       "0  Aruba (Netherlands)  POLYGON ((-69.88223 12.41111, -69.94695 12.436...\n",
       "1  Antigua and Barbuda  MULTIPOLYGON (((-61.73889 17.54055, -61.75195 ...\n",
       "2          Afghanistan  POLYGON ((61.27656 35.60725, 61.29638 35.62853...\n",
       "3              Algeria  POLYGON ((-5.15213 30.18047, -5.13917 30.19236...\n",
       "4           Azerbaijan  MULTIPOLYGON (((46.54037 38.87559, 46.49554 38..."
      ]
     },
     "execution_count": 12,
     "metadata": {},
     "output_type": "execute_result"
    }
   ],
   "source": [
    "country.head()"
   ]
  },
  {
   "cell_type": "code",
   "execution_count": 13,
   "id": "7b589d4f",
   "metadata": {},
   "outputs": [
    {
     "data": {
      "text/plain": [
       "Country     0\n",
       "geometry    0\n",
       "dtype: int64"
      ]
     },
     "execution_count": 13,
     "metadata": {},
     "output_type": "execute_result"
    }
   ],
   "source": [
    "country.isnull().sum()"
   ]
  },
  {
   "cell_type": "code",
   "execution_count": 14,
   "id": "6935c59f",
   "metadata": {},
   "outputs": [],
   "source": [
    "# Merging both data sets\n",
    "country_VCN = country.merge(df_CVN, on = 'Country', how = 'inner', indicator = True)"
   ]
  },
  {
   "cell_type": "code",
   "execution_count": 15,
   "id": "f4d5776e",
   "metadata": {},
   "outputs": [
    {
     "data": {
      "text/plain": [
       "geopandas.geodataframe.GeoDataFrame"
      ]
     },
     "execution_count": 15,
     "metadata": {},
     "output_type": "execute_result"
    }
   ],
   "source": [
    "type(country_VCN)"
   ]
  },
  {
   "cell_type": "code",
   "execution_count": 16,
   "id": "63ffa48d",
   "metadata": {},
   "outputs": [
    {
     "data": {
      "text/plain": [
       "(29686, 17)"
      ]
     },
     "execution_count": 16,
     "metadata": {},
     "output_type": "execute_result"
    }
   ],
   "source": [
    "country_VCN.shape"
   ]
  },
  {
   "cell_type": "code",
   "execution_count": 17,
   "id": "e80f7da4",
   "metadata": {},
   "outputs": [
    {
     "data": {
      "text/html": [
       "<div>\n",
       "<style scoped>\n",
       "    .dataframe tbody tr th:only-of-type {\n",
       "        vertical-align: middle;\n",
       "    }\n",
       "\n",
       "    .dataframe tbody tr th {\n",
       "        vertical-align: top;\n",
       "    }\n",
       "\n",
       "    .dataframe thead th {\n",
       "        text-align: right;\n",
       "    }\n",
       "</style>\n",
       "<table border=\"1\" class=\"dataframe\">\n",
       "  <thead>\n",
       "    <tr style=\"text-align: right;\">\n",
       "      <th></th>\n",
       "      <th>Country</th>\n",
       "      <th>geometry</th>\n",
       "      <th>iso_code</th>\n",
       "      <th>Date</th>\n",
       "      <th>Total_No_Of_vaccinations</th>\n",
       "      <th>Total_No_People_Vaccinated</th>\n",
       "      <th>Total_No_Of_People_Fully_Vaccinated</th>\n",
       "      <th>daily_vaccinations_raw</th>\n",
       "      <th>daily_vaccinations</th>\n",
       "      <th>total_vaccinations_per_hundred</th>\n",
       "      <th>Total_No_People_Vaccinated_Per_Hundred</th>\n",
       "      <th>Total_No_OF_People_Fully_Vaccinated_Per_Hundred</th>\n",
       "      <th>daily_vaccinations_per_million</th>\n",
       "      <th>vaccines</th>\n",
       "      <th>source_name</th>\n",
       "      <th>source_website</th>\n",
       "      <th>_merge</th>\n",
       "    </tr>\n",
       "  </thead>\n",
       "  <tbody>\n",
       "    <tr>\n",
       "      <th>0</th>\n",
       "      <td>Antigua and Barbuda</td>\n",
       "      <td>MULTIPOLYGON (((-61.73889 17.54055, -61.75195 ...</td>\n",
       "      <td>ATG</td>\n",
       "      <td>16/02/2021</td>\n",
       "      <td>0.0</td>\n",
       "      <td>0.0</td>\n",
       "      <td>NaN</td>\n",
       "      <td>NaN</td>\n",
       "      <td>NaN</td>\n",
       "      <td>0.0</td>\n",
       "      <td>0.0</td>\n",
       "      <td>NaN</td>\n",
       "      <td>NaN</td>\n",
       "      <td>Oxford/AstraZeneca</td>\n",
       "      <td>Ministry of Health</td>\n",
       "      <td>https://covid19.gov.ag</td>\n",
       "      <td>both</td>\n",
       "    </tr>\n",
       "    <tr>\n",
       "      <th>1</th>\n",
       "      <td>Antigua and Barbuda</td>\n",
       "      <td>MULTIPOLYGON (((-61.73889 17.54055, -61.75195 ...</td>\n",
       "      <td>ATG</td>\n",
       "      <td>17/02/2021</td>\n",
       "      <td>NaN</td>\n",
       "      <td>NaN</td>\n",
       "      <td>NaN</td>\n",
       "      <td>NaN</td>\n",
       "      <td>895.0</td>\n",
       "      <td>NaN</td>\n",
       "      <td>NaN</td>\n",
       "      <td>NaN</td>\n",
       "      <td>9139.0</td>\n",
       "      <td>Oxford/AstraZeneca</td>\n",
       "      <td>Ministry of Health</td>\n",
       "      <td>https://covid19.gov.ag</td>\n",
       "      <td>both</td>\n",
       "    </tr>\n",
       "    <tr>\n",
       "      <th>2</th>\n",
       "      <td>Antigua and Barbuda</td>\n",
       "      <td>MULTIPOLYGON (((-61.73889 17.54055, -61.75195 ...</td>\n",
       "      <td>ATG</td>\n",
       "      <td>18/02/2021</td>\n",
       "      <td>NaN</td>\n",
       "      <td>NaN</td>\n",
       "      <td>NaN</td>\n",
       "      <td>NaN</td>\n",
       "      <td>895.0</td>\n",
       "      <td>NaN</td>\n",
       "      <td>NaN</td>\n",
       "      <td>NaN</td>\n",
       "      <td>9139.0</td>\n",
       "      <td>Oxford/AstraZeneca</td>\n",
       "      <td>Ministry of Health</td>\n",
       "      <td>https://covid19.gov.ag</td>\n",
       "      <td>both</td>\n",
       "    </tr>\n",
       "    <tr>\n",
       "      <th>3</th>\n",
       "      <td>Antigua and Barbuda</td>\n",
       "      <td>MULTIPOLYGON (((-61.73889 17.54055, -61.75195 ...</td>\n",
       "      <td>ATG</td>\n",
       "      <td>19/02/2021</td>\n",
       "      <td>NaN</td>\n",
       "      <td>NaN</td>\n",
       "      <td>NaN</td>\n",
       "      <td>NaN</td>\n",
       "      <td>895.0</td>\n",
       "      <td>NaN</td>\n",
       "      <td>NaN</td>\n",
       "      <td>NaN</td>\n",
       "      <td>9139.0</td>\n",
       "      <td>Oxford/AstraZeneca</td>\n",
       "      <td>Ministry of Health</td>\n",
       "      <td>https://covid19.gov.ag</td>\n",
       "      <td>both</td>\n",
       "    </tr>\n",
       "    <tr>\n",
       "      <th>4</th>\n",
       "      <td>Antigua and Barbuda</td>\n",
       "      <td>MULTIPOLYGON (((-61.73889 17.54055, -61.75195 ...</td>\n",
       "      <td>ATG</td>\n",
       "      <td>20/02/2021</td>\n",
       "      <td>NaN</td>\n",
       "      <td>NaN</td>\n",
       "      <td>NaN</td>\n",
       "      <td>NaN</td>\n",
       "      <td>895.0</td>\n",
       "      <td>NaN</td>\n",
       "      <td>NaN</td>\n",
       "      <td>NaN</td>\n",
       "      <td>9139.0</td>\n",
       "      <td>Oxford/AstraZeneca</td>\n",
       "      <td>Ministry of Health</td>\n",
       "      <td>https://covid19.gov.ag</td>\n",
       "      <td>both</td>\n",
       "    </tr>\n",
       "  </tbody>\n",
       "</table>\n",
       "</div>"
      ],
      "text/plain": [
       "               Country                                           geometry  \\\n",
       "0  Antigua and Barbuda  MULTIPOLYGON (((-61.73889 17.54055, -61.75195 ...   \n",
       "1  Antigua and Barbuda  MULTIPOLYGON (((-61.73889 17.54055, -61.75195 ...   \n",
       "2  Antigua and Barbuda  MULTIPOLYGON (((-61.73889 17.54055, -61.75195 ...   \n",
       "3  Antigua and Barbuda  MULTIPOLYGON (((-61.73889 17.54055, -61.75195 ...   \n",
       "4  Antigua and Barbuda  MULTIPOLYGON (((-61.73889 17.54055, -61.75195 ...   \n",
       "\n",
       "  iso_code        Date  Total_No_Of_vaccinations  Total_No_People_Vaccinated  \\\n",
       "0      ATG  16/02/2021                       0.0                         0.0   \n",
       "1      ATG  17/02/2021                       NaN                         NaN   \n",
       "2      ATG  18/02/2021                       NaN                         NaN   \n",
       "3      ATG  19/02/2021                       NaN                         NaN   \n",
       "4      ATG  20/02/2021                       NaN                         NaN   \n",
       "\n",
       "   Total_No_Of_People_Fully_Vaccinated  daily_vaccinations_raw  \\\n",
       "0                                  NaN                     NaN   \n",
       "1                                  NaN                     NaN   \n",
       "2                                  NaN                     NaN   \n",
       "3                                  NaN                     NaN   \n",
       "4                                  NaN                     NaN   \n",
       "\n",
       "   daily_vaccinations  total_vaccinations_per_hundred  \\\n",
       "0                 NaN                             0.0   \n",
       "1               895.0                             NaN   \n",
       "2               895.0                             NaN   \n",
       "3               895.0                             NaN   \n",
       "4               895.0                             NaN   \n",
       "\n",
       "   Total_No_People_Vaccinated_Per_Hundred  \\\n",
       "0                                     0.0   \n",
       "1                                     NaN   \n",
       "2                                     NaN   \n",
       "3                                     NaN   \n",
       "4                                     NaN   \n",
       "\n",
       "   Total_No_OF_People_Fully_Vaccinated_Per_Hundred  \\\n",
       "0                                              NaN   \n",
       "1                                              NaN   \n",
       "2                                              NaN   \n",
       "3                                              NaN   \n",
       "4                                              NaN   \n",
       "\n",
       "   daily_vaccinations_per_million            vaccines         source_name  \\\n",
       "0                             NaN  Oxford/AstraZeneca  Ministry of Health   \n",
       "1                          9139.0  Oxford/AstraZeneca  Ministry of Health   \n",
       "2                          9139.0  Oxford/AstraZeneca  Ministry of Health   \n",
       "3                          9139.0  Oxford/AstraZeneca  Ministry of Health   \n",
       "4                          9139.0  Oxford/AstraZeneca  Ministry of Health   \n",
       "\n",
       "           source_website _merge  \n",
       "0  https://covid19.gov.ag   both  \n",
       "1  https://covid19.gov.ag   both  \n",
       "2  https://covid19.gov.ag   both  \n",
       "3  https://covid19.gov.ag   both  \n",
       "4  https://covid19.gov.ag   both  "
      ]
     },
     "execution_count": 17,
     "metadata": {},
     "output_type": "execute_result"
    }
   ],
   "source": [
    "country_VCN.head()"
   ]
  },
  {
   "cell_type": "code",
   "execution_count": 18,
   "id": "9cb86b01",
   "metadata": {},
   "outputs": [
    {
     "data": {
      "text/plain": [
       "both          29686\n",
       "left_only         0\n",
       "right_only        0\n",
       "Name: _merge, dtype: int64"
      ]
     },
     "execution_count": 18,
     "metadata": {},
     "output_type": "execute_result"
    }
   ],
   "source": [
    "country_VCN['_merge'].value_counts()"
   ]
  },
  {
   "cell_type": "markdown",
   "id": "46f8264f",
   "metadata": {},
   "source": [
    "# 4. Data cleaning"
   ]
  },
  {
   "cell_type": "code",
   "execution_count": 19,
   "id": "a07ee2d0",
   "metadata": {},
   "outputs": [
    {
     "data": {
      "text/plain": [
       "Country                                                0\n",
       "geometry                                               0\n",
       "iso_code                                               0\n",
       "Date                                                   0\n",
       "Total_No_Of_vaccinations                           12546\n",
       "Total_No_People_Vaccinated                         13319\n",
       "Total_No_Of_People_Fully_Vaccinated                15822\n",
       "daily_vaccinations_raw                             15363\n",
       "daily_vaccinations                                   196\n",
       "total_vaccinations_per_hundred                     12546\n",
       "Total_No_People_Vaccinated_Per_Hundred             13319\n",
       "Total_No_OF_People_Fully_Vaccinated_Per_Hundred    15822\n",
       "daily_vaccinations_per_million                       196\n",
       "vaccines                                               0\n",
       "source_name                                            0\n",
       "source_website                                         0\n",
       "_merge                                                 0\n",
       "dtype: int64"
      ]
     },
     "execution_count": 19,
     "metadata": {},
     "output_type": "execute_result"
    }
   ],
   "source": [
    "# Check for missing values.\n",
    "country_VCN.isnull().sum()"
   ]
  },
  {
   "cell_type": "markdown",
   "id": "0b6d8a8b",
   "metadata": {},
   "source": [
    "The columns related to number of vaccinations and number of people vaccinated are cumulative and hence contain null values."
   ]
  },
  {
   "cell_type": "code",
   "execution_count": 20,
   "id": "3b800a2f",
   "metadata": {},
   "outputs": [],
   "source": [
    "# Checking for duplicate values\n",
    "dups = country_VCN.duplicated()"
   ]
  },
  {
   "cell_type": "code",
   "execution_count": 21,
   "id": "eb99147c",
   "metadata": {},
   "outputs": [
    {
     "data": {
      "text/plain": [
       "(29686,)"
      ]
     },
     "execution_count": 21,
     "metadata": {},
     "output_type": "execute_result"
    }
   ],
   "source": [
    "dups.shape"
   ]
  },
  {
   "cell_type": "markdown",
   "id": "01797045",
   "metadata": {},
   "source": [
    "No duplicates found"
   ]
  },
  {
   "cell_type": "code",
   "execution_count": 22,
   "id": "a240cfe6",
   "metadata": {},
   "outputs": [
    {
     "name": "stderr",
     "output_type": "stream",
     "text": [
      "C:\\Users\\Mukund\\anaconda3\\envs\\geo_env\\lib\\site-packages\\seaborn\\distributions.py:2557: FutureWarning: `distplot` is a deprecated function and will be removed in a future version. Please adapt your code to use either `displot` (a figure-level function with similar flexibility) or `histplot` (an axes-level function for histograms).\n",
      "  warnings.warn(msg, FutureWarning)\n"
     ]
    },
    {
     "data": {
      "text/plain": [
       "<AxesSubplot:xlabel='Total_No_Of_vaccinations', ylabel='Density'>"
      ]
     },
     "execution_count": 22,
     "metadata": {},
     "output_type": "execute_result"
    },
    {
     "data": {
      "image/png": "[encoded data removed]",
      "text/plain": [
       "<Figure size 432x288 with 1 Axes>"
      ]
     },
     "metadata": {
      "needs_background": "light"
     },
     "output_type": "display_data"
    }
   ],
   "source": [
    "# Extreme values checks for Total number of vaccinations\n",
    "sns.distplot(country_VCN['Total_No_Of_vaccinations'], bins=20)"
   ]
  },
  {
   "cell_type": "code",
   "execution_count": 23,
   "id": "7d7d50f5",
   "metadata": {},
   "outputs": [
    {
     "data": {
      "text/html": [
       "<div>\n",
       "<style scoped>\n",
       "    .dataframe tbody tr th:only-of-type {\n",
       "        vertical-align: middle;\n",
       "    }\n",
       "\n",
       "    .dataframe tbody tr th {\n",
       "        vertical-align: top;\n",
       "    }\n",
       "\n",
       "    .dataframe thead th {\n",
       "        text-align: right;\n",
       "    }\n",
       "</style>\n",
       "<table border=\"1\" class=\"dataframe\">\n",
       "  <thead>\n",
       "    <tr style=\"text-align: right;\">\n",
       "      <th></th>\n",
       "      <th>Country</th>\n",
       "      <th>geometry</th>\n",
       "      <th>iso_code</th>\n",
       "      <th>Date</th>\n",
       "      <th>Total_No_Of_vaccinations</th>\n",
       "      <th>Total_No_People_Vaccinated</th>\n",
       "      <th>Total_No_Of_People_Fully_Vaccinated</th>\n",
       "      <th>daily_vaccinations_raw</th>\n",
       "      <th>daily_vaccinations</th>\n",
       "      <th>total_vaccinations_per_hundred</th>\n",
       "      <th>Total_No_People_Vaccinated_Per_Hundred</th>\n",
       "      <th>Total_No_OF_People_Fully_Vaccinated_Per_Hundred</th>\n",
       "      <th>daily_vaccinations_per_million</th>\n",
       "      <th>vaccines</th>\n",
       "      <th>source_name</th>\n",
       "      <th>source_website</th>\n",
       "      <th>_merge</th>\n",
       "    </tr>\n",
       "  </thead>\n",
       "  <tbody>\n",
       "    <tr>\n",
       "      <th>4365</th>\n",
       "      <td>Brazil</td>\n",
       "      <td>MULTIPOLYGON (((-70.62862 -9.94849, -70.62889 ...</td>\n",
       "      <td>BRA</td>\n",
       "      <td>01/07/2021</td>\n",
       "      <td>102780096.0</td>\n",
       "      <td>75783345.0</td>\n",
       "      <td>26996751.0</td>\n",
       "      <td>NaN</td>\n",
       "      <td>1408975.0</td>\n",
       "      <td>48.35</td>\n",
       "      <td>35.65</td>\n",
       "      <td>12.70</td>\n",
       "      <td>6629.0</td>\n",
       "      <td>Johnson&amp;Johnson, Oxford/AstraZeneca, Pfizer/Bi...</td>\n",
       "      <td>Ministry of Health</td>\n",
       "      <td>https://qsprod.saude.gov.br/extensions/DEMAS_C...</td>\n",
       "      <td>both</td>\n",
       "    </tr>\n",
       "    <tr>\n",
       "      <th>4368</th>\n",
       "      <td>Brazil</td>\n",
       "      <td>MULTIPOLYGON (((-70.62862 -9.94849, -70.62889 ...</td>\n",
       "      <td>BRA</td>\n",
       "      <td>04/07/2021</td>\n",
       "      <td>105301611.0</td>\n",
       "      <td>77653882.0</td>\n",
       "      <td>27647729.0</td>\n",
       "      <td>NaN</td>\n",
       "      <td>1213850.0</td>\n",
       "      <td>49.54</td>\n",
       "      <td>36.53</td>\n",
       "      <td>13.01</td>\n",
       "      <td>5711.0</td>\n",
       "      <td>Johnson&amp;Johnson, Oxford/AstraZeneca, Pfizer/Bi...</td>\n",
       "      <td>Ministry of Health</td>\n",
       "      <td>https://qsprod.saude.gov.br/extensions/DEMAS_C...</td>\n",
       "      <td>both</td>\n",
       "    </tr>\n",
       "    <tr>\n",
       "      <th>4369</th>\n",
       "      <td>Brazil</td>\n",
       "      <td>MULTIPOLYGON (((-70.62862 -9.94849, -70.62889 ...</td>\n",
       "      <td>BRA</td>\n",
       "      <td>05/07/2021</td>\n",
       "      <td>106909223.0</td>\n",
       "      <td>78950076.0</td>\n",
       "      <td>27959147.0</td>\n",
       "      <td>1607612.0</td>\n",
       "      <td>1427899.0</td>\n",
       "      <td>50.30</td>\n",
       "      <td>37.14</td>\n",
       "      <td>13.15</td>\n",
       "      <td>6718.0</td>\n",
       "      <td>Johnson&amp;Johnson, Oxford/AstraZeneca, Pfizer/Bi...</td>\n",
       "      <td>Ministry of Health</td>\n",
       "      <td>https://qsprod.saude.gov.br/extensions/DEMAS_C...</td>\n",
       "      <td>both</td>\n",
       "    </tr>\n",
       "    <tr>\n",
       "      <th>4370</th>\n",
       "      <td>Brazil</td>\n",
       "      <td>MULTIPOLYGON (((-70.62862 -9.94849, -70.62889 ...</td>\n",
       "      <td>BRA</td>\n",
       "      <td>06/07/2021</td>\n",
       "      <td>107628177.0</td>\n",
       "      <td>79467536.0</td>\n",
       "      <td>28160641.0</td>\n",
       "      <td>718954.0</td>\n",
       "      <td>1257242.0</td>\n",
       "      <td>50.63</td>\n",
       "      <td>37.39</td>\n",
       "      <td>13.25</td>\n",
       "      <td>5915.0</td>\n",
       "      <td>Johnson&amp;Johnson, Oxford/AstraZeneca, Pfizer/Bi...</td>\n",
       "      <td>Ministry of Health</td>\n",
       "      <td>https://qsprod.saude.gov.br/extensions/DEMAS_C...</td>\n",
       "      <td>both</td>\n",
       "    </tr>\n",
       "    <tr>\n",
       "      <th>4371</th>\n",
       "      <td>Brazil</td>\n",
       "      <td>MULTIPOLYGON (((-70.62862 -9.94849, -70.62889 ...</td>\n",
       "      <td>BRA</td>\n",
       "      <td>07/07/2021</td>\n",
       "      <td>110101829.0</td>\n",
       "      <td>81134483.0</td>\n",
       "      <td>28967346.0</td>\n",
       "      <td>2473652.0</td>\n",
       "      <td>1328291.0</td>\n",
       "      <td>51.80</td>\n",
       "      <td>38.17</td>\n",
       "      <td>13.63</td>\n",
       "      <td>6249.0</td>\n",
       "      <td>Johnson&amp;Johnson, Oxford/AstraZeneca, Pfizer/Bi...</td>\n",
       "      <td>Ministry of Health</td>\n",
       "      <td>https://qsprod.saude.gov.br/extensions/DEMAS_C...</td>\n",
       "      <td>both</td>\n",
       "    </tr>\n",
       "    <tr>\n",
       "      <th>...</th>\n",
       "      <td>...</td>\n",
       "      <td>...</td>\n",
       "      <td>...</td>\n",
       "      <td>...</td>\n",
       "      <td>...</td>\n",
       "      <td>...</td>\n",
       "      <td>...</td>\n",
       "      <td>...</td>\n",
       "      <td>...</td>\n",
       "      <td>...</td>\n",
       "      <td>...</td>\n",
       "      <td>...</td>\n",
       "      <td>...</td>\n",
       "      <td>...</td>\n",
       "      <td>...</td>\n",
       "      <td>...</td>\n",
       "      <td>...</td>\n",
       "    </tr>\n",
       "    <tr>\n",
       "      <th>28215</th>\n",
       "      <td>United States</td>\n",
       "      <td>MULTIPOLYGON (((-134.97501 58.64583, -134.9213...</td>\n",
       "      <td>USA</td>\n",
       "      <td>04/08/2021</td>\n",
       "      <td>348102478.0</td>\n",
       "      <td>192614017.0</td>\n",
       "      <td>165334987.0</td>\n",
       "      <td>725329.0</td>\n",
       "      <td>677279.0</td>\n",
       "      <td>104.08</td>\n",
       "      <td>57.59</td>\n",
       "      <td>49.44</td>\n",
       "      <td>2025.0</td>\n",
       "      <td>Johnson&amp;Johnson, Moderna, Pfizer/BioNTech</td>\n",
       "      <td>Centers for Disease Control and Prevention</td>\n",
       "      <td>https://covid.cdc.gov/covid-data-tracker/COVID...</td>\n",
       "      <td>both</td>\n",
       "    </tr>\n",
       "    <tr>\n",
       "      <th>28216</th>\n",
       "      <td>United States</td>\n",
       "      <td>MULTIPOLYGON (((-134.97501 58.64583, -134.9213...</td>\n",
       "      <td>USA</td>\n",
       "      <td>05/08/2021</td>\n",
       "      <td>348966419.0</td>\n",
       "      <td>193199353.0</td>\n",
       "      <td>165637566.0</td>\n",
       "      <td>863941.0</td>\n",
       "      <td>699261.0</td>\n",
       "      <td>104.34</td>\n",
       "      <td>57.77</td>\n",
       "      <td>49.53</td>\n",
       "      <td>2091.0</td>\n",
       "      <td>Johnson&amp;Johnson, Moderna, Pfizer/BioNTech</td>\n",
       "      <td>Centers for Disease Control and Prevention</td>\n",
       "      <td>https://covid.cdc.gov/covid-data-tracker/COVID...</td>\n",
       "      <td>both</td>\n",
       "    </tr>\n",
       "    <tr>\n",
       "      <th>28217</th>\n",
       "      <td>United States</td>\n",
       "      <td>MULTIPOLYGON (((-134.97501 58.64583, -134.9213...</td>\n",
       "      <td>USA</td>\n",
       "      <td>06/08/2021</td>\n",
       "      <td>349787479.0</td>\n",
       "      <td>193764457.0</td>\n",
       "      <td>165918256.0</td>\n",
       "      <td>821060.0</td>\n",
       "      <td>694138.0</td>\n",
       "      <td>104.59</td>\n",
       "      <td>57.94</td>\n",
       "      <td>49.61</td>\n",
       "      <td>2076.0</td>\n",
       "      <td>Johnson&amp;Johnson, Moderna, Pfizer/BioNTech</td>\n",
       "      <td>Centers for Disease Control and Prevention</td>\n",
       "      <td>https://covid.cdc.gov/covid-data-tracker/COVID...</td>\n",
       "      <td>both</td>\n",
       "    </tr>\n",
       "    <tr>\n",
       "      <th>28218</th>\n",
       "      <td>United States</td>\n",
       "      <td>MULTIPOLYGON (((-134.97501 58.64583, -134.9213...</td>\n",
       "      <td>USA</td>\n",
       "      <td>07/08/2021</td>\n",
       "      <td>350627188.0</td>\n",
       "      <td>194346486.0</td>\n",
       "      <td>166203176.0</td>\n",
       "      <td>839709.0</td>\n",
       "      <td>712389.0</td>\n",
       "      <td>104.84</td>\n",
       "      <td>58.11</td>\n",
       "      <td>49.70</td>\n",
       "      <td>2130.0</td>\n",
       "      <td>Johnson&amp;Johnson, Moderna, Pfizer/BioNTech</td>\n",
       "      <td>Centers for Disease Control and Prevention</td>\n",
       "      <td>https://covid.cdc.gov/covid-data-tracker/COVID...</td>\n",
       "      <td>both</td>\n",
       "    </tr>\n",
       "    <tr>\n",
       "      <th>28219</th>\n",
       "      <td>United States</td>\n",
       "      <td>MULTIPOLYGON (((-134.97501 58.64583, -134.9213...</td>\n",
       "      <td>USA</td>\n",
       "      <td>08/08/2021</td>\n",
       "      <td>351400930.0</td>\n",
       "      <td>194866738.0</td>\n",
       "      <td>166477481.0</td>\n",
       "      <td>773742.0</td>\n",
       "      <td>706323.0</td>\n",
       "      <td>105.07</td>\n",
       "      <td>58.27</td>\n",
       "      <td>49.78</td>\n",
       "      <td>2112.0</td>\n",
       "      <td>Johnson&amp;Johnson, Moderna, Pfizer/BioNTech</td>\n",
       "      <td>Centers for Disease Control and Prevention</td>\n",
       "      <td>https://covid.cdc.gov/covid-data-tracker/COVID...</td>\n",
       "      <td>both</td>\n",
       "    </tr>\n",
       "  </tbody>\n",
       "</table>\n",
       "<p>430 rows × 17 columns</p>\n",
       "</div>"
      ],
      "text/plain": [
       "             Country                                           geometry  \\\n",
       "4365          Brazil  MULTIPOLYGON (((-70.62862 -9.94849, -70.62889 ...   \n",
       "4368          Brazil  MULTIPOLYGON (((-70.62862 -9.94849, -70.62889 ...   \n",
       "4369          Brazil  MULTIPOLYGON (((-70.62862 -9.94849, -70.62889 ...   \n",
       "4370          Brazil  MULTIPOLYGON (((-70.62862 -9.94849, -70.62889 ...   \n",
       "4371          Brazil  MULTIPOLYGON (((-70.62862 -9.94849, -70.62889 ...   \n",
       "...              ...                                                ...   \n",
       "28215  United States  MULTIPOLYGON (((-134.97501 58.64583, -134.9213...   \n",
       "28216  United States  MULTIPOLYGON (((-134.97501 58.64583, -134.9213...   \n",
       "28217  United States  MULTIPOLYGON (((-134.97501 58.64583, -134.9213...   \n",
       "28218  United States  MULTIPOLYGON (((-134.97501 58.64583, -134.9213...   \n",
       "28219  United States  MULTIPOLYGON (((-134.97501 58.64583, -134.9213...   \n",
       "\n",
       "      iso_code        Date  Total_No_Of_vaccinations  \\\n",
       "4365       BRA  01/07/2021               102780096.0   \n",
       "4368       BRA  04/07/2021               105301611.0   \n",
       "4369       BRA  05/07/2021               106909223.0   \n",
       "4370       BRA  06/07/2021               107628177.0   \n",
       "4371       BRA  07/07/2021               110101829.0   \n",
       "...        ...         ...                       ...   \n",
       "28215      USA  04/08/2021               348102478.0   \n",
       "28216      USA  05/08/2021               348966419.0   \n",
       "28217      USA  06/08/2021               349787479.0   \n",
       "28218      USA  07/08/2021               350627188.0   \n",
       "28219      USA  08/08/2021               351400930.0   \n",
       "\n",
       "       Total_No_People_Vaccinated  Total_No_Of_People_Fully_Vaccinated  \\\n",
       "4365                   75783345.0                           26996751.0   \n",
       "4368                   77653882.0                           27647729.0   \n",
       "4369                   78950076.0                           27959147.0   \n",
       "4370                   79467536.0                           28160641.0   \n",
       "4371                   81134483.0                           28967346.0   \n",
       "...                           ...                                  ...   \n",
       "28215                 192614017.0                          165334987.0   \n",
       "28216                 193199353.0                          165637566.0   \n",
       "28217                 193764457.0                          165918256.0   \n",
       "28218                 194346486.0                          166203176.0   \n",
       "28219                 194866738.0                          166477481.0   \n",
       "\n",
       "       daily_vaccinations_raw  daily_vaccinations  \\\n",
       "4365                      NaN           1408975.0   \n",
       "4368                      NaN           1213850.0   \n",
       "4369                1607612.0           1427899.0   \n",
       "4370                 718954.0           1257242.0   \n",
       "4371                2473652.0           1328291.0   \n",
       "...                       ...                 ...   \n",
       "28215                725329.0            677279.0   \n",
       "28216                863941.0            699261.0   \n",
       "28217                821060.0            694138.0   \n",
       "28218                839709.0            712389.0   \n",
       "28219                773742.0            706323.0   \n",
       "\n",
       "       total_vaccinations_per_hundred  Total_No_People_Vaccinated_Per_Hundred  \\\n",
       "4365                            48.35                                   35.65   \n",
       "4368                            49.54                                   36.53   \n",
       "4369                            50.30                                   37.14   \n",
       "4370                            50.63                                   37.39   \n",
       "4371                            51.80                                   38.17   \n",
       "...                               ...                                     ...   \n",
       "28215                          104.08                                   57.59   \n",
       "28216                          104.34                                   57.77   \n",
       "28217                          104.59                                   57.94   \n",
       "28218                          104.84                                   58.11   \n",
       "28219                          105.07                                   58.27   \n",
       "\n",
       "       Total_No_OF_People_Fully_Vaccinated_Per_Hundred  \\\n",
       "4365                                             12.70   \n",
       "4368                                             13.01   \n",
       "4369                                             13.15   \n",
       "4370                                             13.25   \n",
       "4371                                             13.63   \n",
       "...                                                ...   \n",
       "28215                                            49.44   \n",
       "28216                                            49.53   \n",
       "28217                                            49.61   \n",
       "28218                                            49.70   \n",
       "28219                                            49.78   \n",
       "\n",
       "       daily_vaccinations_per_million  \\\n",
       "4365                           6629.0   \n",
       "4368                           5711.0   \n",
       "4369                           6718.0   \n",
       "4370                           5915.0   \n",
       "4371                           6249.0   \n",
       "...                               ...   \n",
       "28215                          2025.0   \n",
       "28216                          2091.0   \n",
       "28217                          2076.0   \n",
       "28218                          2130.0   \n",
       "28219                          2112.0   \n",
       "\n",
       "                                                vaccines  \\\n",
       "4365   Johnson&Johnson, Oxford/AstraZeneca, Pfizer/Bi...   \n",
       "4368   Johnson&Johnson, Oxford/AstraZeneca, Pfizer/Bi...   \n",
       "4369   Johnson&Johnson, Oxford/AstraZeneca, Pfizer/Bi...   \n",
       "4370   Johnson&Johnson, Oxford/AstraZeneca, Pfizer/Bi...   \n",
       "4371   Johnson&Johnson, Oxford/AstraZeneca, Pfizer/Bi...   \n",
       "...                                                  ...   \n",
       "28215          Johnson&Johnson, Moderna, Pfizer/BioNTech   \n",
       "28216          Johnson&Johnson, Moderna, Pfizer/BioNTech   \n",
       "28217          Johnson&Johnson, Moderna, Pfizer/BioNTech   \n",
       "28218          Johnson&Johnson, Moderna, Pfizer/BioNTech   \n",
       "28219          Johnson&Johnson, Moderna, Pfizer/BioNTech   \n",
       "\n",
       "                                      source_name  \\\n",
       "4365                           Ministry of Health   \n",
       "4368                           Ministry of Health   \n",
       "4369                           Ministry of Health   \n",
       "4370                           Ministry of Health   \n",
       "4371                           Ministry of Health   \n",
       "...                                           ...   \n",
       "28215  Centers for Disease Control and Prevention   \n",
       "28216  Centers for Disease Control and Prevention   \n",
       "28217  Centers for Disease Control and Prevention   \n",
       "28218  Centers for Disease Control and Prevention   \n",
       "28219  Centers for Disease Control and Prevention   \n",
       "\n",
       "                                          source_website _merge  \n",
       "4365   https://qsprod.saude.gov.br/extensions/DEMAS_C...   both  \n",
       "4368   https://qsprod.saude.gov.br/extensions/DEMAS_C...   both  \n",
       "4369   https://qsprod.saude.gov.br/extensions/DEMAS_C...   both  \n",
       "4370   https://qsprod.saude.gov.br/extensions/DEMAS_C...   both  \n",
       "4371   https://qsprod.saude.gov.br/extensions/DEMAS_C...   both  \n",
       "...                                                  ...    ...  \n",
       "28215  https://covid.cdc.gov/covid-data-tracker/COVID...   both  \n",
       "28216  https://covid.cdc.gov/covid-data-tracker/COVID...   both  \n",
       "28217  https://covid.cdc.gov/covid-data-tracker/COVID...   both  \n",
       "28218  https://covid.cdc.gov/covid-data-tracker/COVID...   both  \n",
       "28219  https://covid.cdc.gov/covid-data-tracker/COVID...   both  \n",
       "\n",
       "[430 rows x 17 columns]"
      ]
     },
     "execution_count": 23,
     "metadata": {},
     "output_type": "execute_result"
    }
   ],
   "source": [
    "# Check how many extreme values.\n",
    "\n",
    "country_VCN[country_VCN['Total_No_Of_vaccinations'] >100000000]"
   ]
  },
  {
   "cell_type": "code",
   "execution_count": 24,
   "id": "1b3e237f",
   "metadata": {},
   "outputs": [],
   "source": [
    "# Clean extreme values.\n",
    "country_VCN_Final = country_VCN[country_VCN['Total_No_Of_vaccinations'] < 100000000] "
   ]
  },
  {
   "cell_type": "code",
   "execution_count": 25,
   "id": "cd088231",
   "metadata": {},
   "outputs": [
    {
     "data": {
      "text/plain": [
       "(16710, 17)"
      ]
     },
     "execution_count": 25,
     "metadata": {},
     "output_type": "execute_result"
    }
   ],
   "source": [
    "country_VCN_Final.shape"
   ]
  },
  {
   "cell_type": "code",
   "execution_count": 26,
   "id": "7037e5a5",
   "metadata": {},
   "outputs": [
    {
     "name": "stderr",
     "output_type": "stream",
     "text": [
      "C:\\Users\\Mukund\\anaconda3\\envs\\geo_env\\lib\\site-packages\\pandas\\core\\frame.py:4901: SettingWithCopyWarning: \n",
      "A value is trying to be set on a copy of a slice from a DataFrame\n",
      "\n",
      "See the caveats in the documentation: https://pandas.pydata.org/pandas-docs/stable/user_guide/indexing.html#returning-a-view-versus-a-copy\n",
      "  return super().drop(\n"
     ]
    }
   ],
   "source": [
    "# Saving the GeoDataFrame\n",
    "country_VCN_Final.drop(columns =\"_merge\", inplace = True) "
   ]
  },
  {
   "cell_type": "code",
   "execution_count": 27,
   "id": "36da70a2",
   "metadata": {},
   "outputs": [
    {
     "name": "stderr",
     "output_type": "stream",
     "text": [
      "C:\\Users\\Mukund\\AppData\\Local\\Temp/ipykernel_16400/2953391310.py:2: UserWarning: Column names longer than 10 characters will be truncated when saved to ESRI Shapefile.\n",
      "  country_VCN_Final.to_file(out)\n"
     ]
    }
   ],
   "source": [
    "out = r\"C:\\Users\\Mukund\\Desktop\\Career Foundry\\Covid-19 Vaccination Progress\\Data\\Prepared_Data\\Country_Vaccination.shp\"\n",
    "country_VCN_Final.to_file(out)"
   ]
  },
  {
   "cell_type": "markdown",
   "id": "19d2c8be",
   "metadata": {},
   "source": [
    "# Plotting a choropleth"
   ]
  },
  {
   "cell_type": "code",
   "execution_count": 29,
   "id": "3d58da36",
   "metadata": {},
   "outputs": [
    {
     "data": {
      "image/png": "[encoded data removed]",
      "text/plain": [
       "<Figure size 1440x1440 with 1 Axes>"
      ]
     },
     "metadata": {
      "needs_background": "light"
     },
     "output_type": "display_data"
    }
   ],
   "source": [
    "#Using Geoplot\n",
    "gp = geoplot.choropleth(\n",
    "    country_VCN_Final, hue = country_VCN_Final['Total_No_Of_vaccinations'], scheme = None,\n",
    "    cmap='Reds', figsize=(20, 20)\n",
    ")"
   ]
  },
  {
   "cell_type": "markdown",
   "id": "854a612d",
   "metadata": {},
   "source": [
    "We have created above world map using geoplot for total number of vaccinations i.e. the absolute number of total immunizations in the country. It represnts the sum of total vaccinations by country. We can see that there are many countries like China, India, USA, Japan, Brazil, Russia, Germany having the darkest color(Brown) representing the highest number of total vaccinations. \n",
    "On other hand, some countries from middle east and Africa having lighter shades of colors which represent less number of total vaccinations. The countries are Iran, Afganistan, Tajikistan, Algeria, Sudan, Egypt, South Africa, Zimbabwe etc.\n",
    "From this visualization, we got the answers for two questions from our research questions. \n",
    "1. What are the top 10 countries in vaccination progress?(in term of total vaccinations)\n",
    "2. Which 10 countries are lagging in vaccination? ?(in term of total vaccinations\n",
    "But we can not see the exact count or total number or country's name from this map after hovering over it like we do get in tableau."
   ]
  },
  {
   "cell_type": "code",
   "execution_count": null,
   "id": "b47fa180",
   "metadata": {},
   "outputs": [],
   "source": []
  }
 ],
 "metadata": {
  "kernelspec": {
   "display_name": "Python 3",
   "language": "python",
   "name": "python3"
  },
  "language_info": {
   "codemirror_mode": {
    "name": "ipython",
    "version": 3
   },
   "file_extension": ".py",
   "mimetype": "text/x-python",
   "name": "python",
   "nbconvert_exporter": "python",
   "pygments_lexer": "ipython3",
   "version": "3.8.8"
  }
 },
 "nbformat": 4,
 "nbformat_minor": 5
}
