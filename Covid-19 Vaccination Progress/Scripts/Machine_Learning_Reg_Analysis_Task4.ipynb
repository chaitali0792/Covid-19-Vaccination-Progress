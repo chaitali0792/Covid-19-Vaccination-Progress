{
 "cells": [
  {
   "cell_type": "markdown",
   "id": "6f2d6d7a",
   "metadata": {},
   "source": [
    "# 6.4 Machine Learning\n",
    "\n",
    "# Contents\n",
    "\n",
    "1. Importing libraries \n",
    "2. Importing data\n",
    "3. Data cleaning\n",
    "4. Data prep for regression analysis\n",
    "5. Regression analysis\n"
   ]
  },
  {
   "cell_type": "markdown",
   "id": "085264d8",
   "metadata": {},
   "source": [
    "# 1. Importing Libraries"
   ]
  },
  {
   "cell_type": "code",
   "execution_count": 2,
   "id": "ae8cfb98",
   "metadata": {},
   "outputs": [],
   "source": [
    "#Importing libraries\n",
    "import pandas as pd\n",
    "import numpy as np\n",
    "import seaborn as sns\n",
    "import matplotlib\n",
    "import matplotlib.pyplot as plt\n",
    "import os\n",
    "import sklearn\n",
    "from sklearn.model_selection import train_test_split \n",
    "from sklearn.linear_model import LinearRegression\n",
    "from sklearn.metrics import mean_squared_error, r2_score"
   ]
  },
  {
   "cell_type": "code",
   "execution_count": 3,
   "id": "e228d298",
   "metadata": {},
   "outputs": [],
   "source": [
    "# This option ensures that the graphs you create are displayed within the notebook without the need to \"call\" them specifically.\n",
    "\n",
    "%matplotlib inline"
   ]
  },
  {
   "cell_type": "markdown",
   "id": "6605c074",
   "metadata": {},
   "source": [
    "# 2. Importing Data"
   ]
  },
  {
   "cell_type": "code",
   "execution_count": 4,
   "id": "1d3805b7",
   "metadata": {},
   "outputs": [],
   "source": [
    "#Creating common folder path\n",
    "path = r'C:\\Users\\Mukund\\Desktop\\Career Foundry\\Covid-19 Vaccination Progress' "
   ]
  },
  {
   "cell_type": "code",
   "execution_count": 5,
   "id": "38145087",
   "metadata": {},
   "outputs": [
    {
     "data": {
      "text/plain": [
       "'C:\\\\Users\\\\Mukund\\\\Desktop\\\\Career Foundry\\\\Covid-19 Vaccination Progress'"
      ]
     },
     "execution_count": 5,
     "metadata": {},
     "output_type": "execute_result"
    }
   ],
   "source": [
    "path"
   ]
  },
  {
   "cell_type": "code",
   "execution_count": 6,
   "id": "ebb1836e",
   "metadata": {},
   "outputs": [],
   "source": [
    "# Importing Corona vaccination Data\n",
    "df_CVN = pd.read_csv(os.path.join(path, 'Data', 'Prepared_Data', 'Country_Vaccinations_Checked.csv'), index_col = False)"
   ]
  },
  {
   "cell_type": "code",
   "execution_count": 7,
   "id": "afec12d1",
   "metadata": {},
   "outputs": [
    {
     "data": {
      "text/plain": [
       "Index(['Country', 'iso_code', 'Date', 'Total_No_Of_vaccinations',\n",
       "       'Total_No_People_Vaccinated', 'Total_No_Of_People_Fully_Vaccinated',\n",
       "       'daily_vaccinations_raw', 'daily_vaccinations',\n",
       "       'total_vaccinations_per_hundred',\n",
       "       'Total_No_People_Vaccinated_Per_Hundred',\n",
       "       'Total_No_OF_People_Fully_Vaccinated_Per_Hundred',\n",
       "       'daily_vaccinations_per_million', 'vaccines', 'source_name',\n",
       "       'source_website'],\n",
       "      dtype='object')"
      ]
     },
     "execution_count": 7,
     "metadata": {},
     "output_type": "execute_result"
    }
   ],
   "source": [
    "df_CVN.columns"
   ]
  },
  {
   "cell_type": "code",
   "execution_count": 9,
   "id": "8116ea49",
   "metadata": {},
   "outputs": [
    {
     "data": {
      "text/plain": [
       "(36063, 15)"
      ]
     },
     "execution_count": 9,
     "metadata": {},
     "output_type": "execute_result"
    }
   ],
   "source": [
    "df_CVN.shape"
   ]
  },
  {
   "cell_type": "code",
   "execution_count": 10,
   "id": "7490a51e",
   "metadata": {},
   "outputs": [
    {
     "data": {
      "text/html": [
       "<div>\n",
       "<style scoped>\n",
       "    .dataframe tbody tr th:only-of-type {\n",
       "        vertical-align: middle;\n",
       "    }\n",
       "\n",
       "    .dataframe tbody tr th {\n",
       "        vertical-align: top;\n",
       "    }\n",
       "\n",
       "    .dataframe thead th {\n",
       "        text-align: right;\n",
       "    }\n",
       "</style>\n",
       "<table border=\"1\" class=\"dataframe\">\n",
       "  <thead>\n",
       "    <tr style=\"text-align: right;\">\n",
       "      <th></th>\n",
       "      <th>Country</th>\n",
       "      <th>iso_code</th>\n",
       "      <th>Date</th>\n",
       "      <th>Total_No_Of_vaccinations</th>\n",
       "      <th>Total_No_People_Vaccinated</th>\n",
       "      <th>Total_No_Of_People_Fully_Vaccinated</th>\n",
       "      <th>daily_vaccinations_raw</th>\n",
       "      <th>daily_vaccinations</th>\n",
       "      <th>total_vaccinations_per_hundred</th>\n",
       "      <th>Total_No_People_Vaccinated_Per_Hundred</th>\n",
       "      <th>Total_No_OF_People_Fully_Vaccinated_Per_Hundred</th>\n",
       "      <th>daily_vaccinations_per_million</th>\n",
       "      <th>vaccines</th>\n",
       "      <th>source_name</th>\n",
       "      <th>source_website</th>\n",
       "    </tr>\n",
       "  </thead>\n",
       "  <tbody>\n",
       "    <tr>\n",
       "      <th>0</th>\n",
       "      <td>Afghanistan</td>\n",
       "      <td>AFG</td>\n",
       "      <td>22/02/2021</td>\n",
       "      <td>0.0</td>\n",
       "      <td>0.0</td>\n",
       "      <td>NaN</td>\n",
       "      <td>NaN</td>\n",
       "      <td>NaN</td>\n",
       "      <td>0.0</td>\n",
       "      <td>0.0</td>\n",
       "      <td>NaN</td>\n",
       "      <td>NaN</td>\n",
       "      <td>Johnson&amp;Johnson, Oxford/AstraZeneca, Pfizer/Bi...</td>\n",
       "      <td>World Health Organization</td>\n",
       "      <td>https://covid19.who.int/</td>\n",
       "    </tr>\n",
       "    <tr>\n",
       "      <th>1</th>\n",
       "      <td>Afghanistan</td>\n",
       "      <td>AFG</td>\n",
       "      <td>23/02/2021</td>\n",
       "      <td>NaN</td>\n",
       "      <td>NaN</td>\n",
       "      <td>NaN</td>\n",
       "      <td>NaN</td>\n",
       "      <td>1367.0</td>\n",
       "      <td>NaN</td>\n",
       "      <td>NaN</td>\n",
       "      <td>NaN</td>\n",
       "      <td>35.0</td>\n",
       "      <td>Johnson&amp;Johnson, Oxford/AstraZeneca, Pfizer/Bi...</td>\n",
       "      <td>World Health Organization</td>\n",
       "      <td>https://covid19.who.int/</td>\n",
       "    </tr>\n",
       "    <tr>\n",
       "      <th>2</th>\n",
       "      <td>Afghanistan</td>\n",
       "      <td>AFG</td>\n",
       "      <td>24/02/2021</td>\n",
       "      <td>NaN</td>\n",
       "      <td>NaN</td>\n",
       "      <td>NaN</td>\n",
       "      <td>NaN</td>\n",
       "      <td>1367.0</td>\n",
       "      <td>NaN</td>\n",
       "      <td>NaN</td>\n",
       "      <td>NaN</td>\n",
       "      <td>35.0</td>\n",
       "      <td>Johnson&amp;Johnson, Oxford/AstraZeneca, Pfizer/Bi...</td>\n",
       "      <td>World Health Organization</td>\n",
       "      <td>https://covid19.who.int/</td>\n",
       "    </tr>\n",
       "    <tr>\n",
       "      <th>3</th>\n",
       "      <td>Afghanistan</td>\n",
       "      <td>AFG</td>\n",
       "      <td>25/02/2021</td>\n",
       "      <td>NaN</td>\n",
       "      <td>NaN</td>\n",
       "      <td>NaN</td>\n",
       "      <td>NaN</td>\n",
       "      <td>1367.0</td>\n",
       "      <td>NaN</td>\n",
       "      <td>NaN</td>\n",
       "      <td>NaN</td>\n",
       "      <td>35.0</td>\n",
       "      <td>Johnson&amp;Johnson, Oxford/AstraZeneca, Pfizer/Bi...</td>\n",
       "      <td>World Health Organization</td>\n",
       "      <td>https://covid19.who.int/</td>\n",
       "    </tr>\n",
       "    <tr>\n",
       "      <th>4</th>\n",
       "      <td>Afghanistan</td>\n",
       "      <td>AFG</td>\n",
       "      <td>26/02/2021</td>\n",
       "      <td>NaN</td>\n",
       "      <td>NaN</td>\n",
       "      <td>NaN</td>\n",
       "      <td>NaN</td>\n",
       "      <td>1367.0</td>\n",
       "      <td>NaN</td>\n",
       "      <td>NaN</td>\n",
       "      <td>NaN</td>\n",
       "      <td>35.0</td>\n",
       "      <td>Johnson&amp;Johnson, Oxford/AstraZeneca, Pfizer/Bi...</td>\n",
       "      <td>World Health Organization</td>\n",
       "      <td>https://covid19.who.int/</td>\n",
       "    </tr>\n",
       "  </tbody>\n",
       "</table>\n",
       "</div>"
      ],
      "text/plain": [
       "       Country iso_code        Date  Total_No_Of_vaccinations  \\\n",
       "0  Afghanistan      AFG  22/02/2021                       0.0   \n",
       "1  Afghanistan      AFG  23/02/2021                       NaN   \n",
       "2  Afghanistan      AFG  24/02/2021                       NaN   \n",
       "3  Afghanistan      AFG  25/02/2021                       NaN   \n",
       "4  Afghanistan      AFG  26/02/2021                       NaN   \n",
       "\n",
       "   Total_No_People_Vaccinated  Total_No_Of_People_Fully_Vaccinated  \\\n",
       "0                         0.0                                  NaN   \n",
       "1                         NaN                                  NaN   \n",
       "2                         NaN                                  NaN   \n",
       "3                         NaN                                  NaN   \n",
       "4                         NaN                                  NaN   \n",
       "\n",
       "   daily_vaccinations_raw  daily_vaccinations  total_vaccinations_per_hundred  \\\n",
       "0                     NaN                 NaN                             0.0   \n",
       "1                     NaN              1367.0                             NaN   \n",
       "2                     NaN              1367.0                             NaN   \n",
       "3                     NaN              1367.0                             NaN   \n",
       "4                     NaN              1367.0                             NaN   \n",
       "\n",
       "   Total_No_People_Vaccinated_Per_Hundred  \\\n",
       "0                                     0.0   \n",
       "1                                     NaN   \n",
       "2                                     NaN   \n",
       "3                                     NaN   \n",
       "4                                     NaN   \n",
       "\n",
       "   Total_No_OF_People_Fully_Vaccinated_Per_Hundred  \\\n",
       "0                                              NaN   \n",
       "1                                              NaN   \n",
       "2                                              NaN   \n",
       "3                                              NaN   \n",
       "4                                              NaN   \n",
       "\n",
       "   daily_vaccinations_per_million  \\\n",
       "0                             NaN   \n",
       "1                            35.0   \n",
       "2                            35.0   \n",
       "3                            35.0   \n",
       "4                            35.0   \n",
       "\n",
       "                                            vaccines  \\\n",
       "0  Johnson&Johnson, Oxford/AstraZeneca, Pfizer/Bi...   \n",
       "1  Johnson&Johnson, Oxford/AstraZeneca, Pfizer/Bi...   \n",
       "2  Johnson&Johnson, Oxford/AstraZeneca, Pfizer/Bi...   \n",
       "3  Johnson&Johnson, Oxford/AstraZeneca, Pfizer/Bi...   \n",
       "4  Johnson&Johnson, Oxford/AstraZeneca, Pfizer/Bi...   \n",
       "\n",
       "                 source_name            source_website  \n",
       "0  World Health Organization  https://covid19.who.int/  \n",
       "1  World Health Organization  https://covid19.who.int/  \n",
       "2  World Health Organization  https://covid19.who.int/  \n",
       "3  World Health Organization  https://covid19.who.int/  \n",
       "4  World Health Organization  https://covid19.who.int/  "
      ]
     },
     "execution_count": 10,
     "metadata": {},
     "output_type": "execute_result"
    }
   ],
   "source": [
    "df_CVN.head()"
   ]
  },
  {
   "cell_type": "markdown",
   "id": "0945b151",
   "metadata": {},
   "source": [
    "# 3. Data Cleaning"
   ]
  },
  {
   "cell_type": "code",
   "execution_count": 11,
   "id": "001dab80",
   "metadata": {},
   "outputs": [],
   "source": [
    "# Renaming the column names\n",
    "df_CVN.rename(columns = {'Total_No_Of_vaccinations':'Total_Vaccinations',\n",
    "                        'Total_No_People_Vaccinated':'Total_Ppl_Vaccinated', 'Total_No_Of_People_Fully_Vaccinated':'Total_Ppl_Fully_Vaccinated',\n",
    "                         'Total_No_People_Vaccinated_Per_Hundred':'Total_ppl_Vaccinated_Per_Hundred',\n",
    "                         'Total_No_OF_People_Fully_Vaccinated_Per_Hundred':'Total_ppl_Fully_Vaccinated_Per_Hundred'\n",
    "                        }, inplace = True)"
   ]
  },
  {
   "cell_type": "code",
   "execution_count": 12,
   "id": "6b33a908",
   "metadata": {},
   "outputs": [
    {
     "name": "stdout",
     "output_type": "stream",
     "text": [
      "<class 'pandas.core.frame.DataFrame'>\n",
      "RangeIndex: 36063 entries, 0 to 36062\n",
      "Data columns (total 15 columns):\n",
      " #   Column                                  Non-Null Count  Dtype  \n",
      "---  ------                                  --------------  -----  \n",
      " 0   Country                                 36063 non-null  object \n",
      " 1   iso_code                                36063 non-null  object \n",
      " 2   Date                                    36063 non-null  object \n",
      " 3   Total_Vaccinations                      20068 non-null  float64\n",
      " 4   Total_Ppl_Vaccinated                    19150 non-null  float64\n",
      " 5   Total_Ppl_Fully_Vaccinated              16302 non-null  float64\n",
      " 6   daily_vaccinations_raw                  16553 non-null  float64\n",
      " 7   daily_vaccinations                      35825 non-null  float64\n",
      " 8   total_vaccinations_per_hundred          20068 non-null  float64\n",
      " 9   Total_ppl_Vaccinated_Per_Hundred        19150 non-null  float64\n",
      " 10  Total_ppl_Fully_Vaccinated_Per_Hundred  16302 non-null  float64\n",
      " 11  daily_vaccinations_per_million          35825 non-null  float64\n",
      " 12  vaccines                                36063 non-null  object \n",
      " 13  source_name                             36063 non-null  object \n",
      " 14  source_website                          36063 non-null  object \n",
      "dtypes: float64(9), object(6)\n",
      "memory usage: 4.1+ MB\n"
     ]
    }
   ],
   "source": [
    "df_CVN.info()"
   ]
  },
  {
   "cell_type": "code",
   "execution_count": 13,
   "id": "63792051",
   "metadata": {
    "scrolled": true
   },
   "outputs": [
    {
     "data": {
      "text/plain": [
       "Country                                       0\n",
       "iso_code                                      0\n",
       "Date                                          0\n",
       "Total_Vaccinations                        15995\n",
       "Total_Ppl_Vaccinated                      16913\n",
       "Total_Ppl_Fully_Vaccinated                19761\n",
       "daily_vaccinations_raw                    19510\n",
       "daily_vaccinations                          238\n",
       "total_vaccinations_per_hundred            15995\n",
       "Total_ppl_Vaccinated_Per_Hundred          16913\n",
       "Total_ppl_Fully_Vaccinated_Per_Hundred    19761\n",
       "daily_vaccinations_per_million              238\n",
       "vaccines                                      0\n",
       "source_name                                   0\n",
       "source_website                                0\n",
       "dtype: int64"
      ]
     },
     "execution_count": 13,
     "metadata": {},
     "output_type": "execute_result"
    }
   ],
   "source": [
    "# Missing values\n",
    "df_CVN.isnull().sum()"
   ]
  },
  {
   "cell_type": "markdown",
   "id": "752df3d7",
   "metadata": {},
   "source": [
    "We are going to check the relationship between Total_vaccinations(dependent variable) and Total_Ppl_Vaccinated (independent variable) and use them for regression analysis. We have got the strong correlation coefficient for these two variables from task 6.2. and we came up with below hypothesis:\n",
    "\n",
    "If a person gets atleast one dose of vaccine(that is total number of vaccinated people) then the country will be more immune (the total number of vaccinations will also increase)."
   ]
  },
  {
   "cell_type": "code",
   "execution_count": 14,
   "id": "6e98fe8c",
   "metadata": {},
   "outputs": [
    {
     "data": {
      "text/plain": [
       "6722639.042140992"
      ]
     },
     "execution_count": 14,
     "metadata": {},
     "output_type": "execute_result"
    }
   ],
   "source": [
    "# Checking the mean value\n",
    "df_CVN['Total_Ppl_Vaccinated'].mean() \n"
   ]
  },
  {
   "cell_type": "code",
   "execution_count": 15,
   "id": "4054dbb8",
   "metadata": {},
   "outputs": [
    {
     "data": {
      "text/plain": [
       "764670.0"
      ]
     },
     "execution_count": 15,
     "metadata": {},
     "output_type": "execute_result"
    }
   ],
   "source": [
    "# Checking the median value\n",
    "df_CVN['Total_Ppl_Vaccinated'].median() "
   ]
  },
  {
   "cell_type": "code",
   "execution_count": 16,
   "id": "00ba76ec",
   "metadata": {},
   "outputs": [
    {
     "data": {
      "text/plain": [
       "15018775.912896153"
      ]
     },
     "execution_count": 16,
     "metadata": {},
     "output_type": "execute_result"
    }
   ],
   "source": [
    "# Checking the mean value\n",
    "df_CVN['Total_Vaccinations'].mean() "
   ]
  },
  {
   "cell_type": "code",
   "execution_count": 17,
   "id": "923d2878",
   "metadata": {},
   "outputs": [
    {
     "data": {
      "text/plain": [
       "1075853.0"
      ]
     },
     "execution_count": 17,
     "metadata": {},
     "output_type": "execute_result"
    }
   ],
   "source": [
    "# Checking the median value\n",
    "df_CVN['Total_Vaccinations'].median() "
   ]
  },
  {
   "cell_type": "code",
   "execution_count": 18,
   "id": "d1a26a25",
   "metadata": {},
   "outputs": [],
   "source": [
    "# Since regression object throwing error for null values while fiting it into training dataset. \n",
    "# we can remove the null values for regression analysis by creating subset\n",
    "\n",
    "df_Clean = df_CVN[df_CVN['Total_Vaccinations'].notnull() & df_CVN['Total_Ppl_Vaccinated'].notnull()]\n"
   ]
  },
  {
   "cell_type": "code",
   "execution_count": 19,
   "id": "3e994880",
   "metadata": {},
   "outputs": [
    {
     "data": {
      "text/plain": [
       "Country                                      0\n",
       "iso_code                                     0\n",
       "Date                                         0\n",
       "Total_Vaccinations                           0\n",
       "Total_Ppl_Vaccinated                         0\n",
       "Total_Ppl_Fully_Vaccinated                2761\n",
       "daily_vaccinations_raw                    3275\n",
       "daily_vaccinations                         199\n",
       "total_vaccinations_per_hundred               0\n",
       "Total_ppl_Vaccinated_Per_Hundred             0\n",
       "Total_ppl_Fully_Vaccinated_Per_Hundred    2761\n",
       "daily_vaccinations_per_million             199\n",
       "vaccines                                     0\n",
       "source_name                                  0\n",
       "source_website                               0\n",
       "dtype: int64"
      ]
     },
     "execution_count": 19,
     "metadata": {},
     "output_type": "execute_result"
    }
   ],
   "source": [
    "df_Clean.isnull().sum()"
   ]
  },
  {
   "cell_type": "code",
   "execution_count": 20,
   "id": "35b6bbb8",
   "metadata": {},
   "outputs": [],
   "source": [
    "# Checking duplicate records\n",
    "dups = df_Clean.duplicated()"
   ]
  },
  {
   "cell_type": "code",
   "execution_count": 21,
   "id": "086af043",
   "metadata": {},
   "outputs": [
    {
     "data": {
      "text/plain": [
       "(18997,)"
      ]
     },
     "execution_count": 21,
     "metadata": {},
     "output_type": "execute_result"
    }
   ],
   "source": [
    "dups.shape"
   ]
  },
  {
   "cell_type": "markdown",
   "id": "0684cbc1",
   "metadata": {},
   "source": [
    "No duplicate records found"
   ]
  },
  {
   "cell_type": "code",
   "execution_count": 23,
   "id": "48d9c9f3",
   "metadata": {},
   "outputs": [],
   "source": [
    "# Exporting cleaned data set for further analysis\n",
    "df_Clean.to_csv(os.path.join(path, 'Data', 'Prepared_Data', 'country_vaccinations_cleaned.csv'))"
   ]
  },
  {
   "cell_type": "code",
   "execution_count": 24,
   "id": "e76ae721",
   "metadata": {},
   "outputs": [
    {
     "name": "stderr",
     "output_type": "stream",
     "text": [
      "C:\\Users\\Mukund\\anaconda3\\lib\\site-packages\\seaborn\\distributions.py:2557: FutureWarning: `distplot` is a deprecated function and will be removed in a future version. Please adapt your code to use either `displot` (a figure-level function with similar flexibility) or `histplot` (an axes-level function for histograms).\n",
      "  warnings.warn(msg, FutureWarning)\n"
     ]
    },
    {
     "data": {
      "text/plain": [
       "<AxesSubplot:xlabel='Total_Vaccinations', ylabel='Density'>"
      ]
     },
     "execution_count": 24,
     "metadata": {},
     "output_type": "execute_result"
    },
    {
     "data": {
      "image/png": "[encoded data removed]",
      "text/plain": [
       "<Figure size 432x288 with 1 Axes>"
      ]
     },
     "metadata": {
      "needs_background": "light"
     },
     "output_type": "display_data"
    }
   ],
   "source": [
    "# Checking for extreme values\n",
    "sns.distplot(df_Clean['Total_Vaccinations'], bins=5) \n",
    "\n",
    "# Some of the outliers in the high values may need to be removed, but let's try without doing so first."
   ]
  },
  {
   "cell_type": "code",
   "execution_count": 25,
   "id": "008e3e45",
   "metadata": {},
   "outputs": [
    {
     "data": {
      "text/plain": [
       "(18997, 15)"
      ]
     },
     "execution_count": 25,
     "metadata": {},
     "output_type": "execute_result"
    }
   ],
   "source": [
    "df_Clean.shape"
   ]
  },
  {
   "cell_type": "markdown",
   "id": "f7108942",
   "metadata": {},
   "source": [
    "# 4. Data prep for regression analysis"
   ]
  },
  {
   "cell_type": "code",
   "execution_count": 26,
   "id": "97c4e865",
   "metadata": {},
   "outputs": [
    {
     "data": {
      "image/png": "[encoded data removed]",
      "text/plain": [
       "<Figure size 432x288 with 1 Axes>"
      ]
     },
     "metadata": {
      "needs_background": "light"
     },
     "output_type": "display_data"
    }
   ],
   "source": [
    "# Scatterplot using matplotlib to see how chosen variables plot against each other.\n",
    "df_Clean.plot(x = 'Total_Ppl_Vaccinated', y='Total_Vaccinations',style='o') \n",
    "plt.title('Total number of people vaccinated vs Total number of vaccinations')  \n",
    "plt.xlabel('Total_Ppl_Vaccinated')  \n",
    "plt.ylabel('Total_Vaccinations')  \n",
    "plt.show()"
   ]
  },
  {
   "cell_type": "code",
   "execution_count": 27,
   "id": "7643fd02",
   "metadata": {},
   "outputs": [],
   "source": [
    "# Reshaping the variables into NumPy arrays and put them into separate objects.\n",
    "\n",
    "X = df_Clean['Total_Ppl_Vaccinated'].values.reshape(-1,1)\n",
    "y = df_Clean['Total_Vaccinations'].values.reshape(-1,1)"
   ]
  },
  {
   "cell_type": "code",
   "execution_count": 28,
   "id": "da66e563",
   "metadata": {},
   "outputs": [
    {
     "data": {
      "text/plain": [
       "array([[      0.],\n",
       "       [   8200.],\n",
       "       [  54000.],\n",
       "       ...,\n",
       "       [1674710.],\n",
       "       [1707671.],\n",
       "       [1740598.]])"
      ]
     },
     "execution_count": 28,
     "metadata": {},
     "output_type": "execute_result"
    }
   ],
   "source": [
    "X"
   ]
  },
  {
   "cell_type": "code",
   "execution_count": 29,
   "id": "6b169900",
   "metadata": {},
   "outputs": [
    {
     "data": {
      "text/plain": [
       "array([[      0.],\n",
       "       [   8200.],\n",
       "       [  54000.],\n",
       "       ...,\n",
       "       [2473590.],\n",
       "       [2540555.],\n",
       "       [2604265.]])"
      ]
     },
     "execution_count": 29,
     "metadata": {},
     "output_type": "execute_result"
    }
   ],
   "source": [
    "y"
   ]
  },
  {
   "cell_type": "code",
   "execution_count": 30,
   "id": "358840dc",
   "metadata": {},
   "outputs": [],
   "source": [
    "# Split data into a training set and a test set.\n",
    "\n",
    "X_train, X_test, y_train, y_test = train_test_split(X, y, test_size=0.3, random_state=0)"
   ]
  },
  {
   "cell_type": "markdown",
   "id": "83c62d3a",
   "metadata": {},
   "source": [
    "# 5. Regression analysis"
   ]
  },
  {
   "cell_type": "code",
   "execution_count": 31,
   "id": "f2ffc56b",
   "metadata": {},
   "outputs": [],
   "source": [
    "# Creating a regression object.\n",
    "\n",
    "regression_obj = LinearRegression() "
   ]
  },
  {
   "cell_type": "code",
   "execution_count": 32,
   "id": "54667403",
   "metadata": {},
   "outputs": [
    {
     "data": {
      "text/plain": [
       "LinearRegression()"
      ]
     },
     "execution_count": 32,
     "metadata": {},
     "output_type": "execute_result"
    }
   ],
   "source": [
    "# Fit the regression object onto the training set.\n",
    "\n",
    "regression_obj.fit(X_train, y_train)"
   ]
  },
  {
   "cell_type": "code",
   "execution_count": 33,
   "id": "2f3f8ed2",
   "metadata": {},
   "outputs": [],
   "source": [
    "# Predict the values of y using X.\n",
    "\n",
    "y_predicted = regression_obj.predict(X_test)"
   ]
  },
  {
   "cell_type": "code",
   "execution_count": 34,
   "id": "b290f726",
   "metadata": {
    "scrolled": true
   },
   "outputs": [
    {
     "data": {
      "image/png": "[encoded data removed]",
      "text/plain": [
       "<Figure size 432x288 with 1 Axes>"
      ]
     },
     "metadata": {
      "needs_background": "light"
     },
     "output_type": "display_data"
    }
   ],
   "source": [
    "# Create a plot that shows the regression line from the model on the test set.\n",
    "\n",
    "plot_test = plt\n",
    "plot_test.scatter(X_test, y_test, color='gray', s = 15)\n",
    "plot_test.plot(X_test, y_predicted, color='blue', linewidth =3)\n",
    "plot_test.title('Total number of people vaccinated vs Total vaccinations (Test set)')\n",
    "plot_test.xlabel('Total_Ppl_Vaccinated')\n",
    "plot_test.ylabel('Total_Vaccinations')\n",
    "plot_test.show()"
   ]
  },
  {
   "cell_type": "markdown",
   "id": "1b3096d1",
   "metadata": {},
   "source": [
    "The blue line here is regression line and we can see immediately that the linear model represented by the blue regression line  covers most of the data points. As the total number of vaccinated people increases the total number of vaccinations also increases. We can also check the model performance by its summary statistics."
   ]
  },
  {
   "cell_type": "code",
   "execution_count": 35,
   "id": "634bba5f",
   "metadata": {},
   "outputs": [],
   "source": [
    "# Create objects that contain the model summary statistics.\n",
    "\n",
    "rmse = mean_squared_error(y_test, y_predicted) \n",
    "r2 = r2_score(y_test, y_predicted)"
   ]
  },
  {
   "cell_type": "code",
   "execution_count": 36,
   "id": "f075d173",
   "metadata": {},
   "outputs": [
    {
     "name": "stdout",
     "output_type": "stream",
     "text": [
      "Slope: [[1.451484]]\n",
      "Mean squared error:  36890016800022.66\n",
      "R2 score:  0.9709869115628275\n"
     ]
    }
   ],
   "source": [
    "# Print the model summary statistics. This is where you evaluate the performance of the model.\n",
    "\n",
    "print('Slope:' ,regression_obj.coef_)\n",
    "print('Mean squared error: ', rmse)\n",
    "print('R2 score: ', r2)"
   ]
  },
  {
   "cell_type": "markdown",
   "id": "a7a48bee",
   "metadata": {},
   "source": [
    "1. Here a positive slope value indicates a positive relationship (as X rises, so does y).\n",
    "2. Mean squared error value tells you how close a regression line is to a set of points. The larger the distance, the farther away the regression line is from the data points, indicating that the regression line isn’t an accurate representation of the data. and here the MSE value is very high to confirm that this regression may not be the best model to represent this data and can’t accurately predict the relation between the total vaccinations and total number of vaccinated people.\n",
    "3. R2 score explains the variance in the data and it the value is near to 1 then its a good fit."
   ]
  },
  {
   "cell_type": "code",
   "execution_count": 37,
   "id": "01ebc4f7",
   "metadata": {},
   "outputs": [
    {
     "data": {
      "text/plain": [
       "array([[3.65036636e+05],\n",
       "       [1.31153588e+08],\n",
       "       [1.38649528e+06],\n",
       "       ...,\n",
       "       [2.00554015e+06],\n",
       "       [3.36115818e+05],\n",
       "       [1.21305601e+06]])"
      ]
     },
     "execution_count": 37,
     "metadata": {},
     "output_type": "execute_result"
    }
   ],
   "source": [
    "y_predicted"
   ]
  },
  {
   "cell_type": "code",
   "execution_count": 38,
   "id": "0bc08241",
   "metadata": {},
   "outputs": [
    {
     "data": {
      "text/html": [
       "<div>\n",
       "<style scoped>\n",
       "    .dataframe tbody tr th:only-of-type {\n",
       "        vertical-align: middle;\n",
       "    }\n",
       "\n",
       "    .dataframe tbody tr th {\n",
       "        vertical-align: top;\n",
       "    }\n",
       "\n",
       "    .dataframe thead th {\n",
       "        text-align: right;\n",
       "    }\n",
       "</style>\n",
       "<table border=\"1\" class=\"dataframe\">\n",
       "  <thead>\n",
       "    <tr style=\"text-align: right;\">\n",
       "      <th></th>\n",
       "      <th>Actual</th>\n",
       "      <th>Predicted</th>\n",
       "    </tr>\n",
       "  </thead>\n",
       "  <tbody>\n",
       "    <tr>\n",
       "      <th>0</th>\n",
       "      <td>70249.0</td>\n",
       "      <td>3.650366e+05</td>\n",
       "    </tr>\n",
       "    <tr>\n",
       "      <th>1</th>\n",
       "      <td>118886610.0</td>\n",
       "      <td>1.311536e+08</td>\n",
       "    </tr>\n",
       "    <tr>\n",
       "      <th>2</th>\n",
       "      <td>1177187.0</td>\n",
       "      <td>1.386495e+06</td>\n",
       "    </tr>\n",
       "    <tr>\n",
       "      <th>3</th>\n",
       "      <td>396892.0</td>\n",
       "      <td>7.265360e+05</td>\n",
       "    </tr>\n",
       "    <tr>\n",
       "      <th>4</th>\n",
       "      <td>1255970.0</td>\n",
       "      <td>1.365752e+06</td>\n",
       "    </tr>\n",
       "    <tr>\n",
       "      <th>5</th>\n",
       "      <td>251973752.0</td>\n",
       "      <td>2.172279e+08</td>\n",
       "    </tr>\n",
       "    <tr>\n",
       "      <th>6</th>\n",
       "      <td>484003.0</td>\n",
       "      <td>7.383366e+05</td>\n",
       "    </tr>\n",
       "    <tr>\n",
       "      <th>7</th>\n",
       "      <td>12124.0</td>\n",
       "      <td>3.034487e+05</td>\n",
       "    </tr>\n",
       "    <tr>\n",
       "      <th>8</th>\n",
       "      <td>53342673.0</td>\n",
       "      <td>5.443742e+07</td>\n",
       "    </tr>\n",
       "    <tr>\n",
       "      <th>9</th>\n",
       "      <td>2062259.0</td>\n",
       "      <td>2.508105e+06</td>\n",
       "    </tr>\n",
       "    <tr>\n",
       "      <th>10</th>\n",
       "      <td>24581490.0</td>\n",
       "      <td>1.978966e+07</td>\n",
       "    </tr>\n",
       "    <tr>\n",
       "      <th>11</th>\n",
       "      <td>16659793.0</td>\n",
       "      <td>1.863960e+07</td>\n",
       "    </tr>\n",
       "    <tr>\n",
       "      <th>12</th>\n",
       "      <td>36243.0</td>\n",
       "      <td>3.151709e+05</td>\n",
       "    </tr>\n",
       "    <tr>\n",
       "      <th>13</th>\n",
       "      <td>1380174.0</td>\n",
       "      <td>1.543389e+06</td>\n",
       "    </tr>\n",
       "    <tr>\n",
       "      <th>14</th>\n",
       "      <td>497563.0</td>\n",
       "      <td>9.238696e+05</td>\n",
       "    </tr>\n",
       "    <tr>\n",
       "      <th>15</th>\n",
       "      <td>46771.0</td>\n",
       "      <td>3.266638e+05</td>\n",
       "    </tr>\n",
       "    <tr>\n",
       "      <th>16</th>\n",
       "      <td>8600553.0</td>\n",
       "      <td>6.934566e+06</td>\n",
       "    </tr>\n",
       "    <tr>\n",
       "      <th>17</th>\n",
       "      <td>1350245.0</td>\n",
       "      <td>2.245710e+06</td>\n",
       "    </tr>\n",
       "    <tr>\n",
       "      <th>18</th>\n",
       "      <td>12899658.0</td>\n",
       "      <td>1.313146e+07</td>\n",
       "    </tr>\n",
       "    <tr>\n",
       "      <th>19</th>\n",
       "      <td>354307646.0</td>\n",
       "      <td>4.194491e+08</td>\n",
       "    </tr>\n",
       "    <tr>\n",
       "      <th>20</th>\n",
       "      <td>93734.0</td>\n",
       "      <td>3.705363e+05</td>\n",
       "    </tr>\n",
       "    <tr>\n",
       "      <th>21</th>\n",
       "      <td>1486528.0</td>\n",
       "      <td>1.888786e+06</td>\n",
       "    </tr>\n",
       "    <tr>\n",
       "      <th>22</th>\n",
       "      <td>229656.0</td>\n",
       "      <td>5.353494e+05</td>\n",
       "    </tr>\n",
       "    <tr>\n",
       "      <th>23</th>\n",
       "      <td>235239.0</td>\n",
       "      <td>6.244662e+05</td>\n",
       "    </tr>\n",
       "    <tr>\n",
       "      <th>24</th>\n",
       "      <td>5453.0</td>\n",
       "      <td>2.937659e+05</td>\n",
       "    </tr>\n",
       "    <tr>\n",
       "      <th>25</th>\n",
       "      <td>31814.0</td>\n",
       "      <td>3.119399e+05</td>\n",
       "    </tr>\n",
       "    <tr>\n",
       "      <th>26</th>\n",
       "      <td>5091598.0</td>\n",
       "      <td>5.424493e+06</td>\n",
       "    </tr>\n",
       "    <tr>\n",
       "      <th>27</th>\n",
       "      <td>10292188.0</td>\n",
       "      <td>8.028472e+06</td>\n",
       "    </tr>\n",
       "    <tr>\n",
       "      <th>28</th>\n",
       "      <td>30023295.0</td>\n",
       "      <td>3.426041e+07</td>\n",
       "    </tr>\n",
       "    <tr>\n",
       "      <th>29</th>\n",
       "      <td>8108303.0</td>\n",
       "      <td>7.150597e+06</td>\n",
       "    </tr>\n",
       "    <tr>\n",
       "      <th>30</th>\n",
       "      <td>3925778.0</td>\n",
       "      <td>4.471314e+06</td>\n",
       "    </tr>\n",
       "    <tr>\n",
       "      <th>31</th>\n",
       "      <td>108838.0</td>\n",
       "      <td>4.438232e+05</td>\n",
       "    </tr>\n",
       "    <tr>\n",
       "      <th>32</th>\n",
       "      <td>165271.0</td>\n",
       "      <td>5.230684e+05</td>\n",
       "    </tr>\n",
       "    <tr>\n",
       "      <th>33</th>\n",
       "      <td>83110926.0</td>\n",
       "      <td>1.051952e+08</td>\n",
       "    </tr>\n",
       "    <tr>\n",
       "      <th>34</th>\n",
       "      <td>3208844.0</td>\n",
       "      <td>3.010851e+06</td>\n",
       "    </tr>\n",
       "    <tr>\n",
       "      <th>35</th>\n",
       "      <td>60965594.0</td>\n",
       "      <td>5.554390e+07</td>\n",
       "    </tr>\n",
       "    <tr>\n",
       "      <th>36</th>\n",
       "      <td>1254377.0</td>\n",
       "      <td>1.664031e+06</td>\n",
       "    </tr>\n",
       "    <tr>\n",
       "      <th>37</th>\n",
       "      <td>175931.0</td>\n",
       "      <td>4.206967e+05</td>\n",
       "    </tr>\n",
       "    <tr>\n",
       "      <th>38</th>\n",
       "      <td>13670541.0</td>\n",
       "      <td>1.506979e+07</td>\n",
       "    </tr>\n",
       "    <tr>\n",
       "      <th>39</th>\n",
       "      <td>43471.0</td>\n",
       "      <td>3.174468e+05</td>\n",
       "    </tr>\n",
       "    <tr>\n",
       "      <th>40</th>\n",
       "      <td>12916538.0</td>\n",
       "      <td>1.155168e+07</td>\n",
       "    </tr>\n",
       "    <tr>\n",
       "      <th>41</th>\n",
       "      <td>4800931.0</td>\n",
       "      <td>6.300278e+06</td>\n",
       "    </tr>\n",
       "    <tr>\n",
       "      <th>42</th>\n",
       "      <td>6740080.0</td>\n",
       "      <td>5.988269e+06</td>\n",
       "    </tr>\n",
       "    <tr>\n",
       "      <th>43</th>\n",
       "      <td>15951.0</td>\n",
       "      <td>3.090035e+05</td>\n",
       "    </tr>\n",
       "    <tr>\n",
       "      <th>44</th>\n",
       "      <td>533409.0</td>\n",
       "      <td>9.137644e+05</td>\n",
       "    </tr>\n",
       "    <tr>\n",
       "      <th>45</th>\n",
       "      <td>19107959.0</td>\n",
       "      <td>2.386244e+07</td>\n",
       "    </tr>\n",
       "    <tr>\n",
       "      <th>46</th>\n",
       "      <td>38290.0</td>\n",
       "      <td>3.165208e+05</td>\n",
       "    </tr>\n",
       "    <tr>\n",
       "      <th>47</th>\n",
       "      <td>119393.0</td>\n",
       "      <td>3.798331e+05</td>\n",
       "    </tr>\n",
       "    <tr>\n",
       "      <th>48</th>\n",
       "      <td>3051.0</td>\n",
       "      <td>2.902794e+05</td>\n",
       "    </tr>\n",
       "    <tr>\n",
       "      <th>49</th>\n",
       "      <td>2512860.0</td>\n",
       "      <td>2.884524e+06</td>\n",
       "    </tr>\n",
       "  </tbody>\n",
       "</table>\n",
       "</div>"
      ],
      "text/plain": [
       "         Actual     Predicted\n",
       "0       70249.0  3.650366e+05\n",
       "1   118886610.0  1.311536e+08\n",
       "2     1177187.0  1.386495e+06\n",
       "3      396892.0  7.265360e+05\n",
       "4     1255970.0  1.365752e+06\n",
       "5   251973752.0  2.172279e+08\n",
       "6      484003.0  7.383366e+05\n",
       "7       12124.0  3.034487e+05\n",
       "8    53342673.0  5.443742e+07\n",
       "9     2062259.0  2.508105e+06\n",
       "10   24581490.0  1.978966e+07\n",
       "11   16659793.0  1.863960e+07\n",
       "12      36243.0  3.151709e+05\n",
       "13    1380174.0  1.543389e+06\n",
       "14     497563.0  9.238696e+05\n",
       "15      46771.0  3.266638e+05\n",
       "16    8600553.0  6.934566e+06\n",
       "17    1350245.0  2.245710e+06\n",
       "18   12899658.0  1.313146e+07\n",
       "19  354307646.0  4.194491e+08\n",
       "20      93734.0  3.705363e+05\n",
       "21    1486528.0  1.888786e+06\n",
       "22     229656.0  5.353494e+05\n",
       "23     235239.0  6.244662e+05\n",
       "24       5453.0  2.937659e+05\n",
       "25      31814.0  3.119399e+05\n",
       "26    5091598.0  5.424493e+06\n",
       "27   10292188.0  8.028472e+06\n",
       "28   30023295.0  3.426041e+07\n",
       "29    8108303.0  7.150597e+06\n",
       "30    3925778.0  4.471314e+06\n",
       "31     108838.0  4.438232e+05\n",
       "32     165271.0  5.230684e+05\n",
       "33   83110926.0  1.051952e+08\n",
       "34    3208844.0  3.010851e+06\n",
       "35   60965594.0  5.554390e+07\n",
       "36    1254377.0  1.664031e+06\n",
       "37     175931.0  4.206967e+05\n",
       "38   13670541.0  1.506979e+07\n",
       "39      43471.0  3.174468e+05\n",
       "40   12916538.0  1.155168e+07\n",
       "41    4800931.0  6.300278e+06\n",
       "42    6740080.0  5.988269e+06\n",
       "43      15951.0  3.090035e+05\n",
       "44     533409.0  9.137644e+05\n",
       "45   19107959.0  2.386244e+07\n",
       "46      38290.0  3.165208e+05\n",
       "47     119393.0  3.798331e+05\n",
       "48       3051.0  2.902794e+05\n",
       "49    2512860.0  2.884524e+06"
      ]
     },
     "execution_count": 38,
     "metadata": {},
     "output_type": "execute_result"
    }
   ],
   "source": [
    "# Create a dataframe comparing the actual and predicted values of y.\n",
    "\n",
    "data = pd.DataFrame({'Actual': y_test.flatten(), 'Predicted': y_predicted.flatten()})\n",
    "data.head(50)"
   ]
  },
  {
   "cell_type": "markdown",
   "id": "737f2afa",
   "metadata": {},
   "source": [
    "From the above actual and predicted values for total vaccinations, we can see that there is a major difference between these values and with this regression ananlysis, we can say that model wont be useful in explaining the relation between the two variables (total vaccinations and total number of people vaccinated). "
   ]
  },
  {
   "cell_type": "markdown",
   "id": "3836bbed",
   "metadata": {},
   "source": [
    "Compare how the regression fits the training set"
   ]
  },
  {
   "cell_type": "code",
   "execution_count": 39,
   "id": "dd376682",
   "metadata": {},
   "outputs": [],
   "source": [
    "# Predict.\n",
    "\n",
    "y_predicted_train = regression_obj.predict(X_train)"
   ]
  },
  {
   "cell_type": "code",
   "execution_count": 40,
   "id": "1cd55a1d",
   "metadata": {},
   "outputs": [],
   "source": [
    "rmse = mean_squared_error(y_train, y_predicted_train)\n",
    "r2 = r2_score(y_train, y_predicted_train)"
   ]
  },
  {
   "cell_type": "code",
   "execution_count": 41,
   "id": "66cbd230",
   "metadata": {},
   "outputs": [
    {
     "name": "stdout",
     "output_type": "stream",
     "text": [
      "Slope: [[1.451484]]\n",
      "Mean squared error:  36281274573803.65\n",
      "R2 score:  0.971666543814212\n"
     ]
    }
   ],
   "source": [
    "print('Slope:' ,regression_obj.coef_)\n",
    "print('Mean squared error: ', rmse)\n",
    "print('R2 score: ', r2)"
   ]
  },
  {
   "cell_type": "code",
   "execution_count": 43,
   "id": "826db997",
   "metadata": {},
   "outputs": [
    {
     "data": {
      "image/png": "[encoded data removed]",
      "text/plain": [
       "<Figure size 432x288 with 1 Axes>"
      ]
     },
     "metadata": {
      "needs_background": "light"
     },
     "output_type": "display_data"
    }
   ],
   "source": [
    "# Visualizing the training set results.\n",
    "\n",
    "plot_test = plt\n",
    "plot_test.scatter(X_train, y_train, color='green', s = 15)\n",
    "plot_test.plot(X_train, y_predicted_train, color='red', linewidth =3)\n",
    "plot_test.title('Total number of people vaccinated vs Total vaccinations')\n",
    "plot_test.xlabel('Total_Ppl_Vaccinated')\n",
    "plot_test.ylabel('Total_Vaccinations')\n",
    "plot_test.show()"
   ]
  },
  {
   "cell_type": "code",
   "execution_count": 44,
   "id": "b59ebb74",
   "metadata": {},
   "outputs": [
    {
     "data": {
      "text/html": [
       "<div>\n",
       "<style scoped>\n",
       "    .dataframe tbody tr th:only-of-type {\n",
       "        vertical-align: middle;\n",
       "    }\n",
       "\n",
       "    .dataframe tbody tr th {\n",
       "        vertical-align: top;\n",
       "    }\n",
       "\n",
       "    .dataframe thead th {\n",
       "        text-align: right;\n",
       "    }\n",
       "</style>\n",
       "<table border=\"1\" class=\"dataframe\">\n",
       "  <thead>\n",
       "    <tr style=\"text-align: right;\">\n",
       "      <th></th>\n",
       "      <th>Actual</th>\n",
       "      <th>Predicted</th>\n",
       "    </tr>\n",
       "  </thead>\n",
       "  <tbody>\n",
       "    <tr>\n",
       "      <th>0</th>\n",
       "      <td>6060135.0</td>\n",
       "      <td>5.270613e+06</td>\n",
       "    </tr>\n",
       "    <tr>\n",
       "      <th>1</th>\n",
       "      <td>245939.0</td>\n",
       "      <td>6.428275e+05</td>\n",
       "    </tr>\n",
       "    <tr>\n",
       "      <th>2</th>\n",
       "      <td>58255.0</td>\n",
       "      <td>3.704071e+05</td>\n",
       "    </tr>\n",
       "    <tr>\n",
       "      <th>3</th>\n",
       "      <td>242070.0</td>\n",
       "      <td>4.891574e+05</td>\n",
       "    </tr>\n",
       "    <tr>\n",
       "      <th>4</th>\n",
       "      <td>15308.0</td>\n",
       "      <td>2.999521e+05</td>\n",
       "    </tr>\n",
       "    <tr>\n",
       "      <th>5</th>\n",
       "      <td>2800019.0</td>\n",
       "      <td>3.352953e+06</td>\n",
       "    </tr>\n",
       "    <tr>\n",
       "      <th>6</th>\n",
       "      <td>1480949.0</td>\n",
       "      <td>2.070205e+06</td>\n",
       "    </tr>\n",
       "    <tr>\n",
       "      <th>7</th>\n",
       "      <td>46347278.0</td>\n",
       "      <td>4.971084e+07</td>\n",
       "    </tr>\n",
       "    <tr>\n",
       "      <th>8</th>\n",
       "      <td>2901017.0</td>\n",
       "      <td>3.275510e+06</td>\n",
       "    </tr>\n",
       "    <tr>\n",
       "      <th>9</th>\n",
       "      <td>798711.0</td>\n",
       "      <td>1.048578e+06</td>\n",
       "    </tr>\n",
       "    <tr>\n",
       "      <th>10</th>\n",
       "      <td>10761438.0</td>\n",
       "      <td>8.675957e+06</td>\n",
       "    </tr>\n",
       "    <tr>\n",
       "      <th>11</th>\n",
       "      <td>950252.0</td>\n",
       "      <td>1.164142e+06</td>\n",
       "    </tr>\n",
       "    <tr>\n",
       "      <th>12</th>\n",
       "      <td>1809185.0</td>\n",
       "      <td>2.093690e+06</td>\n",
       "    </tr>\n",
       "    <tr>\n",
       "      <th>13</th>\n",
       "      <td>11337070.0</td>\n",
       "      <td>1.063058e+07</td>\n",
       "    </tr>\n",
       "    <tr>\n",
       "      <th>14</th>\n",
       "      <td>71308628.0</td>\n",
       "      <td>5.731563e+07</td>\n",
       "    </tr>\n",
       "    <tr>\n",
       "      <th>15</th>\n",
       "      <td>9416972.0</td>\n",
       "      <td>1.004133e+07</td>\n",
       "    </tr>\n",
       "    <tr>\n",
       "      <th>16</th>\n",
       "      <td>86066.0</td>\n",
       "      <td>3.848073e+05</td>\n",
       "    </tr>\n",
       "    <tr>\n",
       "      <th>17</th>\n",
       "      <td>322306.0</td>\n",
       "      <td>6.447594e+05</td>\n",
       "    </tr>\n",
       "    <tr>\n",
       "      <th>18</th>\n",
       "      <td>104999.0</td>\n",
       "      <td>3.776442e+05</td>\n",
       "    </tr>\n",
       "    <tr>\n",
       "      <th>19</th>\n",
       "      <td>34221338.0</td>\n",
       "      <td>2.676023e+07</td>\n",
       "    </tr>\n",
       "    <tr>\n",
       "      <th>20</th>\n",
       "      <td>371243.0</td>\n",
       "      <td>6.385485e+05</td>\n",
       "    </tr>\n",
       "    <tr>\n",
       "      <th>21</th>\n",
       "      <td>398609.0</td>\n",
       "      <td>7.623267e+05</td>\n",
       "    </tr>\n",
       "    <tr>\n",
       "      <th>22</th>\n",
       "      <td>9095.0</td>\n",
       "      <td>2.967429e+05</td>\n",
       "    </tr>\n",
       "    <tr>\n",
       "      <th>23</th>\n",
       "      <td>11396784.0</td>\n",
       "      <td>1.182771e+07</td>\n",
       "    </tr>\n",
       "    <tr>\n",
       "      <th>24</th>\n",
       "      <td>1045201.0</td>\n",
       "      <td>1.640789e+06</td>\n",
       "    </tr>\n",
       "    <tr>\n",
       "      <th>25</th>\n",
       "      <td>2487242.0</td>\n",
       "      <td>2.916883e+06</td>\n",
       "    </tr>\n",
       "    <tr>\n",
       "      <th>26</th>\n",
       "      <td>53842.0</td>\n",
       "      <td>3.640017e+05</td>\n",
       "    </tr>\n",
       "    <tr>\n",
       "      <th>27</th>\n",
       "      <td>424784.0</td>\n",
       "      <td>9.024181e+05</td>\n",
       "    </tr>\n",
       "    <tr>\n",
       "      <th>28</th>\n",
       "      <td>919753.0</td>\n",
       "      <td>1.620858e+06</td>\n",
       "    </tr>\n",
       "    <tr>\n",
       "      <th>29</th>\n",
       "      <td>1944927.0</td>\n",
       "      <td>1.900476e+06</td>\n",
       "    </tr>\n",
       "    <tr>\n",
       "      <th>30</th>\n",
       "      <td>26665528.0</td>\n",
       "      <td>2.377702e+07</td>\n",
       "    </tr>\n",
       "    <tr>\n",
       "      <th>31</th>\n",
       "      <td>4098728.0</td>\n",
       "      <td>3.585888e+06</td>\n",
       "    </tr>\n",
       "    <tr>\n",
       "      <th>32</th>\n",
       "      <td>6405554.0</td>\n",
       "      <td>8.940388e+06</td>\n",
       "    </tr>\n",
       "    <tr>\n",
       "      <th>33</th>\n",
       "      <td>20289780.0</td>\n",
       "      <td>2.289404e+07</td>\n",
       "    </tr>\n",
       "    <tr>\n",
       "      <th>34</th>\n",
       "      <td>1493465.0</td>\n",
       "      <td>1.803962e+06</td>\n",
       "    </tr>\n",
       "    <tr>\n",
       "      <th>35</th>\n",
       "      <td>472223639.0</td>\n",
       "      <td>5.344241e+08</td>\n",
       "    </tr>\n",
       "    <tr>\n",
       "      <th>36</th>\n",
       "      <td>470976.0</td>\n",
       "      <td>9.694651e+05</td>\n",
       "    </tr>\n",
       "    <tr>\n",
       "      <th>37</th>\n",
       "      <td>225900.0</td>\n",
       "      <td>5.658146e+05</td>\n",
       "    </tr>\n",
       "    <tr>\n",
       "      <th>38</th>\n",
       "      <td>2381429.0</td>\n",
       "      <td>3.091128e+06</td>\n",
       "    </tr>\n",
       "    <tr>\n",
       "      <th>39</th>\n",
       "      <td>7337187.0</td>\n",
       "      <td>8.237180e+06</td>\n",
       "    </tr>\n",
       "    <tr>\n",
       "      <th>40</th>\n",
       "      <td>14543.0</td>\n",
       "      <td>3.051861e+05</td>\n",
       "    </tr>\n",
       "    <tr>\n",
       "      <th>41</th>\n",
       "      <td>36998897.0</td>\n",
       "      <td>3.564234e+07</td>\n",
       "    </tr>\n",
       "    <tr>\n",
       "      <th>42</th>\n",
       "      <td>582747.0</td>\n",
       "      <td>1.002131e+06</td>\n",
       "    </tr>\n",
       "    <tr>\n",
       "      <th>43</th>\n",
       "      <td>181544536.0</td>\n",
       "      <td>2.051369e+08</td>\n",
       "    </tr>\n",
       "    <tr>\n",
       "      <th>44</th>\n",
       "      <td>11292864.0</td>\n",
       "      <td>1.165382e+07</td>\n",
       "    </tr>\n",
       "    <tr>\n",
       "      <th>45</th>\n",
       "      <td>38192.0</td>\n",
       "      <td>3.151462e+05</td>\n",
       "    </tr>\n",
       "    <tr>\n",
       "      <th>46</th>\n",
       "      <td>172406.0</td>\n",
       "      <td>4.289556e+05</td>\n",
       "    </tr>\n",
       "    <tr>\n",
       "      <th>47</th>\n",
       "      <td>176467.0</td>\n",
       "      <td>4.308847e+05</td>\n",
       "    </tr>\n",
       "    <tr>\n",
       "      <th>48</th>\n",
       "      <td>912874.0</td>\n",
       "      <td>1.058367e+06</td>\n",
       "    </tr>\n",
       "    <tr>\n",
       "      <th>49</th>\n",
       "      <td>49455025.0</td>\n",
       "      <td>3.949468e+07</td>\n",
       "    </tr>\n",
       "  </tbody>\n",
       "</table>\n",
       "</div>"
      ],
      "text/plain": [
       "         Actual     Predicted\n",
       "0     6060135.0  5.270613e+06\n",
       "1      245939.0  6.428275e+05\n",
       "2       58255.0  3.704071e+05\n",
       "3      242070.0  4.891574e+05\n",
       "4       15308.0  2.999521e+05\n",
       "5     2800019.0  3.352953e+06\n",
       "6     1480949.0  2.070205e+06\n",
       "7    46347278.0  4.971084e+07\n",
       "8     2901017.0  3.275510e+06\n",
       "9      798711.0  1.048578e+06\n",
       "10   10761438.0  8.675957e+06\n",
       "11     950252.0  1.164142e+06\n",
       "12    1809185.0  2.093690e+06\n",
       "13   11337070.0  1.063058e+07\n",
       "14   71308628.0  5.731563e+07\n",
       "15    9416972.0  1.004133e+07\n",
       "16      86066.0  3.848073e+05\n",
       "17     322306.0  6.447594e+05\n",
       "18     104999.0  3.776442e+05\n",
       "19   34221338.0  2.676023e+07\n",
       "20     371243.0  6.385485e+05\n",
       "21     398609.0  7.623267e+05\n",
       "22       9095.0  2.967429e+05\n",
       "23   11396784.0  1.182771e+07\n",
       "24    1045201.0  1.640789e+06\n",
       "25    2487242.0  2.916883e+06\n",
       "26      53842.0  3.640017e+05\n",
       "27     424784.0  9.024181e+05\n",
       "28     919753.0  1.620858e+06\n",
       "29    1944927.0  1.900476e+06\n",
       "30   26665528.0  2.377702e+07\n",
       "31    4098728.0  3.585888e+06\n",
       "32    6405554.0  8.940388e+06\n",
       "33   20289780.0  2.289404e+07\n",
       "34    1493465.0  1.803962e+06\n",
       "35  472223639.0  5.344241e+08\n",
       "36     470976.0  9.694651e+05\n",
       "37     225900.0  5.658146e+05\n",
       "38    2381429.0  3.091128e+06\n",
       "39    7337187.0  8.237180e+06\n",
       "40      14543.0  3.051861e+05\n",
       "41   36998897.0  3.564234e+07\n",
       "42     582747.0  1.002131e+06\n",
       "43  181544536.0  2.051369e+08\n",
       "44   11292864.0  1.165382e+07\n",
       "45      38192.0  3.151462e+05\n",
       "46     172406.0  4.289556e+05\n",
       "47     176467.0  4.308847e+05\n",
       "48     912874.0  1.058367e+06\n",
       "49   49455025.0  3.949468e+07"
      ]
     },
     "execution_count": 44,
     "metadata": {},
     "output_type": "execute_result"
    }
   ],
   "source": [
    "# Create a dataframe comparing the actual and predicted values of y for train.\n",
    "\n",
    "data = pd.DataFrame({'Actual': y_train.flatten(), 'Predicted': y_predicted_train.flatten()})\n",
    "data.head(50)"
   ]
  },
  {
   "cell_type": "markdown",
   "id": "16c23e8e",
   "metadata": {},
   "source": [
    "with the train data set as well, we can see the same prediction for the y values."
   ]
  }
 ],
 "metadata": {
  "kernelspec": {
   "display_name": "Python 3",
   "language": "python",
   "name": "python3"
  },
  "language_info": {
   "codemirror_mode": {
    "name": "ipython",
    "version": 3
   },
   "file_extension": ".py",
   "mimetype": "text/x-python",
   "name": "python",
   "nbconvert_exporter": "python",
   "pygments_lexer": "ipython3",
   "version": "3.8.8"
  }
 },
 "nbformat": 4,
 "nbformat_minor": 5
}
